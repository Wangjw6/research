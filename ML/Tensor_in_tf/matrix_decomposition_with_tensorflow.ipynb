{
 "cells": [
  {
   "cell_type": "code",
   "execution_count": 1,
   "metadata": {},
   "outputs": [
    {
     "name": "stdout",
     "output_type": "stream",
     "text": [
      "(214, 61, 144)\n",
      "(214, 8784)\n"
     ]
    },
    {
     "name": "stderr",
     "output_type": "stream",
     "text": [
      "Using numpy backend.\n"
     ]
    }
   ],
   "source": [
    "import numpy as np\n",
    "import tensorflow as tf\n",
    "import scipy.io\n",
    "import tensorly as ts\n",
    "import os\n",
    "os.chdir(\"G:/jupyter/Guangzhou-data-set\")\n",
    "tensor = scipy.io.loadmat('tensor.mat')\n",
    "tensor = tensor['tensor']\n",
    "# random_matrix = scipy.io.loadmat('Guangzhou-data-set/random_matrix.mat')\n",
    "# random_matrix = random_matrix['random_matrix']\n",
    "# random_tensor = scipy.io.loadmat('Guangzhou-data-set/random_tensor.mat')\n",
    "# random_tensor = random_tensor['random_tensor']\n",
    "\n",
    "tensor = np.array(tensor)\n",
    "print(tensor.shape)\n",
    "tensor = tensor.reshape(214,-1)\n",
    "print(tensor.shape)"
   ]
  },
  {
   "cell_type": "code",
   "execution_count": 2,
   "metadata": {},
   "outputs": [
    {
     "name": "stdout",
     "output_type": "stream",
     "text": [
      "(214, 8784)\n",
      "(214, 8784)\n",
      "(214, 8784)\n"
     ]
    }
   ],
   "source": [
    "missing_rate = 0.1\n",
    "condition = np.random.binomial(1, 1-missing_rate, np.shape(tensor)[0]*np.shape(tensor)[1])\n",
    "condition = np.reshape(condition,(np.shape(tensor)[0],np.shape(tensor)[1]))\n",
    "mask = np.where(condition<1,0.,1.)\n",
    "print(mask.shape)\n",
    "sparse_tensor = np.multiply(tensor, mask)\n",
    "print(sparse_tensor.shape)\n",
    "\n",
    "mean = (np.sum(sparse_tensor)*1.0/np.sum(mask))\n",
    "init_tensor = sparse_tensor\n",
    "init_tensor[init_tensor==0] = mean\n",
    "print(init_tensor.shape)"
   ]
  },
  {
   "cell_type": "code",
   "execution_count": 3,
   "metadata": {},
   "outputs": [],
   "source": [
    "dim = tensor.shape\n",
    "rank1 = 150\n",
    "rank2 = 8000\n",
    "tf.reset_default_graph()\n",
    "\n",
    "init_tensor_holder = tf.placeholder(tf.float32, shape=[dim[0], dim[1]]) \n",
    "sparse_tensor_holder = tf.placeholder(tf.float32, shape=[dim[0], dim[1]])    \n",
    "tensor_holder = tf.placeholder(tf.float32, shape=[dim[0], dim[1]])  \n",
    "mask_tensor_holder =  tf.placeholder(tf.float32, shape=[dim[0], dim[1]])\n",
    "\n",
    "sess = tf.Session()\n",
    "\n",
    "su, uu, vu = tf.svd(init_tensor_holder)\n",
    "\n",
    "uu = uu[:,0:rank1]\n",
    "vu = tf.transpose(vu[:,0:rank1])\n",
    "\n",
    "# initialzation construction\n",
    "U_,V_=sess.run([uu,vu], feed_dict={init_tensor_holder:init_tensor})\n",
    "\n",
    "U = tf.Variable(U_)\n",
    "V = tf.Variable(V_)\n",
    "\n",
    "\n",
    "Train_Param=[U,V]\n",
    "\n",
    "impute_tensor = tf.matmul(U, V)"
   ]
  },
  {
   "cell_type": "code",
   "execution_count": 12,
   "metadata": {},
   "outputs": [],
   "source": [
    "# loss function\n",
    "\n",
    "loss = tf.reduce_mean((mask_tensor_holder * tensor_holder - mask_tensor_holder * impute_tensor) ** 2)\n",
    "loss_evaluation = tf.reduce_sum(( (1.-mask_tensor_holder)*tensor_holder - (1.-mask_tensor_holder) * impute_tensor)  ** 2) / (tf.math.reduce_sum(1.-mask_tensor_holder))\n",
    "loss_all = tf.reduce_mean((tensor_holder - impute_tensor) ** 2)\n",
    "# r_g = tf.contrib.layers.l1_regularizer(scale=0.00001, scope=None)\n",
    "# weights = tf.trainable_variables()\n",
    "# r1 = tf.contrib.layers.apply_regularization(r_g, weights)\n",
    "loss_reg = loss\n",
    "\n",
    "solver = tf.train.AdamOptimizer(0.02).minimize(loss_reg, var_list=Train_Param)"
   ]
  },
  {
   "cell_type": "code",
   "execution_count": 13,
   "metadata": {},
   "outputs": [
    {
     "name": "stdout",
     "output_type": "stream",
     "text": [
      "epoch = 0\n",
      "TRAIN RMSE = 38.1451\n",
      "TEST RMSE = 40.2674\n",
      "Overall RMSE = 40.2154\n",
      "-------------------------------------------------\n",
      "epoch = 100\n",
      "TRAIN RMSE = 5.81588\n",
      "TEST RMSE = 6.19511\n",
      "Overall RMSE = 6.13707\n",
      "-------------------------------------------------\n",
      "epoch = 200\n",
      "TRAIN RMSE = 4.80489\n",
      "TEST RMSE = 5.29221\n",
      "Overall RMSE = 5.08809\n",
      "-------------------------------------------------\n",
      "epoch = 300\n",
      "TRAIN RMSE = 3.98956\n",
      "TEST RMSE = 4.57824\n",
      "Overall RMSE = 4.24421\n",
      "-------------------------------------------------\n",
      "epoch = 400\n",
      "TRAIN RMSE = 3.40926\n",
      "TEST RMSE = 4.29365\n",
      "Overall RMSE = 3.66977\n",
      "-------------------------------------------------\n",
      "epoch = 500\n",
      "TRAIN RMSE = 2.78292\n",
      "TEST RMSE = 4.14201\n",
      "Overall RMSE = 3.07586\n",
      "-------------------------------------------------\n",
      "epoch = 600\n",
      "TRAIN RMSE = 2.17008\n",
      "TEST RMSE = 4.07568\n",
      "Overall RMSE = 2.52408\n",
      "-------------------------------------------------\n",
      "epoch = 700\n",
      "TRAIN RMSE = 1.69862\n",
      "TEST RMSE = 4.06116\n",
      "Overall RMSE = 2.12962\n",
      "-------------------------------------------------\n"
     ]
    },
    {
     "ename": "KeyboardInterrupt",
     "evalue": "",
     "output_type": "error",
     "traceback": [
      "\u001b[1;31m---------------------------------------------------------------------------\u001b[0m",
      "\u001b[1;31mKeyboardInterrupt\u001b[0m                         Traceback (most recent call last)",
      "\u001b[1;32m<ipython-input-13-9fdb1442eb56>\u001b[0m in \u001b[0;36m<module>\u001b[1;34m\u001b[0m\n\u001b[0;32m      4\u001b[0m     _, loss_reg_,it = sess.run([solver, loss_reg, impute_tensor], feed_dict = \n\u001b[0;32m      5\u001b[0m                            {mask_tensor_holder: mask, sparse_tensor_holder: sparse_tensor, \n\u001b[1;32m----> 6\u001b[1;33m                             tensor_holder:tensor})\n\u001b[0m\u001b[0;32m      7\u001b[0m     \u001b[1;32mif\u001b[0m \u001b[0mi\u001b[0m \u001b[1;33m%\u001b[0m \u001b[1;36m100\u001b[0m\u001b[1;33m==\u001b[0m\u001b[1;36m0\u001b[0m\u001b[1;33m:\u001b[0m\u001b[1;33m\u001b[0m\u001b[0m\n\u001b[0;32m      8\u001b[0m         imputation_result,loss_eval,loss_train,loss_all_ = sess.run([impute_tensor,loss_evaluation,loss,loss_all], feed_dict =\n",
      "\u001b[1;32md:\\python35\\lib\\site-packages\\tensorflow\\python\\client\\session.py\u001b[0m in \u001b[0;36mrun\u001b[1;34m(self, fetches, feed_dict, options, run_metadata)\u001b[0m\n\u001b[0;32m    927\u001b[0m     \u001b[1;32mtry\u001b[0m\u001b[1;33m:\u001b[0m\u001b[1;33m\u001b[0m\u001b[0m\n\u001b[0;32m    928\u001b[0m       result = self._run(None, fetches, feed_dict, options_ptr,\n\u001b[1;32m--> 929\u001b[1;33m                          run_metadata_ptr)\n\u001b[0m\u001b[0;32m    930\u001b[0m       \u001b[1;32mif\u001b[0m \u001b[0mrun_metadata\u001b[0m\u001b[1;33m:\u001b[0m\u001b[1;33m\u001b[0m\u001b[0m\n\u001b[0;32m    931\u001b[0m         \u001b[0mproto_data\u001b[0m \u001b[1;33m=\u001b[0m \u001b[0mtf_session\u001b[0m\u001b[1;33m.\u001b[0m\u001b[0mTF_GetBuffer\u001b[0m\u001b[1;33m(\u001b[0m\u001b[0mrun_metadata_ptr\u001b[0m\u001b[1;33m)\u001b[0m\u001b[1;33m\u001b[0m\u001b[0m\n",
      "\u001b[1;32md:\\python35\\lib\\site-packages\\tensorflow\\python\\client\\session.py\u001b[0m in \u001b[0;36m_run\u001b[1;34m(self, handle, fetches, feed_dict, options, run_metadata)\u001b[0m\n\u001b[0;32m   1119\u001b[0m             \u001b[0mfeed_handles\u001b[0m\u001b[1;33m[\u001b[0m\u001b[0msubfeed_t\u001b[0m\u001b[1;33m]\u001b[0m \u001b[1;33m=\u001b[0m \u001b[0msubfeed_val\u001b[0m\u001b[1;33m\u001b[0m\u001b[0m\n\u001b[0;32m   1120\u001b[0m           \u001b[1;32melse\u001b[0m\u001b[1;33m:\u001b[0m\u001b[1;33m\u001b[0m\u001b[0m\n\u001b[1;32m-> 1121\u001b[1;33m             \u001b[0mnp_val\u001b[0m \u001b[1;33m=\u001b[0m \u001b[0mnp\u001b[0m\u001b[1;33m.\u001b[0m\u001b[0masarray\u001b[0m\u001b[1;33m(\u001b[0m\u001b[0msubfeed_val\u001b[0m\u001b[1;33m,\u001b[0m \u001b[0mdtype\u001b[0m\u001b[1;33m=\u001b[0m\u001b[0msubfeed_dtype\u001b[0m\u001b[1;33m)\u001b[0m\u001b[1;33m\u001b[0m\u001b[0m\n\u001b[0m\u001b[0;32m   1122\u001b[0m \u001b[1;33m\u001b[0m\u001b[0m\n\u001b[0;32m   1123\u001b[0m           if (not is_tensor_handle_feed and\n",
      "\u001b[1;32md:\\python35\\lib\\site-packages\\numpy\\core\\numeric.py\u001b[0m in \u001b[0;36masarray\u001b[1;34m(a, dtype, order)\u001b[0m\n\u001b[0;32m    536\u001b[0m \u001b[1;33m\u001b[0m\u001b[0m\n\u001b[0;32m    537\u001b[0m     \"\"\"\n\u001b[1;32m--> 538\u001b[1;33m     \u001b[1;32mreturn\u001b[0m \u001b[0marray\u001b[0m\u001b[1;33m(\u001b[0m\u001b[0ma\u001b[0m\u001b[1;33m,\u001b[0m \u001b[0mdtype\u001b[0m\u001b[1;33m,\u001b[0m \u001b[0mcopy\u001b[0m\u001b[1;33m=\u001b[0m\u001b[1;32mFalse\u001b[0m\u001b[1;33m,\u001b[0m \u001b[0morder\u001b[0m\u001b[1;33m=\u001b[0m\u001b[0morder\u001b[0m\u001b[1;33m)\u001b[0m\u001b[1;33m\u001b[0m\u001b[0m\n\u001b[0m\u001b[0;32m    539\u001b[0m \u001b[1;33m\u001b[0m\u001b[0m\n\u001b[0;32m    540\u001b[0m \u001b[1;33m\u001b[0m\u001b[0m\n",
      "\u001b[1;31mKeyboardInterrupt\u001b[0m: "
     ]
    }
   ],
   "source": [
    "sess.run(tf.global_variables_initializer())\n",
    "\n",
    "for i in range(50000):\n",
    "    _, loss_reg_,it = sess.run([solver, loss_reg, impute_tensor], feed_dict = \n",
    "                           {mask_tensor_holder: mask, sparse_tensor_holder: sparse_tensor, \n",
    "                            tensor_holder:tensor})\n",
    "    if i % 100==0:\n",
    "        imputation_result,loss_eval,loss_train,loss_all_ = sess.run([impute_tensor,loss_evaluation,loss,loss_all], feed_dict =\n",
    "                                     {mask_tensor_holder: mask, sparse_tensor_holder: sparse_tensor, \n",
    "                                      tensor_holder:tensor})\n",
    "        \n",
    "        print('epoch = {:}'.format(i))\n",
    "        print('TRAIN RMSE = {:.6}'.format(np.sqrt(loss_train)))\n",
    "        print('TEST RMSE = {:.6}'.format(np.sqrt(loss_eval)))\n",
    "        print('Overall RMSE = {:.6}'.format(np.sqrt(loss_all_)))\n",
    "        print('-------------------------------------------------')\n",
    "\n",
    "        "
   ]
  },
  {
   "cell_type": "code",
   "execution_count": 12,
   "metadata": {},
   "outputs": [
    {
     "name": "stdout",
     "output_type": "stream",
     "text": [
      "Tensor(\"Svd_2:0\", shape=(214,), dtype=float32)\n",
      "Tensor(\"Svd_2:1\", shape=(214, 214), dtype=float32)\n",
      "Tensor(\"Svd_2:2\", shape=(8784, 214), dtype=float32)\n"
     ]
    }
   ],
   "source": [
    "su, uu, vu = tf.svd(init_tensor_holder)\n",
    "print(su)\n",
    "print(uu)\n",
    "print(vu)"
   ]
  },
  {
   "cell_type": "code",
   "execution_count": null,
   "metadata": {},
   "outputs": [],
   "source": []
  }
 ],
 "metadata": {
  "kernelspec": {
   "display_name": "Python 3",
   "language": "python",
   "name": "python3"
  },
  "language_info": {
   "codemirror_mode": {
    "name": "ipython",
    "version": 3
   },
   "file_extension": ".py",
   "mimetype": "text/x-python",
   "name": "python",
   "nbconvert_exporter": "python",
   "pygments_lexer": "ipython3",
   "version": "3.5.4"
  }
 },
 "nbformat": 4,
 "nbformat_minor": 2
}
