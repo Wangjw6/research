{
 "cells": [
  {
   "cell_type": "markdown",
   "metadata": {},
   "source": [
    "# A simple notes on using TensorFlow to  realize tensor computation"
   ]
  },
  {
   "cell_type": "code",
   "execution_count": 2,
   "metadata": {},
   "outputs": [],
   "source": [
    "import tensorflow as tf\n",
    "import numpy as np\n",
    "sess=tf.Session()"
   ]
  },
  {
   "cell_type": "markdown",
   "metadata": {},
   "source": [
    "## 1. Kronecker product"
   ]
  },
  {
   "cell_type": "markdown",
   "metadata": {},
   "source": [
    "$ A \\otimes B=\\begin{bmatrix}\n",
    "    a_{11}B & a_{12}B & a_{13}B & \\dots  & a_{1n}B \\\\\n",
    "    a_{21}B & a_{22}B & a_{23}B & \\dots  & a_{2n}B \\\\\n",
    "    \\vdots & \\vdots & \\vdots & \\ddots & \\vdots \\\\\n",
    "    a_{d1}B & a_{d2}B & a_{d3}B & \\dots  & a_{dn}B\n",
    "\\end{bmatrix}$"
   ]
  },
  {
   "cell_type": "code",
   "execution_count": 3,
   "metadata": {},
   "outputs": [
    {
     "name": "stdout",
     "output_type": "stream",
     "text": [
      "[[ 5  6  7 10 12 14]\n",
      " [ 8  9 10 16 18 20]\n",
      " [15 18 21 20 24 28]\n",
      " [24 27 30 32 36 40]]\n"
     ]
    }
   ],
   "source": [
    "A0 = np.array([[1,2],[3,4]])\n",
    "B0 = np.array([[5,6,7],[8,9,10]])\n",
    "A = tf.placeholder(tf.float32, shape=[A0.shape[0],A0.shape[1]])\n",
    "B = tf.placeholder(tf.float32, shape=[B0.shape[0],B0.shape[1]])\n",
    "\n",
    "Cnp = np.kron(A0, B0)\n",
    "print(Cnp)"
   ]
  },
  {
   "cell_type": "code",
   "execution_count": 4,
   "metadata": {
    "scrolled": true
   },
   "outputs": [
    {
     "name": "stdout",
     "output_type": "stream",
     "text": [
      "[[ 5.  6.  7. 10. 12. 14.]\n",
      " [ 8.  9. 10. 16. 18. 20.]\n",
      " [15. 18. 21. 20. 24. 28.]\n",
      " [24. 27. 30. 32. 36. 40.]]\n"
     ]
    }
   ],
   "source": [
    "def Kron_TF(A, B):\n",
    "    A_shape = A.get_shape()\n",
    "    B_shape = B.get_shape()\n",
    "    \n",
    "    for i in range(A_shape[0]):\n",
    "        for j in range(A_shape[1]):\n",
    "            if j==0:\n",
    "                temp = tf.squeeze(A[i,j]*B)\n",
    "             \n",
    "            else:\n",
    "                temp = tf.concat([temp,tf.squeeze(A[i,j]*B)],1)\n",
    "        if i==0:\n",
    "            result = temp\n",
    "        else:\n",
    "            result = tf.concat([result,temp],0)\n",
    "    return result\n",
    "\n",
    "sess=tf.Session()\n",
    "kron = Kron_TF(A,B)\n",
    "print(sess.run(kron,feed_dict={A:A0,B:B0}))\n"
   ]
  },
  {
   "cell_type": "markdown",
   "metadata": {},
   "source": [
    "## 2. Khatri-Rao product"
   ]
  },
  {
   "cell_type": "markdown",
   "metadata": {},
   "source": [
    "$A \\odot B=(\\overrightarrow{a_{1}}\\otimes \\overrightarrow{b_{1}}，\\overrightarrow{a_{2}}\\otimes \\overrightarrow{b_{2}}，\\overrightarrow{a_{3}}\\otimes \\overrightarrow{b_{3}},\\dots，\\overrightarrow{a_{k}}\\otimes \\overrightarrow{b_k})$"
   ]
  },
  {
   "cell_type": "code",
   "execution_count": 5,
   "metadata": {},
   "outputs": [
    {
     "name": "stdout",
     "output_type": "stream",
     "text": [
      "[[ 5. 12.]\n",
      " [ 7. 16.]\n",
      " [ 9. 20.]\n",
      " [15. 24.]\n",
      " [21. 32.]\n",
      " [27. 40.]]\n"
     ]
    }
   ],
   "source": [
    "def KhRao_TF(A,B):\n",
    "    A_shape = A.get_shape()\n",
    "    B_shape = B.get_shape()\n",
    "    for i in range(A_shape[1]):\n",
    "        if i==0:\n",
    "            result = tf.expand_dims(Kron_TF(tf.expand_dims(A[:,i],1),tf.expand_dims([B[:,i]],1)),1)\n",
    "        else:\n",
    "            result = tf.concat([result,tf.expand_dims(Kron_TF(tf.expand_dims(A[:,i],1),tf.expand_dims([B[:,i]],1)),1)],1)\n",
    "    return result\n",
    "\n",
    "sess=tf.Session()\n",
    "A0 = np.array([[1,2],[3,4]])\n",
    "B0 = np.array([[5,6],[7,8],[9,10]])\n",
    "A = tf.placeholder(tf.float32, shape=[A0.shape[0],A0.shape[1]])\n",
    "B = tf.placeholder(tf.float32, shape=[B0.shape[0],B0.shape[1]])\n",
    "\n",
    "khrao = KhRao_TF(A,B)\n",
    "print(sess.run(khrao,feed_dict={A:A0,B:B0}))"
   ]
  },
  {
   "cell_type": "markdown",
   "metadata": {},
   "source": [
    "## 3. Vector outer product"
   ]
  },
  {
   "cell_type": "markdown",
   "metadata": {},
   "source": [
    "$\\overrightarrow{a}\\circ \\overrightarrow{b}=\\overrightarrow{a} \\overrightarrow{b}^{T}$"
   ]
  },
  {
   "cell_type": "code",
   "execution_count": 6,
   "metadata": {},
   "outputs": [
    {
     "name": "stdout",
     "output_type": "stream",
     "text": [
      "(2, 2)\n",
      "[[3. 4.]\n",
      " [6. 8.]]\n"
     ]
    }
   ],
   "source": [
    "a0 = np.array([[1],[2]])\n",
    "b0 = np.array([[3],[4]])\n",
    "c0 = np.array([[5],[6],[7]])\n",
    "a = tf.placeholder(tf.float32, shape=[None,1])\n",
    "b = tf.placeholder(tf.float32, shape=[None,1])\n",
    "c = tf.placeholder(tf.float32, shape=[None,1])\n",
    "\n",
    "# vector outer product\n",
    "M = tf.squeeze(tf.tensordot(a, b, axes=0))\n",
    "M_ = sess.run(M, feed_dict={a:a0,b:b0})\n",
    "print(M_.shape)\n",
    "print(M_)"
   ]
  },
  {
   "cell_type": "markdown",
   "metadata": {},
   "source": [
    "## 4. matrix vector outer product"
   ]
  },
  {
   "cell_type": "markdown",
   "metadata": {},
   "source": [
    "$A \\circ \\overrightarrow{c}=(A*c(0,1);A*c(1,1)\\dots ;A*c(n,1))$"
   ]
  },
  {
   "cell_type": "code",
   "execution_count": 7,
   "metadata": {},
   "outputs": [
    {
     "name": "stdout",
     "output_type": "stream",
     "text": [
      "(2, 2, 3)\n",
      "[[[15. 18. 21.]\n",
      "  [20. 24. 28.]]\n",
      "\n",
      " [[30. 36. 42.]\n",
      "  [40. 48. 56.]]]\n",
      "[[15. 20.]\n",
      " [30. 40.]]\n",
      "[[18. 24.]\n",
      " [36. 48.]]\n",
      "[[21. 28.]\n",
      " [42. 56.]]\n"
     ]
    }
   ],
   "source": [
    "# matrix & vector outer product\n",
    "Mc = tf.squeeze(tf.tensordot(M, c, axes=0))\n",
    "Mc_ = sess.run(Mc, feed_dict={a:a0,b:b0,c:c0})\n",
    "print(Mc_.shape)\n",
    "print(Mc_)\n",
    "print(Mc_[:,:,0])\n",
    "print(Mc_[:,:,1])\n",
    "print(Mc_[:,:,2])"
   ]
  },
  {
   "cell_type": "markdown",
   "metadata": {},
   "source": [
    "## 4. Unfolding"
   ]
  },
  {
   "cell_type": "code",
   "execution_count": 49,
   "metadata": {},
   "outputs": [
    {
     "name": "stdout",
     "output_type": "stream",
     "text": [
      "(2, 2, 2, 2)\n",
      "[[ 1.  2.  5.  6.  9. 10. 13. 14.]\n",
      " [ 3.  4.  7.  8. 11. 12. 15. 16.]]\n",
      "[[ 1.  3.  5.  7.  9. 11. 13. 15.]\n",
      " [ 2.  4.  6.  8. 10. 12. 14. 16.]]\n",
      "[[ 1.  3.  2.  4.  9. 11. 10. 12.]\n",
      " [ 5.  7.  6.  8. 13. 15. 14. 16.]]\n",
      "[[ 1.  3.  2.  4.  5.  7.  6.  8.]\n",
      " [ 9. 11. 10. 12. 13. 15. 14. 16.]]\n"
     ]
    }
   ],
   "source": [
    "X = np.zeros([2,2,2,2])\n",
    "X1 = np.array([[1,2],[3,4]])\n",
    "X2 = np.array([[5,6],[7,8]])\n",
    "X3 = np.array([[9,10],[11,12]])\n",
    "X4 = np.array([[13,14],[15,16]])\n",
    "\n",
    "X[:,:,0,0] = X1\n",
    "X[:,:,1,0] = X2\n",
    "X[:,:,0,1] = X3\n",
    "X[:,:,1,1] = X4\n",
    "# print(X)\n",
    "print(X.shape)\n",
    "\n",
    "X_tensor = tf.placeholder(tf.float32, shape=[2,2,2,2])\n",
    "X_tensor_ = sess.run(X_tensor, feed_dict={X_tensor:X})\n",
    "\n",
    "# modal 1 unfolding\n",
    "for i in range(X.shape[3]):\n",
    "    for j in range(X.shape[2]):\n",
    "        if i==0 and j==0:\n",
    "            X_1 = tf.reshape(X_tensor[:,:,j,i],[X.shape[0],-1])\n",
    "        else:\n",
    "            X_1 = tf.concat([X_1,tf.reshape(X_tensor[:,:,j,i],[X.shape[0],-1])],1)\n",
    "\n",
    "\n",
    "# modal 2 unfolding\n",
    "for i in range(X.shape[3]):\n",
    "    for j in range(X.shape[2]):\n",
    "        if i==0 and j==0:\n",
    "            X_2 = tf.reshape(tf.transpose(X_tensor[:,:,j,i],[1,0]),[X.shape[1],-1])\n",
    "        else:\n",
    "            X_2 = tf.concat([X_2,tf.reshape(tf.transpose(X_tensor[:,:,j,i],[1,0]),[X.shape[1],-1])],1)\n",
    "            \n",
    "# modal 3 unfolding\n",
    "for i in range(X.shape[3]):\n",
    "    for j in range(X.shape[1]):\n",
    "        if i==0 and j==0:\n",
    "            X_3 = tf.reshape(tf.transpose(X_tensor[:,j,:,i],[1,0]),[X.shape[2],-1])\n",
    "        else:\n",
    "            X_3 = tf.concat([X_3,tf.reshape(tf.transpose(X_tensor[:,j,:,i],[1,0]),[X.shape[2],-1])],1)\n",
    "            \n",
    "# modal 4 unfolding\n",
    "for i in range(X.shape[2]):\n",
    "    for j in range(X.shape[1]):\n",
    "        if i==0 and j==0:\n",
    "            X_4 = tf.reshape(tf.transpose(X_tensor[:,j,i,:],[1,0]),[X.shape[3],-1])\n",
    "        else:\n",
    "            X_4 = tf.concat([X_4,tf.reshape(tf.transpose(X_tensor[:,j,i,:],[1,0]),[X.shape[3],-1])],1)\n",
    "\n",
    "X_1_,X_2_,X_3_,X_4_ = sess.run([X_1,X_2,X_3,X_4], feed_dict={X_tensor:X})\n",
    "# print(X_tensor_.shape)\n",
    "print(X_1_)\n",
    "print(X_2_)\n",
    "print(X_3_)\n",
    "print(X_4_)"
   ]
  },
  {
   "cell_type": "code",
   "execution_count": 81,
   "metadata": {},
   "outputs": [
    {
     "name": "stdout",
     "output_type": "stream",
     "text": [
      "[[ 1.  5.  9. 13. 17. 21.]\n",
      " [ 2.  6. 10. 14. 18. 22.]\n",
      " [ 3.  7. 11. 15. 19. 23.]\n",
      " [ 4.  8. 12. 16. 20. 24.]]\n",
      "[[ 1.  2.  3.  4. 13. 14. 15. 16.]\n",
      " [ 5.  6.  7.  8. 17. 18. 19. 20.]\n",
      " [ 9. 10. 11. 12. 21. 22. 23. 24.]]\n",
      "[[ 1.  2.  3.  4.  5.  6.  7.  8.  9. 10. 11. 12.]\n",
      " [13. 14. 15. 16. 17. 18. 19. 20. 21. 22. 23. 24.]]\n",
      "-----------------------------------------------------------------\n",
      "Tensor(\"transpose_4:0\", shape=(4, 3, 2), dtype=float32)\n",
      "Tensor(\"transpose_5:0\", shape=(4, 3, 2), dtype=float32)\n",
      "Tensor(\"transpose_6:0\", shape=(4, 3, 2), dtype=float32)\n",
      "-----------------------------------------------------------------\n",
      "[[ 1.  5.  9.]\n",
      " [ 2.  6. 10.]\n",
      " [ 3.  7. 11.]\n",
      " [ 4.  8. 12.]]\n",
      "[[ 1.  5.  9.]\n",
      " [ 2.  6. 10.]\n",
      " [ 3.  7. 11.]\n",
      " [ 4.  8. 12.]]\n",
      "[[ 1.  5.  9.]\n",
      " [ 2.  6. 10.]\n",
      " [ 3.  7. 11.]\n",
      " [ 4.  8. 12.]]\n"
     ]
    }
   ],
   "source": [
    "# unfolding function\n",
    "X_tensor = tf.placeholder(tf.float32, shape=[4,3,2])\n",
    "X = np.arange(1,25).reshape((4,3,2),order='F') \n",
    "# X_tensor = tf.placeholder(tf.float32, shape=[2,2,2,2])\n",
    "\n",
    "dim = X.shape # origin tensor's shape (d_1,d_2,...d_n)\n",
    "\n",
    "\n",
    "def unfold(X_tensor, dim, mode):\n",
    "    order_mode_dim = [mode-1]\n",
    "    order_others = list(range(0,mode-1))+list(range(mode,len(dim)))\n",
    "    order_adjust = order_mode_dim + order_others[::-1]\n",
    "    X_per = tf.transpose(X_tensor,order_adjust)\n",
    "    X_unfold = tf.reshape(X_per,[dim[mode-1],-1])\n",
    "    return X_unfold\n",
    "\n",
    "X_unfold1 = unfold(X_tensor, dim, 1)\n",
    "X_unfold2 = unfold(X_tensor, dim, 2)\n",
    "X_unfold3 = unfold(X_tensor, dim, 3)\n",
    "ten = sess.run(X_tensor, feed_dict={X_tensor:X})\n",
    "\n",
    "X_1_,X_2_,X_3_ = sess.run([X_unfold1,X_unfold2,X_unfold3], feed_dict={X_tensor:X})\n",
    "print(X_1_)\n",
    "print(X_2_)\n",
    "print(X_3_)\n",
    "\n",
    "print('-----------------------------------------------------------------')\n",
    "\n",
    "X_unfold1 = tf.placeholder(tf.float32, shape=[4,6])\n",
    "X_unfold2 = tf.placeholder(tf.float32, shape=[3,8])\n",
    "X_unfold3 = tf.placeholder(tf.float32, shape=[2,12])\n",
    "\n",
    "def fold(X,dim,mode):\n",
    "    order_mode_dim = [mode-1]\n",
    "    order_others = list(range(0,mode-1))+list(range(mode,len(dim)))\n",
    "    order_adjust = order_mode_dim + order_others[::-1]\n",
    "    dim_set = [dim[i] for i in order_adjust]\n",
    "    order_adjust=[dim_set.index(dim[i]) for i in range(len(dim))]\n",
    "    X_tensor = tf.transpose(tf.reshape(X,dim_set),order_adjust)\n",
    "    print(X_tensor)\n",
    "    return X_tensor\n",
    "\n",
    "X_fold1 = fold(X_unfold1, dim, 1)\n",
    "X_fold2 = fold(X_unfold2, dim, 2)\n",
    "X_fold3 = fold(X_unfold3, dim, 3)\n",
    "# ten2 = sess.run(X_fold2, feed_dict={X_unfold1:X_1_, X_unfold2:X_2_, X_unfold3:X_3_})\n",
    "ten1,ten2,ten3 = sess.run([X_fold1,X_fold2,X_fold3], feed_dict={X_unfold1:X_1_,X_unfold2:X_2_,X_unfold3:X_3_})\n",
    "print('-----------------------------------------------------------------')\n",
    "print(ten1[:,:,0])\n",
    "print(ten2[:,:,0])\n",
    "print(ten3[:,:,0])"
   ]
  },
  {
   "cell_type": "code",
   "execution_count": 10,
   "metadata": {},
   "outputs": [
    {
     "name": "stdout",
     "output_type": "stream",
     "text": [
      "[[[ 1  9]\n",
      "  [ 3 11]]\n",
      "\n",
      " [[ 2 10]\n",
      "  [ 4 12]]]\n"
     ]
    }
   ],
   "source": [
    "ten = np.arange(1,17).reshape((2,2,2,2),order='F') # in accordance with matlab\n",
    "print(ten[:,:,0])"
   ]
  },
  {
   "cell_type": "raw",
   "metadata": {},
   "source": [
    "transpose 是将原张量的索引的位置改变，如下，[1,2,0]中的元素是原张量索引，元素在[1,2,0]的排序是transpose后的结果，即原来在第1维的安排在现在第0维（1在列表第一个位置）"
   ]
  },
  {
   "cell_type": "code",
   "execution_count": 80,
   "metadata": {},
   "outputs": [
    {
     "name": "stdout",
     "output_type": "stream",
     "text": [
      "Tensor(\"Reshape:0\", shape=(3, 2, 4), dtype=float32)\n",
      "Tensor(\"transpose:0\", shape=(2, 4, 3), dtype=float32)\n"
     ]
    }
   ],
   "source": [
    "tf.reset_default_graph()\n",
    "sess=tf.Session()\n",
    "X=tf.placeholder(tf.float32, shape=[3,8])\n",
    "X_1 = tf.reshape(X,[3,2,4])\n",
    "print(X_1)\n",
    "X_tensor = tf.transpose(X_1,[1,2,0])\n",
    "print(X_tensor)\n"
   ]
  },
  {
   "cell_type": "code",
   "execution_count": null,
   "metadata": {},
   "outputs": [],
   "source": []
  },
  {
   "cell_type": "code",
   "execution_count": null,
   "metadata": {},
   "outputs": [],
   "source": []
  }
 ],
 "metadata": {
  "kernelspec": {
   "display_name": "Python 3",
   "language": "python",
   "name": "python3"
  },
  "language_info": {
   "codemirror_mode": {
    "name": "ipython",
    "version": 3
   },
   "file_extension": ".py",
   "mimetype": "text/x-python",
   "name": "python",
   "nbconvert_exporter": "python",
   "pygments_lexer": "ipython3",
   "version": "3.5.4"
  }
 },
 "nbformat": 4,
 "nbformat_minor": 2
}
