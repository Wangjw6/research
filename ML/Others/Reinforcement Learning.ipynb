{
 "cells": [
  {
   "cell_type": "markdown",
   "metadata": {},
   "source": [
    "# 学习强化学习"
   ]
  },
  {
   "cell_type": "markdown",
   "metadata": {},
   "source": [
    "## 1 Q-Learning Agent"
   ]
  },
  {
   "cell_type": "markdown",
   "metadata": {},
   "source": [
    "Q-Learning 方法是强化学习算法家族中的一个经典算法，它有别于目前应用更加广泛的基于策略的强化学习算法，但是是入门强化学习的很好的基础。因此，整个学习路线是：首先弄懂Q-Learning的原理，完成其最基础的实现（look-up table），然后以神经网络为元件实现Q-Learning，再进入policy-based方法的学习，逐渐进入前沿强化学习方法领域。\n",
    "\n",
    "强化学习中包含两种主流算法，基于策略的算法是直接学习如何将一个状态映射为一个动作；基于状态（动作）价值的算法则是学习每个经历状态的效益值，或者状态-动作对的效益值，然后基于该效益值筛选动作。可以看到，尽管两个方法最终都实现同一个目标——为给定状态选择合适的动作，但它们的完成方式有显著的区别。"
   ]
  },
  {
   "cell_type": "markdown",
   "metadata": {},
   "source": [
    "### 1.1 基于Q-Table的方法"
   ]
  },
  {
   "cell_type": "markdown",
   "metadata": {},
   "source": [
    "本小节将首先以OpenAI Gym提供的[FrozenLake](https://gym.openai.com/envs/FrozenLake-v0/)环境为研究案例。OpenAI Gym提供了一系列简单的强化学习应用场景，方便人们测试自己的算法。在Frozen Lake中，智能体将被放入一个4\\*4的网格阵，每个网格对应一定的特性："
   ]
  },
  {
   "cell_type": "markdown",
   "metadata": {},
   "source": [
    "<center>\n",
    "    <img style=\"border-radius: 0.3125em;\n",
    "    box-shadow: 0 2px 4px 0 rgba(34,36,38,.12),0 2px 10px 0 rgba(34,36,38,.08);\" \n",
    "    src=\"https://miro.medium.com/max/1050/1*MCjDzR-wfMMkS0rPqXSmKw.png\" height=\"400\" width=\"400\">\n",
    "    <br>\n",
    "    <div style=\"color:orange; border-bottom: 1px solid #d9d9d9;\n",
    "    display: inline-block;\n",
    "    color: #999;\n",
    "    padding: 2px;\">FrozenLake环境示意图</div>\n",
    "</center>"
   ]
  },
  {
   "cell_type": "markdown",
   "metadata": {},
   "source": [
    "智能体在该环境的学习目标是：从起始方块（S）出发，到达目标方块（G），过程中可以经过安全方块（F），但需要避免进入危险方块（H）。智能体每一步都可以选择上下左右其中一个方向前进，但有一定概率受到“风”的影响，导致随机前进到一个方块。因此，不可能每次都完成最优的出行，但学习如何安全到达安全方块是可行的。在该环境中，每一步前进的奖赏都是0，唯有到达目标方块后获得奖赏1。\n",
    "\n",
    "Frozen Lake可以说是一个最基础的强化学习体验案例，因为它的起始状态与终止状态都固定，且状态空间（一维16个取值）与动作空间（一维4个取值：上/下/左/右）足够小。"
   ]
  },
  {
   "cell_type": "markdown",
   "metadata": {},
   "source": [
    "最简单的Q-Learning实现方式是构造一个记录状态-动作对价值的表格（Q-Table）。在该表格中，每行代表一个状态，每列代表一个动作。在Frozen Lake这个案例中，Q-Table大小是16\\*4，即需要学习出16\\*4个状态-动作对的价值，最后根据这些价值选择合适的动作。首先，需要将Q-Table所有值初始化为0，然后根据智能体在该环境的经历，不断更新Q-Table的各个值。采用经典的[Bellman equation](https://en.wikipedia.org/wiki/Bellman_equation) 去更新表格：以下是基于Q-Table的Q-Learning实现：\n",
    "\n",
    "**Eq(1)**: $ Q(s,a)=r+\\lambda (\\mathop {\\max }\\limits_{a'} (Q(s',a')))$\n",
    "\n",
    "其中，\n",
    "$Q(s,a)$表示状态-动作对（s，a）的收益；r表示在状态s执行动作a的即时奖赏；$Q(s',a')$ 表示在状态s执行动作a后到达下一状态的收益；$\\lambda$是折扣系数，允许我们确定当前奖赏和未来收益之间的重要性。上式说明的是，**当前状态-动作对（s，a）的期望收益等于当前获得的奖赏加上最好的长期效益**。这种更新方法使得每一次更新都重新使用了之前的更新结果，是一个迭代的过程。\n",
    "\n"
   ]
  },
  {
   "cell_type": "code",
   "execution_count": 84,
   "metadata": {},
   "outputs": [],
   "source": [
    "import gym\n",
    "import numpy as np\n",
    "import matplotlib.pyplot as plt\n",
    "%matplotlib inline\n"
   ]
  },
  {
   "cell_type": "code",
   "execution_count": 35,
   "metadata": {},
   "outputs": [
    {
     "name": "stdout",
     "output_type": "stream",
     "text": [
      "[[2.72053755e-01 1.50544608e-03 1.74821432e-03 1.57499749e-03]\n",
      " [1.19513796e-04 2.17653034e-05 2.03290833e-04 2.04320415e-01]\n",
      " [2.78101873e-04 8.89926171e-04 2.98573626e-04 2.25211476e-01]\n",
      " [8.78072687e-05 8.90557973e-04 9.08353402e-06 8.20888766e-02]\n",
      " [1.23050656e-01 1.03949714e-06 3.05869381e-04 1.03136701e-05]\n",
      " [0.00000000e+00 0.00000000e+00 0.00000000e+00 0.00000000e+00]\n",
      " [1.18321642e-02 8.03262373e-14 4.87648909e-07 2.05652472e-04]\n",
      " [0.00000000e+00 0.00000000e+00 0.00000000e+00 0.00000000e+00]\n",
      " [2.38227639e-04 1.18007016e-04 1.72953999e-06 2.55086024e-02]\n",
      " [7.58990279e-05 3.50301306e-01 6.04188263e-05 2.67943431e-04]\n",
      " [1.01994221e-01 8.12327264e-06 6.03019525e-05 5.22193016e-05]\n",
      " [0.00000000e+00 0.00000000e+00 0.00000000e+00 0.00000000e+00]\n",
      " [0.00000000e+00 0.00000000e+00 0.00000000e+00 0.00000000e+00]\n",
      " [4.83679576e-04 2.91659825e-03 8.57743625e-01 2.28596447e-03]\n",
      " [0.00000000e+00 9.91652475e-01 0.00000000e+00 0.00000000e+00]\n",
      " [0.00000000e+00 0.00000000e+00 0.00000000e+00 0.00000000e+00]]\n"
     ]
    },
    {
     "data": {
      "image/png": "[encoded data removed]",
      "text/plain": [
       "<Figure size 432x288 with 1 Axes>"
      ]
     },
     "metadata": {
      "needs_background": "light"
     },
     "output_type": "display_data"
    },
    {
     "data": {
      "image/png": "[encoded data removed]",
      "text/plain": [
       "<Figure size 432x288 with 2 Axes>"
      ]
     },
     "metadata": {
      "needs_background": "light"
     },
     "output_type": "display_data"
    }
   ],
   "source": [
    "env = gym.make('FrozenLake-v0')\n",
    "Qt = np.zeros([env.observation_space.n,env.action_space.n])\n",
    "\n",
    "lr = 0.9\n",
    "lam = 0.95\n",
    "num_episodes = 5000\n",
    "rAlllist=[]\n",
    "rewardset=[]\n",
    "for i in range(num_episodes):\n",
    "    s = env.reset()\n",
    "    j = 0\n",
    "    max_steps_in_episode = 99\n",
    "    rAll=0.\n",
    "    \n",
    "    while j<max_steps_in_episode:\n",
    "        # action[0:Left ## 1:Down ## 2:Right ## 3:Up]\n",
    "        if i<48000:\n",
    "            a = np.argmax(Qt[s,:] + np.random.randn(1,env.action_space.n)*(1./(i+1)))\n",
    "        else:\n",
    "            a = np.argmax(Qt[s,:])\n",
    "        s_next, r, d,_ = env.step(a)\n",
    "        Qt[s,a] = Qt[s,a] + lr*(r+lam*np.max(Qt[s_next,:])-Qt[s,a])\n",
    "        s = s_next\n",
    "        rAll+=r\n",
    "        if d==True:\n",
    "            break\n",
    "        j+=1\n",
    "    rAlllist.append(rAll/j)\n",
    "    if r==1:\n",
    "        rewardset.append(1)\n",
    "    else:\n",
    "        rewardset.append(0)\n",
    "print(Qt)\n",
    "plt.figure(1)\n",
    "plt.plot(rAlllist)\n",
    "plt.figure(2)\n",
    "plt.title('Q Table')       \n",
    "plt.xticks(np.arange(0,env.action_space.n,1.0))\n",
    "plt.yticks(np.arange(0,env.observation_space.n,1.0))\n",
    "plt.imshow(Qt, interpolation='none',aspect='auto')\n",
    "plt.colorbar()\n",
    "plt.clim(0,1)\n",
    "plt.show()"
   ]
  },
  {
   "cell_type": "code",
   "execution_count": 63,
   "metadata": {},
   "outputs": [
    {
     "name": "stdout",
     "output_type": "stream",
     "text": [
      "[[67. 57. 55. 39.]\n",
      " [70.  0. 36.  0.]\n",
      " [72. 73. 35.  0.]\n",
      " [ 0. 74. 76. 77.]]\n"
     ]
    },
    {
     "data": {
      "image/png": "[encoded data removed]",
      "text/plain": [
       "<Figure size 432x285 with 1 Axes>"
      ]
     },
     "metadata": {
      "needs_background": "light"
     },
     "output_type": "display_data"
    }
   ],
   "source": [
    "%matplotlib qt5\n",
    "s = env.reset()\n",
    "route=np.zeros([4,4])\n",
    "if s_next<4:\n",
    "    i=0\n",
    "    j=s_next\n",
    "else:\n",
    "    i = int(s_next/4)\n",
    "    j = s_next%4\n",
    "route[i,j]=1\n",
    "step=1\n",
    "d=False\n",
    "fig = plt.figure()\n",
    "ax = fig.add_subplot(111)\n",
    "fig.show()\n",
    "fig.canvas.draw()\n",
    "# 在线绘制agent移动路线\n",
    "while d==False:\n",
    "    ax.clear()\n",
    "    plt.xticks(np.arange(0,4,1.0))\n",
    "    plt.yticks(np.arange(0,4,1.0))\n",
    "    ax.imshow(route, interpolation='none',aspect='auto')\n",
    "    fig.canvas.draw()\n",
    "    plt.pause(0.3)\n",
    "    a = np.argmax(Qt[s,:])\n",
    "    s_next, r, d,_ = env.step(a)\n",
    "    step+=1\n",
    "    if s_next<4:\n",
    "        i=0\n",
    "        j=s_next\n",
    "    else:\n",
    "        i = int(s_next/4)\n",
    "        j = s_next%4\n",
    "    route[i,j]=step\n",
    "    s = s_next\n",
    "\n",
    "print(route)"
   ]
  },
  {
   "cell_type": "code",
   "execution_count": 38,
   "metadata": {},
   "outputs": [
    {
     "data": {
      "image/png": "[encoded data removed]",
      "text/plain": [
       "<Figure size 432x288 with 1 Axes>"
      ]
     },
     "metadata": {
      "needs_background": "light"
     },
     "output_type": "display_data"
    }
   ],
   "source": [
    "pass_sum=[]\n",
    "i=1\n",
    "a=0\n",
    "while i<=len(rewardset):\n",
    "    a+=rewardset[i-1]\n",
    "    if i%100==0:\n",
    "        pass_sum.append(a)\n",
    "        a=0\n",
    "    i+=1\n",
    "plt.xticks(np.arange(0,len(pass_sum), 5.0))\n",
    "plt.yticks(np.arange(0,max(pass_sum)+1, 10.0))\n",
    "plt.plot( pass_sum,'-o')\n",
    "plt.xlabel('training episode/100')\n",
    "plt.ylabel('succeed times every 100 episode')\n",
    "plt.show()"
   ]
  },
  {
   "cell_type": "markdown",
   "metadata": {},
   "source": [
    "### 1.2 基于Q-Network的方法"
   ]
  },
  {
   "cell_type": "markdown",
   "metadata": {},
   "source": [
    "很容易可以想到：当状态空间和动作空间非常大时，Q-Table往往要求庞大的存储空间，且不够灵活，为了降低存储消耗，我们可以通过构造一个函数去估计Q-Table，神经网络是一个常见且有效的选择，利用神经网络去充当估计器，我们可以通过构造（特征）向量表示任意状态，生成神经网络的输入，然后让网络学习状态对应的效益值。\n",
    "\n",
    "在本小节的案例中，我们可以通过one-hot向量去描述(输入)状态：: $s\\in R^{1x16}$,而对应的输出则是该状态下，执行每个可选动作的效益值：$Q\\in R^{1x4}$。在神经网络中，我们通过梯度下降优化损失函数的方式进行“Q-Table”的更新学习，对应的损失函数为：\n",
    "\n",
    "**Eq(2)**: $Loss=\\sum (Q_{target}-Q_{estimate})^2$\n",
    "\n",
    "$Q_{target}=r+\\lambda (\\mathop {\\max }\\limits_{a'} (Q_{estimate}(s',a'))))$"
   ]
  },
  {
   "cell_type": "markdown",
   "metadata": {},
   "source": [
    "实际上，在处理FrozenLake问题时，神经网络并不比Q-Table方法来的多高效。同时需要指出，尽管利用神经网络拟合Q值为描述Q值带来了更大的灵活性，但该方法在进行Q-Learning时稳定性不佳，收敛花费时间较长。当下有大量基于神经网络进行Q-Learning的扩展研究，目的就是为了寻求一个更好更稳定的Q值估计结果，在这些研究中，尤为著名的是[Atari-playing Deep Q-Networks](https://web.stanford.edu/class/psych209/Readings/MnihEtAlHassibis15NatureControlDeepRL.pdf)中提出的**Experience Replay**和**冻结目标网络** ："
   ]
  },
  {
   "cell_type": "markdown",
   "metadata": {},
   "source": [
    "**Experience Replay**\n",
    "\n",
    "在智能体与环境交互时，存储每次的经历$<s,a,r,s'>$，存储点记为replay memory。在训练Q神经网络时，在replay memory中随机采样出经历，而非使用最近的经历。这样的做法可以打破每批训练样本的相似性，以免网络过早陷入局部最优。同时，Experience Replay的使用让学习过程与一般的监督学习更为相似，这也一定程度简化了算法的调试流程，特别地，我们甚至可以人工收集经历，然后再让智能体学习。"
   ]
  },
  {
   "cell_type": "markdown",
   "metadata": {},
   "source": [
    "**冻结目标网络**\n",
    "\n",
    "在公式2中，损失函数中的目标值$Q_{target}=r+\\lambda (\\mathop {\\max }\\limits_{a'} (Q_{estimate}(s',a'))))$需要估计，冻结目标网络实质上是通过构造一个与原训练神经网络构造完全一样的“目标网络”去完成这个估计。具体来说，每当原训练神经网络的参数更新了一段时间，我们就将该套参数加载到“目标网络”，在更新原训练神经网络时，用“目标网络”去估计目标值。这一做法相比于传统的在线Q-Learnig会使训练更加稳定，因为在以往的在线Q-Learning中，网络更新会立即影响$Q_{target}$，很可能会导致策略的振荡甚至发散，冻结目标网络使得目标值的估计可以稳定一段时间，使得策略学习更不易发散。"
   ]
  },
  {
   "cell_type": "markdown",
   "metadata": {},
   "source": [
    "**Q-Network Approach in Tensorflow**(训练结果很不稳定且智能体策略在loss function优化时没有改进)"
   ]
  },
  {
   "cell_type": "code",
   "execution_count": 3,
   "metadata": {},
   "outputs": [
    {
     "name": "stdout",
     "output_type": "stream",
     "text": [
      "episode: 1000 loss: 0.00371119\n"
     ]
    },
    {
     "data": {
      "image/png": "[encoded data removed]",
      "text/plain": [
       "<Figure size 432x288 with 1 Axes>"
      ]
     },
     "metadata": {
      "needs_background": "light"
     },
     "output_type": "display_data"
    }
   ],
   "source": [
    "import tensorflow as tf\n",
    "import gym\n",
    "import numpy as np\n",
    "import matplotlib.pyplot as plt\n",
    "%matplotlib inline\n",
    "env = gym.make('FrozenLake-v0')\n",
    "def weight_variable(shape,train=True):\n",
    "    initial = tf.truncated_normal(shape, stddev=0.1)\n",
    "    return tf.Variable(initial,trainable=train)\n",
    "def bias_variable(shape,train=True):\n",
    "    initial = tf.truncated_normal(shape, stddev=0.1)\n",
    "    return tf.Variable(initial,trainable=train)\n",
    "\n",
    "state_dim_ = env.observation_space.n\n",
    "action_num_ = env.action_space.n\n",
    "\n",
    "class DQN():\n",
    "    def __init__(self, sess, state_dim, action_dim=1, lamda=0.95, updateStep=3, output_num=4):\n",
    "        self.state_dim = state_dim\n",
    "        self.action_dim = action_dim\n",
    "        self.state = tf.placeholder(tf.float32,[None,self.state_dim],name='state')\n",
    "        self.next_state = tf.placeholder(tf.float32,[None,self.state_dim],name='next_state')\n",
    "        self.lamda = lamda\n",
    "        self.updateStep = updateStep\n",
    "        self.action_output_num = output_num\n",
    "        self.sess = sess\n",
    "        self.reward_holder = tf.placeholder(tf.float32,[None], name='reward')\n",
    "        self.action_index = tf.placeholder(shape=None,dtype=tf.int32)\n",
    "        \n",
    "    def buildQNetwork(self,):\n",
    "        \n",
    "        with tf.variable_scope('update-Qnetwork'):\n",
    "            w1 = weight_variable([self.state_dim,24])\n",
    "            b1 = bias_variable([24])\n",
    "            w2 = weight_variable([24,self.action_output_num])\n",
    "            b2 = bias_variable([self.action_output_num])\n",
    "            \n",
    "        with tf.variable_scope('target-Qnetwork'):\n",
    "            w1_ = weight_variable([self.state_dim,24],train=False)\n",
    "            b1_ = bias_variable([24],train=False)\n",
    "            w2_ = weight_variable([24,self.action_output_num],train=False)\n",
    "            b2_ = bias_variable([self.action_output_num],train=False)\n",
    "                                \n",
    "        self.e_params = tf.get_collection(tf.GraphKeys.GLOBAL_VARIABLES, scope='update-Qnetwork')\n",
    "        self.t_params = tf.get_collection(tf.GraphKeys.GLOBAL_VARIABLES, scope='target-Qnetwork')\n",
    "                                \n",
    "        self.h1 = tf.nn.elu(tf.matmul(self.state, w1)+b1)\n",
    "        self.Qs = (tf.matmul(self.h1,w2)+b2)\n",
    "        \n",
    "        self.h1_next = tf.nn.elu(tf.matmul(self.next_state, w1_)+b1_)\n",
    "        self.nextQs = (tf.matmul(self.h1_next,w2_)+b2_)\n",
    "        \n",
    "        increasing = tf.range(start=0, limit=tf.shape(self.action_index)[0], delta=1)\n",
    "        mask = tf.stack([increasing, self.action_index], axis=1)\n",
    "        self.Q = tf.gather_nd(self.Qs, mask)\n",
    "        \n",
    "        self.nextQ = tf.reduce_max(self.nextQs,axis=1)\n",
    "        self.targetQ = self.reward_holder+self.lamda*self.nextQ\n",
    "        self.loss = tf.reduce_mean(tf.squared_difference(self.targetQ, self.Q))\n",
    "        \n",
    "        self.a = tf.argmax(self.Qs,1)\n",
    "        \n",
    "        self.trainOp = tf.train.AdamOptimizer(learning_rate=0.005).minimize(self.loss)\n",
    "    \n",
    "    def learn(self,step,memory):\n",
    "        _, loss = self.sess.run([self.trainOp,self.loss], feed_dict={self.state : memory[:,0:self.state_dim], \n",
    "                                                                     self.next_state: memory[:,self.state_dim:self.state_dim*2],\n",
    "                                                                     self.action_index:memory[:,-2],\n",
    "                                                                     self.reward_holder:memory[:,-1]})\n",
    "        \n",
    "        if step%self.updateStep==0:\n",
    "            self.sess.run([tf.assign(tar,  eva) for tar, eva in zip(self.t_params, self.e_params)])\n",
    "        return loss\n",
    "    \n",
    "    def choose_action(self,state,epsilon=0.9):\n",
    "        if np.random.uniform() < epsilon:\n",
    "            return [np.random.randint(0, 4)]\n",
    "        else:\n",
    "            return self.sess.run(self.a, feed_dict={self.state:state})\n",
    "    def predict_nextQ(self,next_state):\n",
    "        return np.max(self.sess.run(self.nextQs, feed_dict={self.next_state:next_state}))\n",
    "    \n",
    "class replay_memory():\n",
    "    def __init__(self, memory_capacity, state_dim, action_dim=1):\n",
    "        self.memory_capacity = memory_capacity\n",
    "        self.memory = np.zeros((self.memory_capacity, 2*state_dim+action_dim+1))  \n",
    "        self.pointer = 0\n",
    "        \n",
    "    def store_experience(self, state, next_sate,action,reward):\n",
    "        index = self.pointer%self.memory_capacity\n",
    "        experience  = np.hstack((state,next_sate,action,reward))\n",
    "        self.memory[index,:]=experience\n",
    "        self.pointer+=1\n",
    "        \n",
    "    def replay(self,batch_size):\n",
    "        \n",
    "        memory_batch = []\n",
    "        pos=0\n",
    "        for i in range(batch_size):\n",
    "            index = np.random.randint(0,self.memory_capacity)\n",
    "            memory_batch.append(self.memory[index,:])\n",
    "\n",
    "        return memory_batch        \n",
    "    \n",
    "    \n",
    "tf.reset_default_graph()\n",
    "sess_ = tf.Session()\n",
    "model = DQN(state_dim=state_dim_, lamda=0.95,updateStep=200, sess=sess_)\n",
    "model.buildQNetwork()\n",
    "init_op = tf.group(tf.global_variables_initializer(), tf.local_variables_initializer())\n",
    "sess_.run(init_op)\n",
    "\n",
    "M = replay_memory(memory_capacity=1000, state_dim=state_dim_, action_dim=1)\n",
    "batch_size_ = 32\n",
    "num_episodes = 1500\n",
    "\n",
    "records = 0\n",
    "loss_set=[]\n",
    "e=1.\n",
    "rewardset=[]\n",
    "\n",
    "for i in range(num_episodes):\n",
    "    s = env.reset()\n",
    "    j = 0\n",
    "    max_steps_in_episode = 99\n",
    "    if i>500:\n",
    "        e=0.01\n",
    "    reward=0\n",
    "    while True:\n",
    "        state_vector = np.zeros([1,state_dim_])\n",
    "        state_vector[0,s]=1\n",
    "        a = model.choose_action(state=state_vector,epsilon=e)\n",
    "        s_next, r, d,_ = env.step(a[0])\n",
    "        \n",
    "        \n",
    "        nextSate_vector = np.zeros([1,state_dim_])    \n",
    "        nextSate_vector[0,s_next]=1\n",
    "        \n",
    "        if r==0 and d==True:\n",
    "             M.store_experience(state=state_vector[0], next_sate=nextSate_vector[0],action=a,reward=[-1])\n",
    "        else:\n",
    "             M.store_experience(state=state_vector[0], next_sate=nextSate_vector[0],action=a,reward=[r])\n",
    "\n",
    "\n",
    "       \n",
    "        records+=1\n",
    "        j+=1\n",
    "        \n",
    "        s = s_next\n",
    "        \n",
    "        if records>M.memory_capacity:\n",
    "            memory_batch = M.replay(batch_size=batch_size_)\n",
    "            loss_ = model.learn(records,memory=np.array(memory_batch) )\n",
    "            loss_set.append(loss_)\n",
    "        if d==True:\n",
    "            break\n",
    "            \n",
    "    if records>M.memory_capacity and i%1000==0:\n",
    "        print('episode: %d loss: %g'%(i, loss_))\n",
    "        \n",
    "    if r==1:\n",
    "        rewardset.append(1) \n",
    "    else:\n",
    "        rewardset.append(0)\n",
    "        \n",
    "plt.plot(loss_set)\n",
    "plt.xlabel('training step')\n",
    "plt.ylabel('loss')\n",
    "plt.show()"
   ]
  },
  {
   "cell_type": "code",
   "execution_count": 4,
   "metadata": {},
   "outputs": [
    {
     "data": {
      "image/png": "[encoded data removed]",
      "text/plain": [
       "<Figure size 432x288 with 1 Axes>"
      ]
     },
     "metadata": {
      "needs_background": "light"
     },
     "output_type": "display_data"
    }
   ],
   "source": [
    "pass_sum=[]\n",
    "i=1\n",
    "a=0\n",
    "while i<=len(rewardset):\n",
    "    a+=rewardset[i-1]\n",
    "    if i%100==0:\n",
    "        pass_sum.append(a)\n",
    "        a=0\n",
    "    i+=1\n",
    "plt.xticks(np.arange(0,len(pass_sum), 5.0))\n",
    "plt.yticks(np.arange(0,max(pass_sum)+1, 10.0))\n",
    "plt.plot( pass_sum,'-o')\n",
    "plt.xlabel('training episode/100')\n",
    "plt.ylabel('succeed times every 100 episode')\n",
    "plt.show()"
   ]
  },
  {
   "cell_type": "code",
   "execution_count": 133,
   "metadata": {},
   "outputs": [
    {
     "name": "stdout",
     "output_type": "stream",
     "text": [
      "[[-0.60792506 -0.69701785 -0.90225601 -0.71758783]\n",
      " [-0.46534681 -0.52343231 -0.65084064 -0.1598776 ]\n",
      " [ 0.41554064  0.38331717  0.30515468  0.38228363]\n",
      " [-0.24893263 -0.04630597 -0.49572989 -0.01304639]\n",
      " [-0.03576422 -0.3105897  -0.7536543  -0.40350515]\n",
      " [-0.97154945 -1.00897026 -1.21694016 -1.07751966]\n",
      " [-4.76211977 -5.17685223 -5.00145721 -5.76091003]\n",
      " [-1.07341886 -1.10727549 -1.36860645 -1.16024959]\n",
      " [-0.61588264 -0.18740179 -0.7396189  -0.12182092]\n",
      " [-0.68083769 -0.01735926 -0.74827331 -0.42034298]\n",
      " [-0.03293187 -0.57222044 -1.01235747 -0.50757867]\n",
      " [-0.80975497 -0.94368947 -1.11204052 -0.84587127]\n",
      " [-0.9436143  -1.0189625  -1.19205689 -1.03358006]\n",
      " [-0.43878788  0.18124294  0.17134959  0.10830718]\n",
      " [ 6.30049276  6.1351738   6.95144892  6.68672514]\n",
      " [-0.90302402 -0.90628636 -1.1184423  -0.82351041]]\n"
     ]
    }
   ],
   "source": [
    "Qtable=np.zeros((16, 4))\n",
    "for i in range(state_dim_):\n",
    "    state_vector=np.zeros([1,state_dim_])\n",
    "    state_vector[0,i] = 1\n",
    "    Q_ = sess_.run(model.Qs, feed_dict={model.state:state_vector})\n",
    "    Qtable[i,:]=np.array(Q_[0])\n",
    "\n",
    "print(Qtable)"
   ]
  },
  {
   "cell_type": "code",
   "execution_count": 134,
   "metadata": {},
   "outputs": [
    {
     "name": "stdout",
     "output_type": "stream",
     "text": [
      "[[1. 0. 0. 0.]\n",
      " [0. 0. 0. 0.]\n",
      " [0. 0. 0. 0.]\n",
      " [0. 0. 0. 0.]]\n",
      "[[-0.60792506 -0.69701785 -0.902256   -0.7175878 ]]\n",
      "[[1. 0. 0. 0.]\n",
      " [2. 0. 0. 0.]\n",
      " [0. 0. 0. 0.]\n",
      " [0. 0. 0. 0.]]\n",
      "[[-0.03576422 -0.3105897  -0.7536543  -0.40350515]]\n",
      "[[1. 0. 0. 0.]\n",
      " [2. 0. 0. 0.]\n",
      " [3. 0. 0. 0.]\n",
      " [0. 0. 0. 0.]]\n",
      "[[-0.61588264 -0.18740179 -0.7396189  -0.12182092]]\n",
      "[[1. 0. 0. 0.]\n",
      " [4. 0. 0. 0.]\n",
      " [3. 0. 0. 0.]\n",
      " [0. 0. 0. 0.]]\n",
      "[[-0.03576422 -0.3105897  -0.7536543  -0.40350515]]\n",
      "[[5. 0. 0. 0.]\n",
      " [4. 0. 0. 0.]\n",
      " [3. 0. 0. 0.]\n",
      " [0. 0. 0. 0.]]\n",
      "[[-0.60792506 -0.69701785 -0.902256   -0.7175878 ]]\n",
      "[[5. 0. 0. 0.]\n",
      " [6. 0. 0. 0.]\n",
      " [3. 0. 0. 0.]\n",
      " [0. 0. 0. 0.]]\n",
      "[[-0.03576422 -0.3105897  -0.7536543  -0.40350515]]\n",
      "[[5. 0. 0. 0.]\n",
      " [7. 0. 0. 0.]\n",
      " [3. 0. 0. 0.]\n",
      " [0. 0. 0. 0.]]\n",
      "[[-0.03576422 -0.3105897  -0.7536543  -0.40350515]]\n",
      "[[5. 0. 0. 0.]\n",
      " [8. 0. 0. 0.]\n",
      " [3. 0. 0. 0.]\n",
      " [0. 0. 0. 0.]]\n",
      "[[-0.03576422 -0.3105897  -0.7536543  -0.40350515]]\n",
      "[[5. 0. 0. 0.]\n",
      " [8. 0. 0. 0.]\n",
      " [9. 0. 0. 0.]\n",
      " [0. 0. 0. 0.]]\n",
      "[[-0.61588264 -0.18740179 -0.7396189  -0.12182092]]\n",
      "[[ 5.  0.  0.  0.]\n",
      " [10.  0.  0.  0.]\n",
      " [ 9.  0.  0.  0.]\n",
      " [ 0.  0.  0.  0.]]\n",
      "[[-0.03576422 -0.3105897  -0.7536543  -0.40350515]]\n",
      "[[ 5.  0.  0.  0.]\n",
      " [11.  0.  0.  0.]\n",
      " [ 9.  0.  0.  0.]\n",
      " [ 0.  0.  0.  0.]]\n",
      "[[-0.03576422 -0.3105897  -0.7536543  -0.40350515]]\n",
      "[[ 5.  0.  0.  0.]\n",
      " [12.  0.  0.  0.]\n",
      " [ 9.  0.  0.  0.]\n",
      " [ 0.  0.  0.  0.]]\n",
      "[[-0.03576422 -0.3105897  -0.7536543  -0.40350515]]\n",
      "[[ 5.  0.  0.  0.]\n",
      " [12.  0.  0.  0.]\n",
      " [13.  0.  0.  0.]\n",
      " [ 0.  0.  0.  0.]]\n",
      "[[-0.61588264 -0.18740179 -0.7396189  -0.12182092]]\n",
      "[[ 5.  0.  0.  0.]\n",
      " [12.  0.  0.  0.]\n",
      " [13. 14.  0.  0.]\n",
      " [ 0.  0.  0.  0.]]\n",
      "[[-0.6808377  -0.01735926 -0.7482733  -0.42034298]]\n",
      "[[ 5.  0.  0.  0.]\n",
      " [12.  0.  0.  0.]\n",
      " [15. 14.  0.  0.]\n",
      " [ 0.  0.  0.  0.]]\n",
      "[[-0.61588264 -0.18740179 -0.7396189  -0.12182092]]\n",
      "[[ 5.  0.  0.  0.]\n",
      " [12.  0.  0.  0.]\n",
      " [15. 16.  0.  0.]\n",
      " [ 0.  0.  0.  0.]]\n",
      "[[-0.6808377  -0.01735926 -0.7482733  -0.42034298]]\n",
      "[[ 5.  0.  0.  0.]\n",
      " [12.  0.  0.  0.]\n",
      " [15. 16. 17.  0.]\n",
      " [ 0.  0.  0.  0.]]\n",
      "[[-0.03293187 -0.57222044 -1.0123575  -0.5075787 ]]\n",
      "[[ 5.  0.  0.  0.]\n",
      " [12.  0.  0.  0.]\n",
      " [15. 18. 17.  0.]\n",
      " [ 0.  0.  0.  0.]]\n",
      "[[-0.6808377  -0.01735926 -0.7482733  -0.42034298]]\n",
      "[[ 5.  0.  0.  0.]\n",
      " [12.  0.  0.  0.]\n",
      " [15. 18. 17.  0.]\n",
      " [ 0. 19.  0.  0.]]\n",
      "[[-0.43878788  0.18124294  0.17134959  0.10830718]]\n",
      "[[ 5.  0.  0.  0.]\n",
      " [12.  0.  0.  0.]\n",
      " [15. 18. 17.  0.]\n",
      " [ 0. 20.  0.  0.]]\n",
      "[[-0.43878788  0.18124294  0.17134959  0.10830718]]\n",
      "[[ 5.  0.  0.  0.]\n",
      " [12.  0.  0.  0.]\n",
      " [15. 18. 17.  0.]\n",
      " [ 0. 20. 21.  0.]]\n",
      "[[6.300493 6.135174 6.951449 6.686725]]\n",
      "[[ 5.  0.  0.  0.]\n",
      " [12.  0.  0.  0.]\n",
      " [15. 18. 17.  0.]\n",
      " [ 0. 20. 21. 22.]]\n"
     ]
    }
   ],
   "source": [
    "# %matplotlib qt5\n",
    "s = env.reset()\n",
    "route=np.zeros([4,4])\n",
    "if s<4:\n",
    "    i=0\n",
    "    j=s\n",
    "else:\n",
    "    i = int(s_next/4)\n",
    "    j = s%4\n",
    "    \n",
    "route[i,j]=1\n",
    "step=1\n",
    "d=False\n",
    "print(route)\n",
    "# fig = plt.figure()\n",
    "# ax = fig.add_subplot(111)\n",
    "# fig.show()\n",
    "# fig.canvas.draw()\n",
    "# 在线绘制agent移动路线\n",
    "while d==False:\n",
    "#     ax.clear()\n",
    "#     plt.xticks(np.arange(0,4,1.0))\n",
    "#     plt.yticks(np.arange(0,4,1.0))\n",
    "#     ax.imshow(route, interpolation='none',aspect='auto')\n",
    "#     fig.canvas.draw()\n",
    "#     plt.pause(0.3)\n",
    "    \n",
    "    state_vector=np.zeros([1,state_dim_])\n",
    "    state_vector[0,s] = 1\n",
    "    a = model.choose_action(state=state_vector,epsilon=-1)\n",
    "    Qs = sess_.run(model.Qs, feed_dict={model.state:state_vector})\n",
    "    print(Qs)\n",
    "    s_next, r, d,_ = env.step(a[0])\n",
    "    step+=1\n",
    "    if s_next<4:\n",
    "        i=0\n",
    "        j=s_next\n",
    "    else:\n",
    "        i = int(s_next/4)\n",
    "        j = s_next%4\n",
    "    route[i,j]=step\n",
    "    print(route)\n",
    "    s = s_next\n",
    "\n"
   ]
  },
  {
   "cell_type": "markdown",
   "metadata": {},
   "source": [
    "### 参考资料"
   ]
  },
  {
   "cell_type": "markdown",
   "metadata": {},
   "source": [
    "[1][Simple Reinforcement Learning with Tensorflow Part 0: Q-Learning with Tables and Neural Networks](https://medium.com/emergent-future/simple-reinforcement-learning-with-tensorflow-part-0-q-learning-with-tables-and-neural-networks-d195264329d0)\n",
    "\n",
    "[2][DEMYSTIFYING DEEP REINFORCEMENT LEARNING](https://neuro.cs.ut.ee/demystifying-deep-reinforcement-learning/)\n",
    "\n",
    "[3][Convergence of Q-Learning: a simple proof](http://users.isr.ist.utl.pt/~mtjspaan/readingGroup/ProofQlearning.pdf)"
   ]
  },
  {
   "cell_type": "markdown",
   "metadata": {},
   "source": [
    "## 2 Policy-based Agent "
   ]
  },
  {
   "cell_type": "markdown",
   "metadata": {},
   "source": [
    "## 2.1 Two-armed Bandit"
   ]
  },
  {
   "cell_type": "markdown",
   "metadata": {},
   "source": [
    "强化学习使得我们不仅得以教一个智能体如何工作，并允许智能体通过与环境的交互自行学习如何工作。深度神经网络借助目的导向学习的智能体，可以学习到复杂的环境表达信息，结合学习到的表达，计算机取得了一些令人惊叹的成就，包括[在Atari games上击败人类](https://deepmind.com/research/dqn/)以及[击败围棋冠军](https://deepmind.com/research/alphago/)。\n",
    "\n",
    "学习如何构造这些智能体要求我们从监督学习的工作思路中转变过来。那种找个算法去匹配某些确定刺激和其响应的能力已经不再靠谱了，相反，强化学习算法必须能够使智能体基于“环境状态”，“即时奖赏”以及“动作”这几个元素，自主去获取并学习到合适的输入输出关系。此时，现在无论在何种场景，我们不再能告诉智能体理应执行的所谓的正确的行为，因此，问题相对更加复杂。\n",
    "\n",
    "本小节将以新的一个小问题来探索强化学习——n-armed bandit，也就是n个摇杆的老虎机，每个摇杆都对应固定的选择几率。这个游戏的目标是摸索出这个老虎机最优的摇杆选择几率组合，即一种投币策略，来最大化每次执行该策略获取的奖赏。现在我们先进一步简化这个问题，研究对象选为一个两个摇杆的老虎机。事实上，这个简化后的问题也太简单了，就姑且将它视为更多是一个解决实际强化学习问题的探路者。\n",
    "\n",
    "需要强调的是，被视为强化学习问题的任务会具备以下典型的特点：\n",
    "\n",
    "- 不同的动作决策对应不同的即时奖赏。打个比方，当在一个迷宫寻宝时，在某个位置向右走得到宝藏，向左走遇见陷阱。\n",
    "\n",
    "- 考虑奖赏的前瞻性。即考虑将来可能发生的奖赏，在我们到达向右走就可以得到宝藏的位置前，我们应首先认识到走到该位置是诱人的。\n",
    "\n",
    "- 动作决策的奖赏是基于所处的状态的。在某个位置执行的动作，获取了好的奖赏，在另一个位置执行相同的动作却不一定同样获得好的回报。\n",
    "\n",
    "此次的案例是一个非常简单的开始，它不考虑所处的状态（每次都一样），也不考虑长远收益（前后两个动作相互独立），即忽略了后两个要素。我们需要关注的仅仅是去认识每个动作对应的可能的奖赏，并学习如何去最大化获得的奖赏，如何实现这个目标以强化学习的术语来表达就是策略（policy）——现在我们关注policy-based agent，相比于Q-Learning **“环境$\\rightarrow$Q value$\\rightarrow$动作”**的工作模式，现在的思路是**“环境$\\rightarrow$动作”**，也根据就是直接学习环境到动作的映射。这里用到的优化算法是[policy gradient](http://papers.nips.cc/paper/1713-policy-gradient-methods-for-reinforcement-learning-with-function-approximation.pdf)：构造接受环境状态输入，输出动作的神经网络作为决策单元，通过智能体与环境的交互推导出优化神经网络权重的梯度，进行权重的更新。"
   ]
  },
  {
   "cell_type": "markdown",
   "metadata": {},
   "source": [
    "### Policy gradient"
   ]
  },
  {
   "cell_type": "markdown",
   "metadata": {},
   "source": [
    "本小节主要参考Sutton等人的著作，将从比较数学的角度捋一遍policy gradient：\n",
    "\n",
    "将根据状态选择动作的策略参数化：\n",
    "\n",
    "**Eq(3)**:$\\pi(a|s,\\theta)=Pr\\{A_t=a|S_t=s,\\theta_{t}=\\theta\\}$\n",
    "\n",
    "基于参数化策略，可以定义某策略下，从任意一个状态$s$出发执行策略的期望效益为：\n",
    "\n",
    "**Eq(4)**：$J(\\theta)\\dot{=}v_{\\pi}(s)=\\sum\\limits_{s\\in S}\\mathop {\\sum }\\limits_{a}\\pi(a|s,\\theta)Q_{\\pi}(s,a)$\n",
    "\n",
    "其中，$\\mu{(s)}= \\sum\\limits_{k=0}^{\\infty}\\gamma^{k} Pr(s \\rightarrow x,k,\\pi)$考虑了从状态$s$出发到任意一个状态$x$的概率及经历的期望步数$k$，表达从状态$s$出发到任意一个状态$x$的的期望折扣。\n",
    "\n",
    "很自然可以想到用梯度上升的方式优化上式，需要指出的是，策略参数的更新梯度通过执行的动作和对应的奖赏可以比较直截了当地获得，但执行的策略导致的状态转移是基于所处环境的一个未知表达，因此无法计算这方面作用的梯度，幸运的是，Sutton等人已经证明策略的更新梯度计算不需要考虑状态转移函数的梯度，得出简洁的策略梯度定理：\n",
    "\n",
    "> **Eq(5)**:$\\bigtriangledown J(\\theta) \\propto \\mathop {\\sum }\\limits_{s}\\mu{(s)}\\mathop {\\sum }\\limits_{a}\\bigtriangledown \\pi(a|s,\\theta)Q_{\\pi}(s,a)$\n",
    ",$\\mu{(s)}= \\sum\\limits_{k=0}^{\\infty}\\gamma^{k} Pr(s \\rightarrow x,k,\\pi)$\n"
   ]
  },
  {
   "cell_type": "markdown",
   "metadata": {},
   "source": [
    "#### Reinforce\n",
    "\n",
    "\n",
    "把**Eq(5)**视为基于策略$\\pi$的期望：\n",
    "\n",
    "$ \\mathop {\\sum }\\limits_{s}\\mu{(s)}\\mathop {\\sum }\\limits_{a}\\bigtriangledown \\pi(a|s,\\theta)Q_{\\pi}(s,a)=E_{\\pi}[\\gamma^{k}\\mathop {\\sum }\\limits_{a}\\bigtriangledown \\pi(a|s,\\theta)Q_{\\pi}(s,a)]$\n",
    "\n",
    "简单的变形：\n",
    "\n",
    "$E_{\\pi}[\\gamma^{k}\\mathop {\\sum }\\limits_{a}\\bigtriangledown \\pi(a|s,\\theta)Q_{\\pi}(s,a)]=E_{\\pi}[\\gamma^{k}\\mathop {\\sum }\\limits_{a}\\bigtriangledown \\pi(a|s,\\theta)Q_{\\pi}(s,a)\\frac{\\pi(a|s,\\theta)}{\\pi(a|s,\\theta)}]=E_{\\pi}[\\gamma^{k}\\mathop {\\sum }\\limits_{a}\\bigtriangledown log \\pi(a|s,\\theta)Q_{\\pi}(s,a) {\\pi(a|s,\\theta)} ]$\n",
    "\n",
    "由于动作$a$来源于策略$\\pi$,既有$A_{t}~\\pi$，将动作与状态都视为随机变量，此时上述期望进一步化解：\n",
    "\n",
    "**Eq(6)**：$\\bigtriangledown J(\\theta)=E_{\\pi}[\\gamma^{k} \\bigtriangledown log \\pi(A_t|S_t,\\theta)Q_{\\pi}(S_t,A_t)]$\n",
    "\n",
    "以上即基于策略梯度定理的Reinforce算法，算是策略梯度一类方法的鼻祖，它基于MC的方法进行采样计算梯度，可以看到，为了得到$Q(S_t,A_t)$，每次的MC都需要经历一个完整的episode，故Reinforce只能用于finite-episode的场景，且效率较低，训练方差较大。"
   ]
  },
  {
   "cell_type": "markdown",
   "metadata": {},
   "source": [
    "#### Reinforce with Baseline\n",
    "\n",
    "在**Eq(6)**中，为了减少梯度的方差，使得训练更加平稳，让效益值减去baseline使得每次效益值尽可能固定：\n",
    "\n",
    "$E_{\\pi}[\\gamma^{k}\\mathop {\\sum }\\limits_{a}\\bigtriangledown \\pi(a|s,\\theta)(Q_{\\pi}(s,a)-b(s))]$\n",
    "\n",
    "由于$E_{\\pi}[\\gamma^{k} \\bigtriangledown \\pi(A_t|S_t,\\theta)b(S_t)]=\\mathop {\\sum }\\limits_{a}\\bigtriangledown \\pi(a|s,\\theta)b(s)=b(s)\\bigtriangledown 1=0$，因此这个trick保证了训练稳定性的同时，并不影响梯度的计算。这是Reinforce的一种改进。"
   ]
  },
  {
   "cell_type": "markdown",
   "metadata": {},
   "source": [
    "#### Actor-Critic\n",
    "\n",
    "尽管Reinforce with baseline算法实际上是在学习策略和估计状态价值，但它估计状态价值仅充当baseline，因此并不能称为一个critic。换句话说，Actor-Critic和Reinforce with baseline最大的区别就是：critic实现状态价值估计不仅仅为了充当baseline，更重要是实现bootstrapping，即依据接下来的状态估计更新当前的状态估计，更适合在线运行。"
   ]
  },
  {
   "cell_type": "markdown",
   "metadata": {},
   "source": [
    "### A naive trial : Multi-armed bandit with policy gradient in TensorFlow"
   ]
  },
  {
   "cell_type": "code",
   "execution_count": 27,
   "metadata": {},
   "outputs": [
    {
     "name": "stdout",
     "output_type": "stream",
     "text": [
      "[1.   1.04 1.   1.  ]\n",
      "[0.59079117 1.2490311  1.786226   3.3703156 ]\n",
      "[0.89357394 1.3589152  2.2559717  5.3832917 ]\n",
      "[0.1792259 1.2719303 2.3610716 6.8748937]\n",
      "[-0.59942985  0.9029873   2.2593598   8.167424  ]\n",
      "[-0.21109875  0.71019924  2.6749518   9.356331  ]\n",
      "[-0.6982591  0.6935626  3.129112  10.754131 ]\n",
      "[-0.73552233  0.7496382   3.050733   12.075997  ]\n",
      "[-0.59368587  0.9900622   3.1868832  13.366019  ]\n",
      "[-0.9071643  0.7517966  3.7111242 14.533899 ]\n"
     ]
    }
   ],
   "source": [
    "# 最简单版本的策略梯度案例\n",
    "import tensorflow as tf\n",
    "import numpy as np\n",
    "\n",
    "bandits = [0.2,0,-0.2,-5]\n",
    "\n",
    "\n",
    "def pullBandit(bandit):\n",
    "    result = np.random.randn(1)\n",
    "    if result>bandit:\n",
    "        return 1 # positive reward\n",
    "    else: return -1\n",
    "\n",
    "def weight_variable(shape):\n",
    "    initial = tf.truncated_normal(shape, stddev=0.5)\n",
    "    return tf.Variable(initial)\n",
    "    \n",
    "class agent():\n",
    "    def __init__(self,):\n",
    "        self.action = tf.placeholder(tf.int32,[1], name='action')\n",
    "        self.reward = tf.placeholder(tf.float32,[1], name='reward')\n",
    "    def buildPolicyNetwork(self, num_bandits):\n",
    "        self.weight = tf.Variable(tf.ones([num_bandits]))\n",
    "        self.responsible_weight = tf.slice(self.weight, self.action, [1])\n",
    "        self.loss = -tf.reduce_mean(self.reward*tf.log(self.responsible_weight))\n",
    "        self.trainOp = tf.train.AdamOptimizer(learning_rate=0.04).minimize(self.loss)\n",
    "    def choos_action(self,):\n",
    "        return tf.argmax(self.weight,0)\n",
    "    \n",
    "num_episodes = 1000\n",
    "\n",
    "tf.reset_default_graph()\n",
    "sess_ = tf.Session()\n",
    "model = agent( )\n",
    "model.buildPolicyNetwork(num_bandits=len(bandits))\n",
    "init_op = tf.group(tf.global_variables_initializer(), tf.local_variables_initializer())\n",
    "sess_.run(init_op)\n",
    "\n",
    "exploration_prob = 0.1\n",
    "for i in range(num_episodes):\n",
    "    if np.random.randn(1)<exploration_prob:\n",
    "        action = np.random.randint(len(bandits))\n",
    "    else:\n",
    "        action = sess_.run(model.choos_action())\n",
    "    reward = [pullBandit(bandits[action])]\n",
    "    sess_.run(model.trainOp, feed_dict={model.reward:reward, model.action:[action]})\n",
    "    if i%100==0:\n",
    "        print(sess_.run(model.weight))"
   ]
  },
  {
   "cell_type": "markdown",
   "metadata": {},
   "source": [
    "#### A maturer trial : Cart-Pole task"
   ]
  },
  {
   "cell_type": "markdown",
   "metadata": {},
   "source": [
    "上述案例展示了不考虑状态影响和长期奖赏时，如何利用策略梯度训练智能体，使其选择奖赏更高的动作。接下来将构造一个更加完满的强化学习智能体，让它既可以感知环境状态，又不仅仅局限于即时奖赏。\n",
    "\n",
    "在强化学习中，智能体的外界环境可被看作是一个马尔可夫过程（Markov Decision Process）。这种环境提供奖赏以及状态转移作为智能体决策的反馈，值得指出的是，其奖赏基于状态本身以及智能体在该状态下所执行的动作。整个环境的反馈过程是具有时变性的，并有可能存在一定的延时。\n",
    "\n",
    "更加正式的定义马尔可夫决策过程：\n",
    "\n",
    "一个马尔科夫过程包含状态集合$S$，这些状态$s$可能被智能体在任意时间经历；包含可行动作集合$A$，其中每个$a$是智能体任意时间可能决策的动作。给的状态-动作对$(s,a)$，可以定义下一状态$s'$的转移概率$T(s,a,s')$，以及即时奖赏$R(s,a)$。基于以上定义，在任意MDP中，智能体接受输入状态$s$，执行动作$a$，到达新的状态$s'$并获取奖赏$r$。"
   ]
  },
  {
   "cell_type": "markdown",
   "metadata": {},
   "source": [
    "选择OpenAI gym的Cart-Pole案例进行策略梯度的更完善的实验。在该实验中，我们将训练智能体如何保持一跟竖杆的平衡，使之不倒下，该任务包含的强化学习要是如下：\n",
    "\n",
    "- 输入输出：智能体需要知道竖杆的当前位置，然后推算它平衡时的角度。为了实现这个目标，我们建立的神经网络需要接受输入状态并输出一个动作的概率。\n",
    "\n",
    "- 延迟奖赏：我们尽可能长时间的保持竖杆平衡，这要求智能体不仅仅考虑当下的奖赏，还应有长远的考虑。为了实现这一点，每一个状态-动作对下的效益值应该是一个引入延迟系数的长期奖赏。"
   ]
  },
  {
   "cell_type": "markdown",
   "metadata": {},
   "source": [
    "以下将利用**Actor-Critic**解决Cart-Pole(学习率对训练效果的影响比较显著):"
   ]
  },
  {
   "cell_type": "code",
   "execution_count": 5,
   "metadata": {},
   "outputs": [],
   "source": [
    "import tensorflow as tf\n",
    "import tensorflow.contrib.slim as slim\n",
    "import numpy as np\n",
    "import gym\n",
    "import matplotlib.pyplot as plt\n",
    "%matplotlib inline\n",
    "\n",
    "np.random.seed(2)\n",
    "tf.set_random_seed(2)  # reproducible\n",
    "env = gym.make('CartPole-v0')\n",
    "env.seed(1)  # reproducible\n",
    "state_dim = env.observation_space.shape[0]\n",
    "action_dim = env.action_space.n"
   ]
  },
  {
   "cell_type": "code",
   "execution_count": 6,
   "metadata": {},
   "outputs": [],
   "source": [
    "class replay_memory():\n",
    "    def __init__(self, memory_capacity, state_dim, action_dim=1):\n",
    "        self.memory_capacity = memory_capacity\n",
    "        self.memory = np.zeros((self.memory_capacity, 2*state_dim+action_dim+1+1+1+1))   # state, action ,reward ,next state, action index,q，target q\n",
    "        self.pointer = 0\n",
    "        \n",
    "    def store_experience(self, state, action, reward, next_sate,action_index,v_value,target_v):\n",
    "        index = self.pointer%self.memory_capacity\n",
    "        experience  = np.hstack((state, action, reward, next_sate,action_index,v_value,target_v))\n",
    "        self.memory[index,:]=experience\n",
    "        self.pointer+=1\n",
    "        \n",
    "    def replay(self,batch_size):\n",
    "        memory_batch = []\n",
    "        for i in range(batch_size):\n",
    "            index = np.random.randint(0,self.memory_capacity)\n",
    "            memory_batch.append(self.memory[index,:])\n",
    "        return np.array(memory_batch)"
   ]
  },
  {
   "cell_type": "code",
   "execution_count": 7,
   "metadata": {},
   "outputs": [],
   "source": [
    "def weight_variable(shape,train=True):\n",
    "    initial = tf.truncated_normal(shape, stddev=0.1)\n",
    "    return tf.Variable(initial,trainable=train)\n",
    "def bias_variable(shape,train=True):\n",
    "    initial = tf.constant(value=0.1,shape=shape)\n",
    "    return tf.Variable(initial,trainable=train)\n",
    "\n",
    "class agent():\n",
    "    def __init__(self, action_dim=2, state_dim=4 ):\n",
    "        self.state_dim = state_dim\n",
    "        self.action_dim = action_dim\n",
    "        self.action = tf.placeholder(tf.float32,[None, action_dim], name='action')\n",
    "        self.state = tf.placeholder(tf.float32,[None,state_dim], name='state')\n",
    "        self.next_state = tf.placeholder(tf.float32,[None,state_dim], name='next_state')\n",
    "        self.reward = tf.placeholder(tf.float32,[None,1], name='reward')\n",
    "        self.action_index = tf.placeholder(tf.int32, [None], name='a')\n",
    "        self.V_holder = tf.placeholder(tf.float32, [None,1], name='Qvalue')\n",
    "        self.targetV =  tf.placeholder(tf.float32, [None,1], name='Target_Qvalue')\n",
    "        \n",
    "    def buildCriticNetwork(self,):\n",
    "        with tf.variable_scope('update-Critic_network'):\n",
    "            w1 = weight_variable([self.state_dim, 20])\n",
    "            b1 = bias_variable([20])\n",
    "            w2 = weight_variable([20, 1])\n",
    "            b2 = bias_variable([1])\n",
    "        with tf.variable_scope('target-Critic_network'):\n",
    "            w1_ = weight_variable([self.state_dim, 20],train=False)\n",
    "            b1_ = bias_variable([20],train=False)\n",
    "            w2_ = weight_variable([20, 1],train=False)\n",
    "            b2_ = bias_variable([1],train=False) \n",
    "            \n",
    "        self.v_e_params = tf.get_collection(tf.GraphKeys.GLOBAL_VARIABLES, scope='update-Critic_network')\n",
    "        self.v_t_params = tf.get_collection(tf.GraphKeys.GLOBAL_VARIABLES, scope='target-Critic_network')\n",
    " \n",
    "        h1 = tf.nn.elu(tf.matmul(self.state, w1)+b1)\n",
    "        self.V =  tf.identity(tf.matmul(h1, w2)+b2)\n",
    "\n",
    "        h1_next = tf.nn.elu(tf.matmul(self.next_state, w1_)+b1_)\n",
    "        self.nextV = tf.identity(tf.matmul(h1_next, w2_)+b2_)\n",
    "        \n",
    "        self.v_loss = tf.reduce_mean(tf.squared_difference(self.targetV, self.V))\n",
    "        self.v_trainOp = tf.train.AdamOptimizer(learning_rate=0.1).minimize(self.v_loss)\n",
    "        \n",
    "        self.Critic_network_update=[tf.assign(tar, eva) for tar, eva in zip(self.v_t_params, self.v_e_params)]\n",
    "        \n",
    "    def buildActorNetwork(self, ):\n",
    "        with tf.variable_scope('update-Actor_network'):\n",
    "            w1 = weight_variable([self.state_dim, 20])\n",
    "            b1 = bias_variable([20])\n",
    "            w2 =  weight_variable([20, self.action_dim])\n",
    "            b2 = bias_variable([self.action_dim])\n",
    "            \n",
    "        with tf.variable_scope('target-Actor_network'):\n",
    "            w1_ = weight_variable([self.state_dim, 20],train=False)\n",
    "            b1_ = bias_variable([20],train=False)\n",
    "            w2_ =  weight_variable([20, self.action_dim],train=False)\n",
    "            b2_ = bias_variable([self.action_dim],train=False)\n",
    "            \n",
    "        self.p_e_params = tf.get_collection(tf.GraphKeys.GLOBAL_VARIABLES, scope='update-Actor_network')\n",
    "        self.p_t_params = tf.get_collection(tf.GraphKeys.GLOBAL_VARIABLES, scope='target-Actor_network')\n",
    "        \n",
    "        self.h = tf.nn.elu(tf.matmul(self.state, w1)+b1)\n",
    "        self.action_output = tf.nn.softmax(tf.matmul(self.h, w2)+b2)\n",
    "        \n",
    "        self.h_ = tf.nn.elu(tf.matmul(self.next_state, w1_)+b1_)\n",
    "        self.next_action_output = tf.nn.softmax(tf.matmul(self.h_, w2_)+b2_)\n",
    "     \n",
    "        \n",
    "        # Gather  responsible output corresponding to the action for training\n",
    "        increasing = tf.range(start=0, limit=tf.shape(self.action_output)[0], delta=1)\n",
    "        mask = tf.stack([increasing, self.action_index], axis=1)\n",
    "        self.result = tf.gather_nd(self.action_output, mask)\n",
    "        \n",
    "        td = self.targetV-self.V_holder\n",
    "        self.p_loss = -tf.reduce_mean(tf.log(self.result)*(td))\n",
    "        self.p_trainOp = tf.train.AdamOptimizer(learning_rate=0.001).minimize(self.p_loss)\n",
    "    \n",
    "        self.Actor_network_update=[tf.assign(tar, eva) for tar, eva in zip(self.p_t_params, self.p_e_params)]\n",
    "        \n",
    "       \n"
   ]
  },
  {
   "cell_type": "code",
   "execution_count": 9,
   "metadata": {},
   "outputs": [],
   "source": [
    "M = replay_memory(memory_capacity=1200, state_dim=4, action_dim=2)\n",
    "batch_size_ = 32\n",
    "num_episodes = 250\n",
    "updateStep=100\n",
    "\n",
    "tf.reset_default_graph()\n",
    "sess_ = tf.Session()\n",
    "model = agent( )\n",
    "model.buildCriticNetwork()\n",
    "model.buildActorNetwork()"
   ]
  },
  {
   "cell_type": "code",
   "execution_count": 10,
   "metadata": {
    "scrolled": true
   },
   "outputs": [
    {
     "name": "stdout",
     "output_type": "stream",
     "text": [
      "num_episodes:0 lasting:14\n",
      "num_episodes:20 lasting:15\n",
      "num_episodes:40 lasting:24\n",
      "num_episodes:60 lasting:11\n",
      "train...\n",
      "num_episodes:80 lasting:19\n",
      "num_episodes:100 lasting:20\n",
      "num_episodes:120 lasting:25\n",
      "num_episodes:140 lasting:13\n",
      "num_episodes:160 lasting:144\n",
      "num_episodes:180 lasting:199\n",
      "num_episodes:200 lasting:183\n",
      "num_episodes:220 lasting:199\n",
      "num_episodes:240 lasting:199\n"
     ]
    }
   ],
   "source": [
    "init_op = tf.group(tf.global_variables_initializer(), tf.local_variables_initializer())\n",
    "sess_.run(init_op)\n",
    "records = 0\n",
    "reward_set=[]\n",
    "q_loss_set=[]\n",
    "flag=0\n",
    "max_steps_in_episode = 199 # CartPole-v0默认的最大episode是200，为了防止正确的移动却带来坏的奖赏，将实验的最大episode设为199\n",
    "for i in range(num_episodes):\n",
    "    rewards=0\n",
    "    s = env.reset()\n",
    "    j = 0\n",
    "    while j<max_steps_in_episode:\n",
    "        a_output = sess_.run(model.action_output, feed_dict={model.state:[s]})\n",
    "        a = [np.random.choice(np.arange(a_output.shape[1]), p = a_output.ravel())]\n",
    "        v = sess_.run(model.V, feed_dict={model.state:[s]})\n",
    "        \n",
    "        s_next, r, d, _ = env.step(a[0])\n",
    "        v_next = sess_.run(model.nextV, feed_dict={model.next_state:[s_next]})\n",
    "        \n",
    "        j+=1\n",
    "        records+=1\n",
    "        rewards+=r\n",
    "        \n",
    "        if d==True:\n",
    "            r=-10\n",
    "        target_v = r + 0.9*v_next\n",
    "        \n",
    "        if records>M.memory_capacity:\n",
    "            memory_batch = M.replay(batch_size=batch_size_)\n",
    "            train_s =  memory_batch[:,0:model.state_dim]\n",
    "            train_a = memory_batch[:,model.state_dim:model.state_dim+model.action_dim]\n",
    "            train_r = memory_batch[:,model.state_dim+model.action_dim].reshape(-1,1)\n",
    "            train_ns = memory_batch[:,model.state_dim+model.action_dim+1:model.state_dim*2+model.action_dim+1]\n",
    "            train_ai = memory_batch[:,-3].reshape(-1,)\n",
    "            train_q = memory_batch[:,-2].reshape(-1,1)\n",
    "            train_tq = memory_batch[:,-1].reshape(-1,1)\n",
    "            _,_,q_loss,res,action_output,ai = sess_.run([model.p_trainOp, model.v_trainOp, model.v_loss,model.result,model.action_output,model.action_index], \n",
    "                                   feed_dict={model.state :train_s, \n",
    "                                              model.action :train_a ,\n",
    "                                              model.reward :train_r , \n",
    "                                              model.next_state :train_ns ,\n",
    "                                              model.action_index:train_ai,\n",
    "                                              model.V_holder:train_q,\n",
    "                                              model.targetV:train_tq})   \n",
    "\n",
    "            q_loss_set.append(q_loss)\n",
    "                    \n",
    "            if flag==0:\n",
    "                flag=1\n",
    "                print('train...')\n",
    "            if records%updateStep==0:\n",
    "                sess_.run(model.Actor_network_update)\n",
    "                sess_.run(model.Critic_network_update)\n",
    "                \n",
    "        M.store_experience(state=[s], action=a_output, reward=np.array(r).reshape(1,1), next_sate=[s_next],\n",
    "                   action_index=[a],v_value=v, target_v=target_v)\n",
    "\n",
    "        if d==True:\n",
    "            break\n",
    "\n",
    "        \n",
    "            \n",
    "        s = s_next\n",
    "    if i%20==0:\n",
    "        print('num_episodes:%d lasting:%d'%(i,j))\n",
    "    \n",
    "    reward_set.append(rewards)\n",
    "\n"
   ]
  },
  {
   "cell_type": "code",
   "execution_count": 11,
   "metadata": {},
   "outputs": [
    {
     "data": {
      "image/png": "[encoded data removed]",
      "text/plain": [
       "<Figure size 432x288 with 1 Axes>"
      ]
     },
     "metadata": {
      "needs_background": "light"
     },
     "output_type": "display_data"
    }
   ],
   "source": [
    "plt.xlabel('training step')\n",
    "plt.ylabel('cumulative reward')\n",
    "plt.plot(reward_set)\n",
    "plt.show()"
   ]
  },
  {
   "cell_type": "code",
   "execution_count": 12,
   "metadata": {},
   "outputs": [
    {
     "data": {
      "image/png": "[encoded data removed]",
      "text/plain": [
       "<Figure size 432x288 with 1 Axes>"
      ]
     },
     "metadata": {
      "needs_background": "light"
     },
     "output_type": "display_data"
    }
   ],
   "source": [
    "plt.xlabel('training step')\n",
    "plt.ylabel('q loss')\n",
    "plt.plot(q_loss_set)\n",
    "plt.show()"
   ]
  },
  {
   "cell_type": "markdown",
   "metadata": {},
   "source": [
    "### 参考资料"
   ]
  },
  {
   "cell_type": "markdown",
   "metadata": {},
   "source": [
    "[1] [Simple Reinforcement Learning in Tensorflow: Part 1 - Two-armed Bandit](https://medium.com/@awjuliani/super-simple-reinforcement-learning-tutorial-part-1-fd544fab149)\n",
    "\n",
    "[2][Simple Reinforcement Learning with Tensorflow Part 1.5: Contextual Bandits](https://medium.com/emergent-future/simple-reinforcement-learning-with-tensorflow-part-1-5-contextual-bandits-bff01d1aad9c)\n",
    "\n",
    "[3][Simple Reinforcement Learning with Tensorflow: Part 2 - Policy-based Agents](https://medium.com/@awjuliani/super-simple-reinforcement-learning-tutorial-part-2-ded33892c724)\n",
    "\n",
    "[4]Sutton R S, Barto A G. Reinforcement learning: An introduction[M]. MIT press, 2018."
   ]
  },
  {
   "cell_type": "markdown",
   "metadata": {},
   "source": [
    "## 3 Model-Based RL"
   ]
  },
  {
   "cell_type": "markdown",
   "metadata": {},
   "source": [
    "在本小节，我们对环境进行显式建模，做法是通过一个神经网络去学习实际环境的动态响应过程。以前一小节的CartPole为例，给定任意时刻的竖杆位置和拟执行的动作，我们希望构建模型预测竖杆的下个位置，显然这本身环境应该反馈的信息，现在我们准备提前获知，通过学习只有一个模型，我们可以基于模型而不是外界环境去训练智能体。在CartPole的案例中或许体现不出Model-Based的好处，因为其环境本就是模拟的，但在实际物理世界中，拥有一个环境的等价模型可为训练节省大量成本。\n",
    "\n",
    "不同于仿真，物理世界需要花大量时间去探索，此外，在物理世界，连仿真复位这一基本操作都无法实现，这些都毫无疑问加大训练难度。而构建物理时间的模型就可以节省那些不必要的花费。借助环境模型，智能体得以预知其执行动作在虚拟环境中的结果，此时可以基于虚拟的环境模型和实际环境进行训练。当然，如果我们构造的环境模型足够真实精准，智能体也可以完全在这虚拟环境中训练，然后直接投入真实物理实际应用（交通信号控制案例可以考虑）。\n"
   ]
  },
  {
   "cell_type": "markdown",
   "metadata": {},
   "source": [
    "下面主要基于TensforFlow实现Model学习,结合AC训练的模型进行决策。依旧以CartPole为案例："
   ]
  },
  {
   "cell_type": "code",
   "execution_count": 13,
   "metadata": {},
   "outputs": [],
   "source": [
    "import tensorflow as tf\n",
    "import tensorflow.contrib.slim as slim\n",
    "import numpy as np\n",
    "import gym\n",
    "import matplotlib.pyplot as plt\n",
    "%matplotlib inline\n",
    "\n",
    "np.random.seed(2)\n",
    "tf.set_random_seed(2)  # reproducible\n",
    "env = gym.make('CartPole-v0')\n",
    "env.seed(1)  # reproducible\n",
    "state_dim = env.observation_space.shape[0]\n",
    "action_dim = env.action_space.n"
   ]
  },
  {
   "cell_type": "code",
   "execution_count": 14,
   "metadata": {},
   "outputs": [],
   "source": [
    "class simEnv():\n",
    "    def __init__(self,action_dim=2,state_dim=4):\n",
    "        self.input_dim = action_dim+state_dim\n",
    "        self.state_dim = state_dim\n",
    "        self.input_holder = tf.placeholder(tf.float32, [None,self.input_dim],'sim_input')\n",
    "        self.state_target =  tf.placeholder(tf.float32, [None,self.state_dim],'sim_next_state')\n",
    "        self.done_target = tf.placeholder(tf.float32,[None,1],'sim_done')\n",
    "        self.reward_target = tf.placeholder(tf.float32,[None,1],'sim_reward')\n",
    "    \n",
    "    def buildModel(self,):\n",
    "        hidden_size = 12\n",
    "        w1 = weight_variable([self.input_dim,hidden_size])\n",
    "        b1 = bias_variable([hidden_size])\n",
    "        h1 = tf.nn.elu(tf.matmul(self.input_holder, w1)+b1)\n",
    "        \n",
    "        w_next_state = weight_variable([hidden_size,self.state_dim])\n",
    "        b_next_state = bias_variable([self.state_dim])\n",
    "        next_state = tf.identity(tf.matmul(h1, w_next_state)+b_next_state)\n",
    "        \n",
    "        w_done = weight_variable([hidden_size,1])\n",
    "        b_done = bias_variable([1])\n",
    "        done = tf.sigmoid(tf.matmul(h1, w_done)+b_done)\n",
    "        \n",
    "        w_reward = weight_variable([hidden_size,1])\n",
    "        b_reward = bias_variable([1])\n",
    "        reward = tf.nn.elu(tf.matmul(h1, w_reward)+b_reward)\n",
    "        \n",
    "        self.prediction = tf.concat([next_state, done, reward],1)\n",
    "        \n",
    "        self.state_loss = tf.reduce_mean(tf.squared_difference(next_state, self.state_target))\n",
    "        self.done_loss = -tf.reduce_mean(tf.log(tf.multiply(done,self.done_target)+tf.multiply(1-done, 1-self.done_target)))\n",
    "        self.reward_loss = tf.reduce_mean(tf.squared_difference(reward, self.reward_target))\n",
    "        \n",
    "        self.loss = tf.reduce_mean(self.state_loss+self.done_loss+self.reward_loss)\n",
    "        self.trainOp = tf.train.AdamOptimizer(learning_rate=0.001).minimize(self.loss)"
   ]
  },
  {
   "cell_type": "code",
   "execution_count": 15,
   "metadata": {},
   "outputs": [],
   "source": [
    "class envMemory():\n",
    "    def __init__(self, memory_capacity, state_dim, action_dim=2):\n",
    "        self.state_dim=state_dim\n",
    "        self.action_dim = action_dim\n",
    "        self.memory_capacity = memory_capacity\n",
    "        self.memory = np.zeros((self.memory_capacity, self.state_dim*2+self.action_dim+1+1))   # state, action ,reward ,next state, action index,q，target q\n",
    "        self.pointer = 0\n",
    "        \n",
    "    def store_experience(self, input_, reward, next_state,done):\n",
    "        index = self.pointer%self.memory_capacity\n",
    "        experience  = np.hstack((input_, next_state,reward,done))\n",
    "        self.memory[index,:]=experience\n",
    "        self.pointer+=1\n",
    "        \n",
    "    def replay(self,batch_size):\n",
    "        memory_batch = []\n",
    "        for i in range(batch_size):\n",
    "            index = np.random.randint(0,self.memory_capacity)\n",
    "            memory_batch.append(self.memory[index,:])\n",
    "        return np.array(memory_batch) "
   ]
  },
  {
   "cell_type": "code",
   "execution_count": 18,
   "metadata": {},
   "outputs": [],
   "source": [
    "sess2 = tf.Session()\n",
    "sim_env = simEnv()\n",
    "sim_env.buildModel()\n",
    "init_op = tf.group(tf.global_variables_initializer(), tf.local_variables_initializer())\n",
    "sess2.run(init_op)\n",
    "M_env = envMemory(memory_capacity=3000, state_dim=4)\n",
    "\n",
    "batch_size_ = 32\n",
    "num_episodes = 300\n",
    "records = 0\n",
    "for i in range(num_episodes):\n",
    "    s = env.reset()\n",
    "    max_step=199\n",
    "    j=0\n",
    "    while j<=max_step:\n",
    "        \n",
    "        a_output = sess_.run(model.action_output, feed_dict={model.state:[s]})\n",
    "        a = [np.random.choice(np.arange(a_output.shape[1]), p = a_output.ravel())]\n",
    "        s_next,r,d,_ = env.step(a[0])\n",
    "        if a==0:\n",
    "            input_ = list(s)+[0,1]\n",
    "        else:\n",
    "            input_ = list(s)+[1,0]\n",
    "        if d==True:\n",
    "            d_=1\n",
    "            \n",
    "        else:\n",
    "            d_=0\n",
    "\n",
    "        M_env.store_experience(input_=input_, next_state = s_next,reward=[r],done=[d_])\n",
    "        \n",
    "        records+=1\n",
    "        s = s_next\n",
    "        \n",
    "        if records>M_env.memory_capacity:\n",
    "            memory_batch = M_env.replay(batch_size=batch_size_)\n",
    "            train_s =  memory_batch[:,0:M_env.state_dim+M_env.action_dim]\n",
    "            train_ns = memory_batch[:,M_env.state_dim+M_env.action_dim:2*M_env.state_dim+M_env.action_dim]\n",
    "            train_r = memory_batch[:,-2].reshape(-1,1)\n",
    "            train_d = memory_batch[:,-1].reshape(-1,1)\n",
    "            _,l1,l2,l3 = sess2.run([sim_env.trainOp,sim_env.state_loss,sim_env.done_loss,sim_env.reward_loss], \n",
    "                                   feed_dict={sim_env.input_holder :train_s, \n",
    "                                              sim_env.state_target :train_ns ,\n",
    "                                              sim_env.reward_target :train_r , \n",
    "                                              sim_env.done_target :train_d})\n",
    "        \n",
    "#             if records%1000==0:\n",
    "#                 print('state loss:%g || reward loss:%g || done loss:%g'%(l1 ,l2 ,l3 ))\n",
    "        j+=1\n",
    "        if d==True:break\n"
   ]
  },
  {
   "cell_type": "code",
   "execution_count": 19,
   "metadata": {},
   "outputs": [],
   "source": [
    "s = env.reset()\n",
    "s_sim = s\n",
    "done=False\n",
    "\n",
    "sim_state_trainsistion=[]\n",
    "state_transistion=[]\n",
    "sim_reward_set=[]\n",
    "reward_set=[]\n",
    "sim_done_set=[]\n",
    "done_set=[]\n",
    "\n",
    "while done==False:\n",
    "    a_output = sess_.run(model.action_output, feed_dict={model.state:[s]})\n",
    "    a = [np.random.choice(np.arange(a_output.shape[1]), p = a_output.ravel())]\n",
    "    s_next,r,d,_ = env.step(a[0])\n",
    "    if a==0:\n",
    "        input_ = list(s_sim)+[0,1]\n",
    "    else:\n",
    "        input_ = list(s_sim)+[1,0]\n",
    "        \n",
    "    sim = sess2.run(sim_env.prediction, feed_dict={sim_env.input_holder:[input_]})\n",
    "    sim=sim[0]\n",
    "    sim_done_set.append(sim[-2])\n",
    "    sim_reward_set.append(sim[-1])\n",
    "    sim_state_trainsistion.append(sim[0:4])\n",
    "    \n",
    "    done_set.append(d)\n",
    "    reward_set.append(r)\n",
    "    state_transistion.append(s_next)\n",
    "    \n",
    "    s=s_next\n",
    "    s_sim = sim[0:4]\n",
    "    done = d"
   ]
  },
  {
   "cell_type": "code",
   "execution_count": 20,
   "metadata": {},
   "outputs": [
    {
     "data": {
      "text/plain": [
       "<function matplotlib.pyplot.show(*args, **kw)>"
      ]
     },
     "execution_count": 20,
     "metadata": {},
     "output_type": "execute_result"
    },
    {
     "data": {
      "image/png": "[encoded data removed]",
      "text/plain": [
       "<Figure size 432x288 with 1 Axes>"
      ]
     },
     "metadata": {
      "needs_background": "light"
     },
     "output_type": "display_data"
    }
   ],
   "source": [
    "plt.ylim([0,1.5])\n",
    "plt.xlabel('step')\n",
    "plt.ylabel('reward')\n",
    "plt.plot(reward_set,color='blue',label='field')\n",
    "plt.plot(sim_reward_set,color='red',label='simulation')\n",
    "plt.legend()  \n",
    "plt.show"
   ]
  },
  {
   "cell_type": "code",
   "execution_count": 21,
   "metadata": {},
   "outputs": [
    {
     "data": {
      "text/plain": [
       "<function matplotlib.pyplot.show(*args, **kw)>"
      ]
     },
     "execution_count": 21,
     "metadata": {},
     "output_type": "execute_result"
    },
    {
     "data": {
      "image/png": "[encoded data removed]",
      "text/plain": [
       "<Figure size 432x288 with 1 Axes>"
      ]
     },
     "metadata": {
      "needs_background": "light"
     },
     "output_type": "display_data"
    }
   ],
   "source": [
    "plt.ylim([0,1])\n",
    "plt.xlabel('step')\n",
    "plt.ylabel('done')\n",
    "plt.plot(done_set,color='blue',label='field')\n",
    "plt.plot(sim_done_set,color='red',label='simulation')\n",
    "plt.legend()  \n",
    "plt.show"
   ]
  },
  {
   "cell_type": "code",
   "execution_count": 23,
   "metadata": {},
   "outputs": [
    {
     "data": {
      "image/png": "[encoded data removed]",
      "text/plain": [
       "<Figure size 432x288 with 4 Axes>"
      ]
     },
     "metadata": {
      "needs_background": "light"
     },
     "output_type": "display_data"
    }
   ],
   "source": [
    "state_transistion = np.array(state_transistion)\n",
    "sim_state_trainsistion = np.array(sim_state_trainsistion)\n",
    "\n",
    "fig, ax = plt.subplots(nrows=2, ncols=2)\n",
    "fig.tight_layout() \n",
    "i=0\n",
    "for row in ax:\n",
    "    for col in row:\n",
    "        col.set_ylim([-1,1])\n",
    "        col.set_xlabel('step')\n",
    "        col.set_ylabel('state')\n",
    "        col.plot(state_transistion[:,i],color='blue',label='field')\n",
    "        col.plot(sim_state_trainsistion[:,i],color='red',label='simulation')\n",
    "        col.legend() \n",
    "        i+=1\n",
    "plt.show()"
   ]
  },
  {
   "cell_type": "markdown",
   "metadata": {},
   "source": [
    "### 参考资料"
   ]
  },
  {
   "cell_type": "markdown",
   "metadata": {},
   "source": [
    "[1][Simple Reinforcement Learning with Tensorflow: Part 3 - Model-Based RL](https://medium.com/@awjuliani/simple-reinforcement-learning-with-tensorflow-part-3-model-based-rl-9a6fe0cce99)"
   ]
  },
  {
   "cell_type": "markdown",
   "metadata": {},
   "source": [
    "## 4 More advanced DQN"
   ]
  },
  {
   "cell_type": "markdown",
   "metadata": {},
   "source": [
    "在章节2回顾了DQN，实际上，强化学习的研究发展迅猛，2014年出现的DQN早已不再是最先进的智能体训练算法了。以下主要回顾近年来DQN两个比较著名的进化，Duble DQN和Dueling DQN："
   ]
  },
  {
   "cell_type": "markdown",
   "metadata": {},
   "source": [
    "### Double DQN"
   ]
  },
  {
   "cell_type": "markdown",
   "metadata": {},
   "source": [
    "Double DQN的主要动机是克服DQN经常高估给定状态的潜在动作效益值，即高估Q值。DQN的这一问题往往使得某一局部最优的动作的Q值常规性地大于最优动作的Q值，导致智能体无法学习出一个足够理想的策略。为了解决这个问题，Double DQN提出将训练过程中求目标Q值的最大化操作拆分为动作筛选和动作评估两个过程，即目标Q值计算如下：\n",
    "\n",
    "**Eq(7):** $Double\\  DQN \\ Target \\ Q_t=r_t+ \\lambda Q(s_{t+1},arg \\mathop {\\max }\\limits_{a} (Q(s_{t+1},a|\\theta) |\\theta^{-}))$"
   ]
  },
  {
   "cell_type": "markdown",
   "metadata": {},
   "source": [
    "我们知道，原DQN的目标值估计为：$DQN\\ Target\\ Q_t=r_t+ \\lambda \\mathop {\\max }\\limits_{a} (Q(s_{t+1},a| \\theta^{-})$，通过对比可以发现，在Double DQN中，先利用训练网络根据贪心原则筛选Q值最大的动作，再用目标网络（冻结参数但定期更新）计算筛选后动作在给定状态的Q值。使得目标Q值的计算更加公平，不容易过早陷入局部最优。\n"
   ]
  },
  {
   "cell_type": "markdown",
   "metadata": {},
   "source": [
    "### Dueling DQN"
   ]
  },
  {
   "cell_type": "markdown",
   "metadata": {},
   "source": [
    "在Dueling DQN 中，状态-动作的效益值$Q(s,a)$被分解成两个基础值：\n",
    "\n",
    "**Eq(8)**: $Q(s,a)=V(s)+A(a)$\n",
    "\n",
    "其中,$V(s)$是状态评价，$A(a)$是动作评价。Dueling DQN构造网络如下图："
   ]
  },
  {
   "cell_type": "markdown",
   "metadata": {},
   "source": [
    "<center>\n",
    "    <img style=\"border-radius: 0.3125em;\n",
    "    box-shadow: 0 2px 4px 0 rgba(34,36,38,.12),0 2px 10px 0 rgba(34,36,38,.08);\" \n",
    "    src=\"https://miro.medium.com/max/1050/1*N_t9I7MeejAoWlDuH1i7cw.png\" height=\"300\" width=\"300\">\n",
    "    <br>\n",
    "    <div style=\"color:orange; border-bottom: 1px solid #d9d9d9;\n",
    "    display: inline-block;\n",
    "    color: #999;\n",
    "    padding: 2px;\">DQN（上）与Dueling DQN网络（下）对比示意图</div>\n",
    "</center>"
   ]
  },
  {
   "cell_type": "markdown",
   "metadata": {},
   "source": [
    "可以看到，Dueling DQN的倒数第二层输出分成了状态价值函数估计和动作优势估计两部分，然后将计算结果组合输入最后一层得到最终Q值。这种做法的考虑是，有很多场景动作并不影响所处状态的价值，比如智能体被包围且无论从哪个位置攻击包围圈都无法突围，此时就不需要再去评价各个状态-动作对的价值了。"
   ]
  },
  {
   "cell_type": "markdown",
   "metadata": {},
   "source": [
    "#### Double-Dueling DQN in Tensorflow:"
   ]
  },
  {
   "cell_type": "code",
   "execution_count": 24,
   "metadata": {},
   "outputs": [],
   "source": [
    "import tensorflow as tf\n",
    "import tensorflow.contrib.slim as slim\n",
    "import numpy as np\n",
    "import gym\n",
    "import matplotlib.pyplot as plt\n",
    "%matplotlib inline\n",
    "\n",
    "np.random.seed(2)\n",
    "tf.set_random_seed(2)  # reproducible\n",
    "env = gym.make('CartPole-v0')\n",
    "env.seed(1)  # reproducible\n",
    "state_dim = env.observation_space.shape[0]\n",
    "action_dim = env.action_space.n"
   ]
  },
  {
   "cell_type": "code",
   "execution_count": 25,
   "metadata": {},
   "outputs": [],
   "source": [
    "class replay_memory():\n",
    "    def __init__(self, memory_capacity, state_dim, action_dim=1):\n",
    "        self.memory_capacity = memory_capacity\n",
    "        self.memory = np.zeros((self.memory_capacity, 2*state_dim+1+1))  \n",
    "        self.pointer = 0\n",
    "        \n",
    "    def store_experience(self, state,action,next_sate,reward):\n",
    "        index = self.pointer%self.memory_capacity\n",
    "        experience  = np.hstack((state,action,next_sate,reward))\n",
    "        self.memory[index,:]=experience\n",
    "        self.pointer+=1\n",
    "        \n",
    "    def replay(self,batch_size):\n",
    "        memory_batch = []\n",
    "        for i in range(batch_size):\n",
    "            index = np.random.randint(0,self.memory_capacity)\n",
    "            memory_batch.append(self.memory[index,:])\n",
    "        return memory_batch "
   ]
  },
  {
   "cell_type": "code",
   "execution_count": 26,
   "metadata": {
    "scrolled": true
   },
   "outputs": [
    {
     "name": "stdout",
     "output_type": "stream",
     "text": [
      "WARNING:tensorflow:From <ipython-input-26-15a302f44a81>:48: calling reduce_mean (from tensorflow.python.ops.math_ops) with keep_dims is deprecated and will be removed in a future version.\n",
      "Instructions for updating:\n",
      "keep_dims is deprecated, use keepdims instead\n",
      "train-- episode:20\n",
      "num_episodes:200 lasting:13 loss:0.050593\n",
      "num_episodes:400 lasting:8 loss:0.02893\n",
      "num_episodes:600 lasting:25 loss:0.00536579\n",
      "num_episodes:800 lasting:28 loss:0.00191416\n",
      "num_episodes:1000 lasting:20 loss:0.000418605\n",
      "num_episodes:1200 lasting:11 loss:0.000408298\n",
      "num_episodes:1400 lasting:29 loss:1.50222e-05\n"
     ]
    }
   ],
   "source": [
    "def weight_variable(shape,train=True):\n",
    "    initial = tf.truncated_normal(shape, stddev=0.1)\n",
    "    return tf.Variable(initial,trainable=train)\n",
    "def bias_variable(shape,train=True):\n",
    "    initial = tf.truncated_normal(shape, stddev=0.1)\n",
    "    return tf.Variable(initial,trainable=train)\n",
    "\n",
    "\n",
    "class DoubleDuelingDQN():\n",
    "    def __init__(self,  sess, state_dim=4, action_dim=2, lamda=0.95, updateStep=200, output_num=2):\n",
    "        self.state_dim = state_dim\n",
    "        self.action_dim = action_dim\n",
    "        self.state = tf.placeholder(tf.float32,[None,self.state_dim],name='state')\n",
    "        self.next_state = tf.placeholder(tf.float32,[None,self.state_dim],name='next_state')\n",
    "        self.action_index = tf.placeholder(tf.int32, [None], name='a')\n",
    "        self.lamda = lamda\n",
    "        self.updateStep = updateStep\n",
    "        self.output_num = output_num\n",
    "        self.sess = sess\n",
    "        self.reward_holder = tf.placeholder(tf.float32,[None,1],name='reward')\n",
    "        self.targetQ_holder = tf.placeholder(tf.float32,[None,1],name='target')\n",
    "        \n",
    "    def buildQNetwork(self,):\n",
    "        hidden_size=16\n",
    "        with tf.variable_scope('update-Qnetwork'):\n",
    "            \n",
    "            w1 = weight_variable([self.state_dim,hidden_size])\n",
    "            b1 = bias_variable([hidden_size])\n",
    "            w_s = weight_variable([hidden_size,1])\n",
    "            b_s = bias_variable([1])\n",
    "            w_a = weight_variable([hidden_size,self.action_dim])\n",
    "            b_a = bias_variable([self.action_dim])\n",
    "            \n",
    "        with tf.variable_scope('target-Qnetwork'):\n",
    "            w1_ = weight_variable([self.state_dim,hidden_size],train=False)\n",
    "            b1_ = bias_variable([hidden_size],train=False)\n",
    "            w_s_ = weight_variable([hidden_size,1],train=False)\n",
    "            b_s_ = bias_variable([1],train=False)\n",
    "            w_a_ = weight_variable([hidden_size,self.action_dim],train=False)\n",
    "            b_a_ = bias_variable([self.action_dim],train=False)\n",
    "                                \n",
    "        self.e_params = tf.get_collection(tf.GraphKeys.GLOBAL_VARIABLES, scope='update-Qnetwork')\n",
    "        self.t_params = tf.get_collection(tf.GraphKeys.GLOBAL_VARIABLES, scope='target-Qnetwork')\n",
    "                                \n",
    "        self.h1 = tf.nn.elu(tf.matmul(self.state, w1)+b1)\n",
    "        self.vs = (tf.matmul(self.h1,w_s)+b_s)\n",
    "        self.advantage = (tf.matmul( self.h1,w_a)+b_a)\n",
    "        self.Qs = self.vs + tf.subtract(self.advantage,tf.reduce_mean(self.advantage,axis=1,keep_dims=True))\n",
    "        self.action_choose = tf.argmax(self.Qs,1)\n",
    "        \n",
    "        # next Q value produce\n",
    "        h1_eva = tf.nn.elu(tf.matmul(self.next_state, w1)+b1)\n",
    "        vs_eva = (tf.matmul(h1_eva,w_s)+b_s)\n",
    "        advantage_eva = (tf.matmul(h1_eva,w_a)+b_a)\n",
    "        Qs_eva = vs_eva + tf.subtract(advantage_eva,tf.reduce_mean(advantage_eva,axis=1,keep_dims=True))\n",
    "        action_choose_eva = tf.argmax(Qs_eva,1)     \n",
    "        \n",
    "        h1_next = tf.nn.elu(tf.matmul(self.next_state, w1_)+b1_)\n",
    "        vs_next = (tf.matmul(h1_next,w_s_)+b_s_)\n",
    "        advantage_next = (tf.matmul(h1_next,w_a_)+b_a_)\n",
    "        Qs_next = vs_next + tf.subtract(advantage_next, tf.reduce_mean(advantage_next,axis=1,keep_dims=True))\n",
    "        self.nextQ = Qs_next[0,action_choose_eva[0]]\n",
    "        \n",
    "        increasing = tf.range(start=0, limit=tf.shape(self.action_index)[0], delta=1)\n",
    "        mask = tf.stack([increasing, self.action_index], axis=1)\n",
    "        self.Q = tf.gather_nd(self.Qs, mask)\n",
    "        \n",
    "        self.targetQ = self.reward_holder+self.lamda*self.nextQ\n",
    "        \n",
    "        self.loss = tf.reduce_mean(tf.squared_difference(self.targetQ_holder, self.Q))\n",
    "        \n",
    "        self.trainOp = tf.train.AdamOptimizer(learning_rate=0.002).minimize(self.loss)\n",
    "    \n",
    "    def learn(self,step,memory):\n",
    "        \n",
    "        _, loss = self.sess.run([self.trainOp,self.loss], feed_dict={self.state : memory[:,0:self.state_dim], \n",
    "                                                                     self.action_index : memory[:,self.state_dim].reshape(-1,), \n",
    "                                                                     self.next_state : memory[:,-self.state_dim-1:-1],\n",
    "                                                                     self.reward_holder:memory[:,-2].reshape(-1,1),\n",
    "                                                                     self.targetQ_holder:memory[:,-1].reshape(-1,1)})\n",
    "        \n",
    "        if step%self.updateStep==0:\n",
    "            self.sess.run([tf.assign(tar,  eva) for tar, eva in zip(self.t_params, self.e_params)])\n",
    "        return loss\n",
    "    \n",
    "    def choose_action(self,state,epsilon=0.9):\n",
    "        if np.random.uniform() < epsilon:\n",
    "            return [np.random.randint(0, 2)]\n",
    "        else:\n",
    "            return self.sess.run(self.action_choose, feed_dict={self.state:state})\n",
    "\n",
    "        \n",
    "class replay_memory():\n",
    "    def __init__(self, memory_capacity, state_dim, action_dim=1):\n",
    "        self.memory_capacity = memory_capacity\n",
    "        self.memory = np.zeros((self.memory_capacity, 2*4+1+1+1))  \n",
    "        self.pointer = 0\n",
    "        \n",
    "    def store_experience(self, state, action, next_sate,reward,target):\n",
    "        index = self.pointer%self.memory_capacity\n",
    "        experience  = np.hstack((state, action, next_sate,reward,target))\n",
    "        self.memory[index,:]=experience\n",
    "        self.pointer+=1\n",
    "        \n",
    "    def replay(self,batch_size):\n",
    "        memory_batch = []\n",
    "        for i in range(batch_size):\n",
    "            index = np.random.randint(0,self.memory_capacity)\n",
    "            memory_batch.append(self.memory[index,:])\n",
    "        return memory_batch        \n",
    "    \n",
    "    \n",
    "tf.reset_default_graph()\n",
    "sess_ = tf.Session()\n",
    "model = DoubleDuelingDQN(state_dim=4, lamda=0.95,updateStep=200, sess=sess_)\n",
    "model.buildQNetwork()\n",
    "init_op = tf.group(tf.global_variables_initializer(), tf.local_variables_initializer())\n",
    "sess_.run(init_op)\n",
    "\n",
    "M = replay_memory(memory_capacity=500, state_dim=state_dim_)\n",
    "batch_size_ = 32\n",
    "num_episodes = 1500\n",
    "\n",
    "records = 0\n",
    "loss_set=[]\n",
    "reward_set=[]\n",
    "flag=0\n",
    "\n",
    "e=0.9\n",
    "\n",
    "for i in range(num_episodes):\n",
    "    s = env.reset()\n",
    "    rewards=0\n",
    "    if i>350:\n",
    "        e=-1\n",
    "    aset=[]\n",
    "    j=0\n",
    "    while True:\n",
    "        a = model.choose_action(state=[s],epsilon=e)\n",
    "        aset.append(a[0])\n",
    "        s_next, r, d,_ = env.step(a[0])\n",
    "        \n",
    "        tq = sess_.run(model.targetQ,feed_dict={model.state:[s],model.next_state:[s_next],model.reward_holder:[[r]]})\n",
    "\n",
    "        M.store_experience(state=s, action=a, next_sate=s_next, reward=[r],target=tq[0])\n",
    "\n",
    "        records+=1\n",
    "        rewards+=r\n",
    "        \n",
    "        if records>M.memory_capacity:\n",
    "            if flag==0:\n",
    "                flag=1\n",
    "            memory_batch = M.replay(batch_size=batch_size_)\n",
    "            loss_ = model.learn(records,memory=np.array(memory_batch) )\n",
    "            loss_set.append(loss_)\n",
    "            \n",
    "        if d==True:\n",
    "            break\n",
    "        s = s_next\n",
    "        j+=1\n",
    "        \n",
    "    if flag==1:\n",
    "        print('train-- episode:%d'%i)\n",
    "        flag = 2 \n",
    "    if i%200==0 and records>M.memory_capacity:\n",
    "        print('num_episodes:%d lasting:%d loss:%g'%(i,j,loss_))\n",
    "            \n",
    "    reward_set.append(rewards)\n",
    "    \n"
   ]
  },
  {
   "cell_type": "code",
   "execution_count": 27,
   "metadata": {},
   "outputs": [
    {
     "data": {
      "image/png": "[encoded data removed]",
      "text/plain": [
       "<Figure size 432x288 with 1 Axes>"
      ]
     },
     "metadata": {
      "needs_background": "light"
     },
     "output_type": "display_data"
    }
   ],
   "source": [
    "plt.plot(loss_set)\n",
    "plt.xlabel('training step')\n",
    "plt.ylabel('loss')\n",
    "plt.show()"
   ]
  },
  {
   "cell_type": "code",
   "execution_count": 28,
   "metadata": {},
   "outputs": [
    {
     "data": {
      "image/png": "[encoded data removed]",
      "text/plain": [
       "<Figure size 432x288 with 1 Axes>"
      ]
     },
     "metadata": {
      "needs_background": "light"
     },
     "output_type": "display_data"
    }
   ],
   "source": [
    "plt.plot(reward_set)\n",
    "plt.xlabel('training step')\n",
    "plt.ylabel('cumulative reward')\n",
    "plt.show()"
   ]
  },
  {
   "cell_type": "markdown",
   "metadata": {},
   "source": [
    "### 参考资料"
   ]
  },
  {
   "cell_type": "markdown",
   "metadata": {},
   "source": [
    "[1][Simple Reinforcement Learning with Tensorflow Part 4: Deep Q-Networks and Beyond](https://medium.com/@awjuliani/simple-reinforcement-learning-with-tensorflow-part-4-deep-q-networks-and-beyond-8438a3e2b8df)\n",
    "\n",
    "[2][Deep Reinforcement Learning with Double Q-learning](https://arxiv.org/abs/1509.06461)\n",
    "\n",
    "[3][Dueling Network Architectures for Deep Reinforcement Learning](https://arxiv.org/abs/1511.06581)"
   ]
  },
  {
   "cell_type": "markdown",
   "metadata": {},
   "source": [
    "# 5 Deep Deterministic Policy Gradient"
   ]
  },
  {
   "cell_type": "markdown",
   "metadata": {},
   "source": [
    "在之前回顾的梯度策略下降算法，包括相应的actor-critic中，策略被参数化成一个概率分布，即选择每个动作被一个概率分布控制，并不是直接确定选择一个动作，这为智能体学习带来一定的探索能力的同时，更多的是导致训练误差的方差增大，增大学习难度，此外，原来的策略梯度算法只能解决动作离散的问题，但动作空间过高或连续，收敛效果急剧下降，甚至根本无法应用。为了提高学习效率和强化学习的应用范围，学者提出了确定策略梯度算法，直接构造策略函数，根据状态映射出一个确定的动作。具体的算法推导见[3]。下面是其具体的更新定理："
   ]
  },
  {
   "cell_type": "markdown",
   "metadata": {},
   "source": [
    "将策略函数写作：$a=\\mu_{\\theta}(s)$\n",
    "\n",
    "则 $J_{\\theta}(s)=\\int_{S} p(s)V^{\\mu_{\\theta}(s)}(s)ds$ 可表示该策略下对应问题的总的期望收益，智能体训练的目的就是求得一个使期望收益尽可能大的策略，依旧采用梯度上升的方法，更新梯度如下：\n",
    "\n",
    "$\\bigtriangledown J_{\\theta}(s)=E_{s \\sim p^{\\mu}}[\\bigtriangledown_{\\theta}\\mu_{\\theta}(s)\\bigtriangledown_{a}Q^{\\mu}(s,a)|_{a=\\mu_{\\theta}(s)}]$\n",
    "\n",
    "利用该定理，可以将Actor-Critic改进成确定梯度策略下降的版本："
   ]
  },
  {
   "cell_type": "code",
   "execution_count": 29,
   "metadata": {},
   "outputs": [],
   "source": [
    "import tensorflow as tf\n",
    "import tensorflow.contrib.slim as slim\n",
    "import numpy as np\n",
    "import gym\n",
    "import matplotlib.pyplot as plt\n",
    "%matplotlib inline\n",
    "\n",
    "np.random.seed(2)\n",
    "tf.set_random_seed(2)  # reproducible\n",
    "env = gym.make('CartPole-v0')\n",
    "env.seed(1)  # reproducible\n",
    "state_dim = env.observation_space.shape[0]\n",
    "action_dim = env.action_space.n"
   ]
  },
  {
   "cell_type": "code",
   "execution_count": 30,
   "metadata": {},
   "outputs": [],
   "source": [
    "def weight_variable(shape,train=True):\n",
    "    initial = tf.truncated_normal(shape, stddev=0.5)\n",
    "    return tf.Variable(initial,trainable=train)\n",
    "def bias_variable(shape,train=True):\n",
    "    initial = tf.constant(value=0.1,shape=shape)\n",
    "    return tf.Variable(initial,trainable=train)\n",
    "\n",
    "class agent():\n",
    "    def __init__(self, action_dim=1, state_dim=4 ):\n",
    "        self.state_dim = state_dim\n",
    "        self.action_dim = action_dim\n",
    "        self.state_holder = tf.placeholder(tf.float32,[None,state_dim], name='state')\n",
    "        self.next_state_holder = tf.placeholder(tf.float32,[None,state_dim], name='next_state')\n",
    "        self.reward_holder = tf.placeholder(tf.float32,[None,1], name='reward')\n",
    "        \n",
    "    def buildCriticNetwork(self,):\n",
    "        with tf.variable_scope('update-Critic_network'):\n",
    "            ws = weight_variable([self.state_dim, 1])\n",
    "            wa = weight_variable([self.action_dim, 1])\n",
    "            wc = weight_variable([1,1])\n",
    "            b1 = bias_variable([1])\n",
    "        with tf.variable_scope('target-Critic_network'):\n",
    "            ws_ = weight_variable([self.state_dim, 1],train=False)\n",
    "            wa_ = weight_variable([self.action_dim, 1],train=False)\n",
    "            wc_ = weight_variable([1,1],train=False)\n",
    "            b1_ = bias_variable([1],train=False) \n",
    "            \n",
    "        self.q_e_params = tf.get_collection(tf.GraphKeys.GLOBAL_VARIABLES, scope='update-Critic_network')\n",
    "        self.q_t_params = tf.get_collection(tf.GraphKeys.GLOBAL_VARIABLES, scope='target-Critic_network')\n",
    "        \n",
    "        self.a = tf.stop_gradient(self.action_output)  # action output for Q vaue estimation should act only as constant input\n",
    "        \n",
    "        \n",
    "        h1 = tf.nn.elu(tf.matmul(self.state_holder, ws))\n",
    "        h2 = tf.nn.elu(tf.matmul(self.action_output, wa))\n",
    "        \n",
    "        self.Q = tf.nn.elu(tf.matmul(h1+h2,wc)+b1)\n",
    "\n",
    "        h1_ = tf.nn.elu(tf.matmul(self.next_state_holder, ws_))\n",
    "        h2_ = tf.nn.elu(tf.matmul(self.next_action_output, wa_))\n",
    "        self.Qnext = tf.nn.elu(tf.matmul(h1_+h2_,wc_)+b1_)\n",
    "        \n",
    "        self.targetQ = self.reward_holder + 0.9*self.Qnext\n",
    "        \n",
    "        self.q_loss = tf.reduce_mean(tf.squared_difference(self.targetQ, self.Q))\n",
    "        \n",
    "        self.q_trainOp = tf.train.AdamOptimizer(learning_rate=0.0001).minimize(self.q_loss)\n",
    "        \n",
    "        self.q_grads_a = tf.gradients(self.Q,self.action_output)[0]\n",
    "        \n",
    "        self.Critic_network_update=[tf.assign(tar, eva) for tar, eva in zip(self.q_t_params, self.q_e_params)]\n",
    "        \n",
    "    def buildActorNetwork(self, ):\n",
    "        with tf.variable_scope('update-Actor_network'):\n",
    "            w1 = weight_variable([self.state_dim, 1])\n",
    "            b1 = bias_variable([1])\n",
    "            \n",
    "        with tf.variable_scope('target-Actor_network'):\n",
    "            w1_ = weight_variable([self.state_dim, 1],train=False)\n",
    "            b1_ = bias_variable([1],train=False)\n",
    "            \n",
    "        self.p_e_params = tf.get_collection(tf.GraphKeys.GLOBAL_VARIABLES, scope='update-Actor_network')\n",
    "        self.p_t_params = tf.get_collection(tf.GraphKeys.GLOBAL_VARIABLES, scope='target-Actor_network')\n",
    "        \n",
    "        self.action_output = tf.nn.elu(tf.matmul(self.state_holder, w1)+b1)\n",
    "     \n",
    "        self.next_action_output = tf.nn.elu(tf.matmul(self.next_state_holder, w1_)+b1_)\n",
    "   \n",
    "        self.Actor_network_update=[tf.assign(tar, eva) for tar, eva in zip(self.p_t_params, self.p_e_params)]\n",
    "        \n",
    "    def add_Q_grad_to_graph(self,):\n",
    "        self.policy_grads = tf.gradients(ys=self.action_output, xs=self.p_e_params, grad_ys=self.q_grads_a)\n",
    "        opt = tf.train.AdamOptimizer(learning_rate= -0.0002) \n",
    "        self.p_trainOp = opt.apply_gradients(zip(self.policy_grads, self.p_e_params))\n"
   ]
  },
  {
   "cell_type": "code",
   "execution_count": 31,
   "metadata": {},
   "outputs": [],
   "source": [
    "class replay_memory():\n",
    "    def __init__(self, memory_capacity, state_dim, action_dim=1):\n",
    "        self.memory_capacity = memory_capacity\n",
    "        self.memory = np.zeros((self.memory_capacity, 2*state_dim+action_dim+1))   # state, action ,reward ,next state, action index,q，target q\n",
    "        self.pointer = 0\n",
    "        \n",
    "    def store_experience(self, state, action, reward, next_sate):\n",
    "        index = self.pointer%self.memory_capacity\n",
    "        experience  = np.hstack((state, action, reward, next_sate))\n",
    "        self.memory[index,:]=experience\n",
    "        self.pointer+=1\n",
    "        \n",
    "    def replay(self,batch_size):\n",
    "        memory_batch = []\n",
    "        for i in range(batch_size):\n",
    "            index = np.random.randint(0,self.memory_capacity)\n",
    "            memory_batch.append(self.memory[index,:])\n",
    "        return np.array(memory_batch)"
   ]
  },
  {
   "cell_type": "code",
   "execution_count": 32,
   "metadata": {},
   "outputs": [
    {
     "name": "stdout",
     "output_type": "stream",
     "text": [
      "num_episodes:0 lasting:15\n",
      "train...\n",
      "num_episodes:100 lasting:24\n",
      "num_episodes:200 lasting:11\n",
      "num_episodes:300 lasting:10\n"
     ]
    }
   ],
   "source": [
    "M = replay_memory(memory_capacity=800, state_dim=4, action_dim=1)\n",
    "batch_size_ = 32\n",
    "num_episodes = 400\n",
    "updateStep=6\n",
    "\n",
    "tf.reset_default_graph()\n",
    "sess_ = tf.Session()\n",
    "model = agent( )\n",
    "\n",
    "model.buildActorNetwork()\n",
    "model.buildCriticNetwork()\n",
    "model.add_Q_grad_to_graph()\n",
    "init_op = tf.group(tf.global_variables_initializer(), tf.local_variables_initializer())\n",
    "sess_.run(init_op)\n",
    "records = 0\n",
    "reward_set=[]\n",
    "q_loss_set=[]\n",
    "flag=0\n",
    "max_steps_in_episode = 199 # CartPole-v0默认的最大episode是200，为了防止正确的移动却带来坏的奖赏，将实验的最大episode设为199\n",
    "asets=[]\n",
    "for i in range(num_episodes):\n",
    "    rewards=0\n",
    "    s = env.reset()\n",
    "    j = 0\n",
    "    aset=[]\n",
    "    while j<max_steps_in_episode:\n",
    "        a_output = sess_.run(model.action_output, feed_dict={model.state_holder:[s]})\n",
    "#         a = round(np.clip(a_output[0][0],0,1))\n",
    "#         if i <100:\n",
    "        a = round(np.clip(np.random.normal(a_output[0][0], 0.1), 0, 1))\n",
    "        aset.append(a)\n",
    "        s_next, r, d, _ = env.step(int(a))\n",
    "          \n",
    "        j+=1\n",
    "        records+=1\n",
    "        rewards+=r\n",
    "        \n",
    "        if d==True:\n",
    "            r=-10\n",
    "        \n",
    "        if records>M.memory_capacity:\n",
    "            memory_batch = M.replay(batch_size=batch_size_)\n",
    "            train_s =  memory_batch[:,0:model.state_dim]\n",
    "            train_a = memory_batch[:,model.state_dim]\n",
    "            train_r = memory_batch[:,model.state_dim+1].reshape(-1,1)\n",
    "            train_ns = memory_batch[:,-model.state_dim:]\n",
    "\n",
    "            _,_,q_loss  = sess_.run([model.p_trainOp, model.q_trainOp, model.q_loss], \n",
    "                                   feed_dict={model.state_holder :train_s, \n",
    "                                              model.reward_holder :train_r , \n",
    "                                              model.next_state_holder :train_ns})   \n",
    "\n",
    "            q_loss_set.append(q_loss)\n",
    "                    \n",
    "            if flag==0:\n",
    "                flag=1\n",
    "                print('train...')\n",
    "            if records%updateStep==0:\n",
    "                sess_.run(model.Actor_network_update)\n",
    "                sess_.run(model.Critic_network_update)\n",
    "                \n",
    "        M.store_experience(state=s, action=[a], reward=[r], next_sate=s_next)\n",
    "\n",
    "        if d==True:\n",
    "            break\n",
    "            \n",
    "        s = s_next\n",
    "    asets.append(aset)   \n",
    "    if i%100==0:\n",
    "        print('num_episodes:%d lasting:%d'%(i,j))\n",
    "    \n",
    "    reward_set.append(rewards)\n",
    "\n"
   ]
  },
  {
   "cell_type": "code",
   "execution_count": 33,
   "metadata": {},
   "outputs": [
    {
     "data": {
      "image/png": "[encoded data removed]",
      "text/plain": [
       "<Figure size 432x288 with 2 Axes>"
      ]
     },
     "metadata": {
      "needs_background": "light"
     },
     "output_type": "display_data"
    }
   ],
   "source": [
    "fig = plt.figure()\n",
    "\n",
    "plt.subplot(2, 1, 1)\n",
    "plt.xlabel('training episode')\n",
    "plt.ylabel('cumulative reward')\n",
    "plt.plot(reward_set)\n",
    "\n",
    "plt.subplot(2, 1, 2)\n",
    "plt.xlabel('training step')\n",
    "plt.ylabel('q loss')\n",
    "plt.plot(q_loss_set)\n",
    "\n",
    "plt.show()"
   ]
  },
  {
   "cell_type": "code",
   "execution_count": 34,
   "metadata": {
    "scrolled": true
   },
   "outputs": [
    {
     "name": "stdout",
     "output_type": "stream",
     "text": [
      "num_episodes:0 r:-1259\n",
      "train...\n",
      "num_episodes:100 r:-1277\n",
      "num_episodes:200 r:-1189\n"
     ]
    }
   ],
   "source": [
    "# 离散动作不稳定 试一下连续动作\n",
    "\n",
    "import tensorflow as tf\n",
    "import tensorflow.contrib.slim as slim\n",
    "import numpy as np\n",
    "import gym\n",
    "import matplotlib.pyplot as plt\n",
    "%matplotlib inline\n",
    "\n",
    "np.random.seed(2)\n",
    "tf.set_random_seed(2)  # reproducible\n",
    "env = gym.make('Pendulum-v0')\n",
    "env.seed(1)  # reproducible\n",
    "action_bound = env.action_space.high\n",
    "\n",
    "def weight_variable(shape,train=True):\n",
    "    initial = tf.truncated_normal(shape, stddev=0.3)\n",
    "    return tf.Variable(initial,trainable=train)\n",
    "def bias_variable(shape,train=True):\n",
    "    initial = tf.constant(value=0.1,shape=shape)\n",
    "    return tf.Variable(initial,trainable=train)\n",
    "\n",
    "class agent():\n",
    "    def __init__(self,action_bound, action_dim=1, state_dim=3 ):\n",
    "        self.state_dim = state_dim\n",
    "        self.action_dim = action_dim\n",
    "        self.state_holder = tf.placeholder(tf.float32,[None,state_dim], name='state')\n",
    "        self.next_state_holder = tf.placeholder(tf.float32,[None,state_dim], name='next_state')\n",
    "        self.reward_holder = tf.placeholder(tf.float32,[None,1], name='reward')\n",
    "        self.action_bound = action_bound\n",
    "    def buildCriticNetwork(self,):\n",
    "        with tf.variable_scope('update-Critic_network'):\n",
    "            ws = weight_variable([self.state_dim, 30])\n",
    "            wa = weight_variable([self.action_dim,30])\n",
    "            wc = weight_variable([30,1])\n",
    "            b1 = bias_variable([30])\n",
    "            b2 = bias_variable([1])\n",
    "        with tf.variable_scope('target-Critic_network'):\n",
    "            ws_ = weight_variable([self.state_dim, 30],train=False)\n",
    "            wa_ = weight_variable([self.action_dim, 30],train=False)\n",
    "            wc_ = weight_variable([30,1],train=False)\n",
    "            b1_ = bias_variable([30],train=False) \n",
    "            b2_ = bias_variable([1],train=False)\n",
    "            \n",
    "        self.q_e_params = tf.get_collection(tf.GraphKeys.GLOBAL_VARIABLES, scope='update-Critic_network')\n",
    "        self.q_t_params = tf.get_collection(tf.GraphKeys.GLOBAL_VARIABLES, scope='target-Critic_network')\n",
    "        \n",
    "#         self.a = tf.stop_gradient(self.action_output)  # action output for Q vaue estimation should act only as constant input\n",
    "        \n",
    "        \n",
    "        h1 = (tf.matmul(self.state_holder, ws))\n",
    "        h2 = (tf.matmul(self.action_output, wa))\n",
    "        h3 = tf.nn.elu(h1+h2+b1)\n",
    "        self.Q = tf.nn.elu(tf.matmul(h3, wc)+b2)\n",
    "\n",
    "        h1_ = (tf.matmul(self.next_state_holder, ws_))\n",
    "        h2_ = (tf.matmul(self.next_action_output, wa_))\n",
    "        h3_ = tf.nn.elu(h1_+h2_+b1)\n",
    "        self.Qnext = tf.nn.elu(tf.matmul(h3_, wc_)+b2_)\n",
    "        \n",
    "        self.targetQ = self.reward_holder + 0.9*self.Qnext\n",
    "        \n",
    "        self.q_loss = tf.reduce_mean(tf.squared_difference(self.targetQ, self.Q))\n",
    "        \n",
    "        self.q_trainOp = tf.train.AdamOptimizer(learning_rate=0.001).minimize(self.q_loss,var_list=self.q_e_params)\n",
    "        \n",
    "        self.q_grads_a = tf.gradients(self.Q,self.action_output)[0]\n",
    "        \n",
    "        self.Critic_network_update=[tf.assign(tar, eva) for tar, eva in zip(self.q_t_params, self.q_e_params)]\n",
    "        \n",
    "    def buildActorNetwork(self, ):\n",
    "        with tf.variable_scope('update-Actor_network'):\n",
    "            w1 = weight_variable([self.state_dim, 30])\n",
    "            b1 = bias_variable([30])\n",
    "            w2 = weight_variable([30, 1])\n",
    "            b2 = bias_variable([1])\n",
    "        with tf.variable_scope('target-Actor_network'):\n",
    "            w1_ = weight_variable([self.state_dim, 30],train=False)\n",
    "            b1_ = bias_variable([30],train=False)\n",
    "            w2_ = weight_variable([30, 1],train=False)\n",
    "            b2_ = bias_variable([1],train=False)\n",
    "            \n",
    "        self.p_e_params = tf.get_collection(tf.GraphKeys.GLOBAL_VARIABLES, scope='update-Actor_network')\n",
    "        self.p_t_params = tf.get_collection(tf.GraphKeys.GLOBAL_VARIABLES, scope='target-Actor_network')\n",
    "        \n",
    "        self.h1 = tf.nn.elu(tf.matmul(self.state_holder, w1)+b1)\n",
    "        self.action_output = tf.multiply(tf.nn.tanh(tf.matmul(self.h1, w2)+b2), self.action_bound)\n",
    "     \n",
    "        self.h1_ = tf.nn.elu(tf.matmul(self.next_state_holder, w1_)+b1_)\n",
    "        self.next_action_output = tf.multiply(tf.nn.tanh(tf.matmul(self.h1_, w2_)+b2_), self.action_bound)\n",
    "   \n",
    "        self.Actor_network_update=[tf.assign(tar, eva) for tar, eva in zip(self.p_t_params, self.p_e_params)]\n",
    "        \n",
    "    def add_Q_grad_to_graph(self,):\n",
    "        self.policy_grads = tf.gradients(ys=self.action_output, xs=self.p_e_params, grad_ys=self.q_grads_a)\n",
    "        opt = tf.train.AdamOptimizer(learning_rate=-0.001) \n",
    "        self.p_trainOp = opt.apply_gradients(zip(self.policy_grads, self.p_e_params))\n",
    "        \n",
    "M = replay_memory(memory_capacity=10000, state_dim=3, action_dim=1)\n",
    "batch_size_ = 32\n",
    "num_episodes = 300\n",
    "updateStep=600\n",
    "\n",
    "tf.reset_default_graph()\n",
    "sess_ = tf.Session()\n",
    "model = agent(action_bound=action_bound )\n",
    "\n",
    "model.buildActorNetwork()\n",
    "model.buildCriticNetwork()\n",
    "model.add_Q_grad_to_graph()\n",
    "init_op = tf.group(tf.global_variables_initializer(), tf.local_variables_initializer())\n",
    "sess_.run(init_op)\n",
    "records = 0\n",
    "reward_set=[]\n",
    "q_loss_set=[]\n",
    "flag=0\n",
    "max_steps_in_episode = 300\n",
    "asets=[]\n",
    "var=3.\n",
    "for i in range(num_episodes):\n",
    "    rewards=0\n",
    "    s = env.reset()\n",
    "    j = 0\n",
    "    aset=[]\n",
    "    while j<max_steps_in_episode:\n",
    "        a_output = sess_.run(model.action_output, feed_dict={model.state_holder:[s]})\n",
    "        if i <200:\n",
    "            a = np.clip(np.random.normal(a_output[0],var),-2,2)\n",
    "        else:\n",
    "            a = np.clip(a_output[0],-2,2)\n",
    "        aset.append(a)\n",
    "        s_next, r, d, _ = env.step(a)\n",
    "          \n",
    "        j+=1\n",
    "        records+=1\n",
    "        rewards+=r\n",
    "\n",
    "        \n",
    "        if records>M.memory_capacity:\n",
    "            var *= .9995\n",
    "            memory_batch = M.replay(batch_size=batch_size_)\n",
    "            train_s =  memory_batch[:,0:model.state_dim]\n",
    "            train_a = memory_batch[:,model.state_dim]\n",
    "            train_r = memory_batch[:,model.state_dim+1].reshape(-1,1)\n",
    "            train_ns = memory_batch[:,-model.state_dim:]\n",
    "\n",
    "            _,_,q_loss  = sess_.run([model.p_trainOp, model.q_trainOp, model.q_loss], \n",
    "                                   feed_dict={model.state_holder :train_s, \n",
    "                                              model.reward_holder :train_r , \n",
    "                                              model.next_state_holder :train_ns})   \n",
    "\n",
    "            q_loss_set.append(q_loss)\n",
    "                    \n",
    "            if flag==0:\n",
    "                flag=1\n",
    "                print('train...')\n",
    "            if records%updateStep==0:\n",
    "                sess_.run(model.Actor_network_update)\n",
    "                sess_.run(model.Critic_network_update)\n",
    "        \n",
    "        M.store_experience(state=s, action=a, reward=[r/10.], next_sate=s_next)\n",
    "\n",
    "        if d==True:\n",
    "            break\n",
    "            \n",
    "        s = s_next\n",
    "    asets.append(aset)   \n",
    "    if i%100==0:\n",
    "        print('num_episodes:%d r:%d'%(i,rewards))\n",
    "    \n",
    "    reward_set.append(rewards)\n",
    "\n",
    "\n"
   ]
  },
  {
   "cell_type": "code",
   "execution_count": 35,
   "metadata": {},
   "outputs": [
    {
     "data": {
      "image/png": "[encoded data removed]",
      "text/plain": [
       "<Figure size 432x288 with 2 Axes>"
      ]
     },
     "metadata": {
      "needs_background": "light"
     },
     "output_type": "display_data"
    }
   ],
   "source": [
    "fig = plt.figure()\n",
    "\n",
    "plt.subplot(2, 1, 1)\n",
    "plt.xlabel('training episode')\n",
    "plt.ylabel('cumulative reward')\n",
    "plt.plot(reward_set)\n",
    "\n",
    "plt.subplot(2, 1, 2)\n",
    "plt.xlabel('training step')\n",
    "plt.ylabel('q loss')\n",
    "plt.plot(q_loss_set)\n",
    "\n",
    "plt.show()"
   ]
  },
  {
   "cell_type": "code",
   "execution_count": 36,
   "metadata": {},
   "outputs": [
    {
     "data": {
      "image/png": "[encoded data removed]",
      "text/plain": [
       "<Figure size 432x288 with 1 Axes>"
      ]
     },
     "metadata": {
      "needs_background": "light"
     },
     "output_type": "display_data"
    }
   ],
   "source": [
    "plt.xlabel('training episode')\n",
    "plt.ylabel('cumulative reward')\n",
    "plt.plot(reward_set)\n",
    "plt.show()"
   ]
  },
  {
   "cell_type": "markdown",
   "metadata": {},
   "source": [
    "### 参考资料"
   ]
  },
  {
   "cell_type": "markdown",
   "metadata": {},
   "source": [
    "[1] [Deterministic Policy Gradient Algorithms](http://proceedings.mlr.press/v32/silver14.pdf)\n",
    "\n",
    "[2] [Continuous Control With Deep Reinforcement Learning](https://arxiv.org/pdf/1509.02971.pdf)\n",
    "\n",
    "[3][Deterministic Policy Gradient Algorithms: Supplementary Material](http://proceedings.mlr.press/v32/silver14-supp.pdf)"
   ]
  },
  {
   "cell_type": "markdown",
   "metadata": {},
   "source": [
    "# 6 From Trust Religion Policy Optimization(TRPO) to Proximal Policy Optimization (PPO)"
   ]
  },
  {
   "cell_type": "code",
   "execution_count": null,
   "metadata": {},
   "outputs": [],
   "source": []
  },
  {
   "cell_type": "markdown",
   "metadata": {},
   "source": [
    "### 参考资料"
   ]
  },
  {
   "cell_type": "markdown",
   "metadata": {},
   "source": [
    "[1][Trust Region Policy Optimization](https://arxiv.org/abs/1502.05477)\n",
    "\n",
    "[2][Proximal Policy Optimization](https://openai.com/blog/openai-baselines-ppo/)\n",
    "\n",
    "[3][RL — Trust Region Policy Optimization (TRPO) Explained](https://medium.com/@jonathan_hui/rl-trust-region-policy-optimization-trpo-explained-a6ee04eeeee9)\n",
    "\n",
    "[4][RL — Proximal Policy Optimization (PPO) Explained](https://medium.com/@jonathan_hui/rl-proximal-policy-optimization-ppo-explained-77f014ec3f12)"
   ]
  },
  {
   "cell_type": "markdown",
   "metadata": {},
   "source": [
    "# 7 Partial Observity and Deep Recurrent Q-Network"
   ]
  },
  {
   "cell_type": "markdown",
   "metadata": {},
   "source": [
    "在实际应用问题中，更普遍的情况是我们不能对环境进行全感知，意味着智能体无法依据环境的所有信息去执行最优决策。我们把环境可以为智能体学习到最优决策提供所有必备信息的框架称为马尔可夫决策过程（MDP），而对只能提供部分信息的框架则被称为局部观察马尔可夫决策过程（Partially Observable Markov Decesion Process, POMDP）。\n",
    "\n",
    "无法全感知的环境所提现的信息局部性分为空间局限和时间局限两种。空间局限指的是我们无法观察周围的全部状况，就好像人类无法同时观察前后然后决策；时间局限指的是我们任意时刻观察到的场景都是一个快照式的信息，唯有连续观察才能感知环境的变化动态，就好像乒乓球比赛中，在某时刻观察到球的动向不足以让我们执行好的应对决策，唯有观察球一段时间的移动，了解它反弹的角度和力度，才能执行正确的决策。\n",
    "\n",
    "那么我们该如何构造出可以应对局部可观测的环境的智能体呢？其中一个关键是赋予智能体融合时间维度信息的能力。这个关键的动机是：某个时刻的观察结果往往无法提供有效的信息，而将观察时间拉长，足够的时变规律或许可成为更好的决策依据。\n",
    "\n",
    "在经典的DQN文章中，作者采用叠加前四个时刻的帧作为智能体对环境的感知输入，这种构造在简单的游戏中获得不错的效果。但需要指出的是，这方法并完美:\n",
    "- 首先，生硬地叠加不同时刻快照在生物角度并不可解释，因为生物观察外界时，并不是储备一段时间的信息再一下子可视化，即一段时间的信息被压缩在一瞬间回传到大脑；\n",
    "- 其次，存储时间维度的信息往往会导致更多不必要的内存消耗，面对更复杂问题是该消耗会非常庞大；\n",
    "- 最后，很关键的一点是一段时间的信息可能还不足以为决策提供最好的依据，因为某一决策可能受很久之前的环境状态影响。\n",
    "\n",
    "为了优化和解决以上几个不足，学者提出了Deep Recurrent Q-Learning的强化学习框架，将递归神经网络移植到智能体上。借助递归神经网络部件，我们可以一次输入一个感知快照，然后递归神经网络会记忆依次传输进来的快照信息，结合递归神经网络隐藏状态的传递，感知时间维度的模式。简单来说，递归神经网络让智能体的每个时间节点的输入都串联起来，在任意时刻，智能体可以依据之前消化的观察信息做出合适的决策。"
   ]
  },
  {
   "cell_type": "markdown",
   "metadata": {},
   "source": [
    "<center>\n",
    "    <img style=\"border-radius: 0.3125em;\n",
    "    box-shadow: 0 2px 4px 0 rgba(34,36,38,.12),0 2px 10px 0 rgba(34,36,38,.08);\" \n",
    "    src=\"https://miro.medium.com/max/1050/1*aX8QjJP-gDXA4Dc3gP9LcQ.png\" height=\"300\" width=\"300\">\n",
    "    <br>\n",
    "    <div style=\"color:orange; border-bottom: 1px solid #d9d9d9;\n",
    "    display: inline-block;\n",
    "    color: #999;\n",
    "    padding: 2px;\">DRQN:利用递归神经网络融合时间信息</div>\n",
    "</center>"
   ]
  },
  {
   "cell_type": "markdown",
   "metadata": {},
   "source": [
    "为了实现DRQN，可以在DQN的基础上进行以下的调整：\n",
    "\n",
    "- 1）智能体对环境的感知引入时间维度信息：输入一定步数的状态快照，训练时：输入步数=自定义步数；应用时：输入步数=1.\n",
    "- 2）experience replay调整：为考虑时间维度信息，适应递归神经网络的输入机制，以episode长度为单位存储信息，以输入步数为单位抽取经验，即每次存储数据的维度为：\n",
    "                  [1,原存储经验大小 x episode长度 ]\n",
    "每次训练抽取的数据时，先随机筛选一个存储的episode，再随机选取该episode的任意时刻作为起始时刻，以输入步数为单位得到一条训练样本，抽取样本的维度为:\n",
    "\n",
    "                  [bacth size,原存储经验大小 x 输入步数 ]\n",
    "\n",
    "     转化为rnn输入时，reshape为:\n",
    "\n",
    "                   [bacth size x 输入步数,原存储经验大小]\n",
    "- 3）更新梯度调整：在计算估计Q值和目标Q值的误差时，误差维度应为 [batch size, 输入步数] 参照[3]提出的优化策略，仅利用后一半输入步数的loss计算梯度，进行参数更新，此优化策略有待进一步分析探究。"
   ]
  },
  {
   "cell_type": "markdown",
   "metadata": {},
   "source": [
    "### DRQN in Tensorflow"
   ]
  },
  {
   "cell_type": "code",
   "execution_count": 37,
   "metadata": {},
   "outputs": [],
   "source": [
    "import tensorflow as tf\n",
    "import gym\n",
    "import numpy as np\n",
    "import random\n",
    "import matplotlib.pyplot as plt\n",
    "%matplotlib inline\n",
    "env = gym.make('FrozenLake-v0')\n",
    "\n",
    "state_dim_ = env.observation_space.n\n",
    "action_num_ = env.action_space.n"
   ]
  },
  {
   "cell_type": "code",
   "execution_count": 38,
   "metadata": {
    "scrolled": true
   },
   "outputs": [
    {
     "name": "stdout",
     "output_type": "stream",
     "text": [
      "WARNING:tensorflow:From <ipython-input-38-16622f035583>:30: BasicLSTMCell.__init__ (from tensorflow.python.ops.rnn_cell_impl) is deprecated and will be removed in a future version.\n",
      "Instructions for updating:\n",
      "This class is deprecated, please use tf.nn.rnn_cell.LSTMCell, which supports all the feature this cell currently has. Please replace the existing code with tf.nn.rnn_cell.LSTMCell(name='basic_lstm_cell').\n",
      "episode: 600 loss: 0.0412653\n",
      "episode: 800 loss: 0.0354741\n",
      "episode: 1000 loss: 0.0116885\n",
      "episode: 1200 loss: 0.0118304\n",
      "episode: 1400 loss: 0.00714227\n"
     ]
    },
    {
     "data": {
      "image/png": "[encoded data removed]",
      "text/plain": [
       "<Figure size 432x288 with 1 Axes>"
      ]
     },
     "metadata": {
      "needs_background": "light"
     },
     "output_type": "display_data"
    }
   ],
   "source": [
    "def weight_variable(shape,train=True):\n",
    "    initial = tf.truncated_normal(shape, stddev=0.1)\n",
    "    return tf.Variable(initial,trainable=train)\n",
    "def bias_variable(shape,train=True):\n",
    "    initial = tf.truncated_normal(shape, stddev=0.1)\n",
    "    return tf.Variable(initial,trainable=train)\n",
    "\n",
    "\n",
    "class DRQN():\n",
    "    def __init__(self, sess, state_dim, action_dim=1, lamda=0.95, updateStep=3, output_num=4):\n",
    "        self.state_dim = state_dim\n",
    "        self.action_dim = action_dim\n",
    "        self.state = tf.placeholder(tf.float32,[None,self.state_dim],name='state')\n",
    "        self.next_state = tf.placeholder(tf.float32,[None,self.state_dim],name='next_state')\n",
    "        self.lamda = lamda\n",
    "        self.updateStep = updateStep\n",
    "        self.action_output_num = output_num\n",
    "        self.sess = sess\n",
    "        self.reward_holder = tf.placeholder(tf.float32,[None], name='reward')\n",
    "        self.action_index = tf.placeholder(shape=None,dtype=tf.int32)\n",
    "        self.h_size = state_dim # only for convenience\n",
    "        self.trace_length_holder = tf.placeholder(tf.int32)\n",
    "        self.batch_size = tf.placeholder(dtype=tf.int32,shape=[])\n",
    "        \n",
    "    def buildQNetwork(self,):\n",
    "        \n",
    "        with tf.variable_scope('update-Qnetwork'):\n",
    "            w1 = weight_variable([self.h_size,self.action_output_num])\n",
    "            b1 = bias_variable([self.action_output_num])\n",
    "            cell = tf.contrib.rnn.BasicLSTMCell(num_units=self.h_size,state_is_tuple=True)\n",
    "\n",
    "        with tf.variable_scope('target-Qnetwork'):\n",
    "            w1_ = weight_variable([self.h_size,self.action_output_num],train=False)\n",
    "            b1_ = bias_variable([self.action_output_num],train=False)\n",
    "            cell_ = tf.contrib.rnn.BasicLSTMCell(num_units=self.h_size,state_is_tuple=True)    \n",
    "            \n",
    "        self.e_params = tf.get_collection(tf.GraphKeys.GLOBAL_VARIABLES, scope='update-Qnetwork')\n",
    "        self.t_params = tf.get_collection(tf.GraphKeys.GLOBAL_VARIABLES, scope='target-Qnetwork')\n",
    "        \n",
    "        self.state_input = tf.reshape(self.state,[-1,self.trace_length_holder,self.h_size])\n",
    "        self.init_hidden_state = cell.zero_state(self.batch_size , tf.float32) \n",
    "        self.rnn,self.rnn_state = tf.nn.dynamic_rnn(\\\n",
    "                inputs=self.state_input,cell=cell,dtype=tf.float32,initial_state=self.init_hidden_state,scope='update-Qnetwork_rnn')\n",
    "        self.rnn = tf.reshape(self.rnn,shape=[-1,self.h_size])\n",
    "        self.Qs = (tf.matmul(self.rnn,w1)+b1)\n",
    "\n",
    "        self.next_state_input = tf.reshape(self.next_state,[-1,self.trace_length_holder,self.h_size])\n",
    "        self.init_hidden_state_ = cell_.zero_state(self.batch_size , tf.float32) # bacth size = tf.shape(self.next_state)[0]\n",
    "        self.rnn_,self.rnn_state_ = tf.nn.dynamic_rnn(\\\n",
    "                inputs=self.next_state_input,cell=cell,dtype=tf.float32,initial_state=self.init_hidden_state_,scope='update-Qnetwork_rnn')\n",
    "        self.rnn_ = tf.reshape(self.rnn_,shape=[-1,self.h_size])\n",
    "        self.nextQs = (tf.matmul(self.rnn_,w1_)+b1_)\n",
    "        \n",
    "        increasing = tf.range(start=0, limit=tf.shape(self.action_index)[0] , delta=1)\n",
    "        mask = tf.stack([increasing, self.action_index], axis=1)\n",
    "        self.Q = tf.gather_nd(self.Qs, mask)\n",
    "        \n",
    "        self.nextQ = tf.reduce_max(self.nextQs,axis=1)\n",
    "        self.targetQ = self.reward_holder+self.lamda*self.nextQ\n",
    "        \n",
    "        self.td_error = tf.square(self.targetQ - self.Q)\n",
    "        \n",
    "        #In order to only propogate accurate gradients through the network, we will mask the first\n",
    "        #half of the losses for each trace as per Lample & Chatlot 2016\n",
    "        self.maskA = tf.zeros([self.batch_size,self.trace_length_holder//2])\n",
    "        self.maskB = tf.ones([self.batch_size,self.trace_length_holder//2])\n",
    "        self.mask = tf.concat([self.maskA,self.maskB],1)\n",
    "        self.mask = tf.reshape(self.mask,[-1])\n",
    "        self.loss = tf.reduce_mean(self.td_error * self.mask)\n",
    "                \n",
    "        self.a = tf.argmax(self.Qs,1)\n",
    "        \n",
    "        self.trainOp = tf.train.AdamOptimizer(learning_rate=0.0005).minimize(self.loss,var_list=self.e_params)\n",
    "    \n",
    "    def learn(self,step,memory,init_state,trace_length=4,batch_size=32):\n",
    "        \n",
    "        _, loss = self.sess.run([self.trainOp,self.loss], feed_dict={self.state : list(memory[:,0]), \n",
    "                                                                     self.next_state: list(memory[:,3]),\n",
    "                                                                     self.action_index:memory[:,1],\n",
    "                                                                     self.reward_holder:memory[:,2],\n",
    "                                                                     self.trace_length_holder:trace_length,\n",
    "                                                                    self.init_hidden_state:init_state,\n",
    "                                                                    self.init_hidden_state_:init_state,\n",
    "                                                                    self.batch_size :batch_size})\n",
    "        \n",
    "        if step%self.updateStep==0:\n",
    "            self.sess.run([tf.assign(tar,  eva) for tar, eva in zip(self.t_params, self.e_params)])\n",
    "        return loss\n",
    "    \n",
    "    def choose_action(self,state,init_state,epsilon=0.9,batch_size=1):\n",
    "        if np.random.uniform() < epsilon:\n",
    "            return [np.random.randint(0, 4)], self.sess.run( self.rnn_state ,feed_dict={self.state:state,self.trace_length_holder:1,self.init_hidden_state:init_state,\n",
    "                                                                    self.init_hidden_state_:init_state,self.batch_size :batch_size})\n",
    "        else:\n",
    "            return self.sess.run( self.a , feed_dict={self.state:state,self.trace_length_holder:1,self.init_hidden_state:init_state,\n",
    "                                                                    self.init_hidden_state_:init_state,self.batch_size :batch_size}),self.sess.run( self.rnn_state , feed_dict={self.state:state,self.trace_length_holder:1,self.init_hidden_state:init_state,\n",
    "                                                                    self.init_hidden_state_:init_state,self.batch_size :batch_size})\n",
    "\n",
    "    \n",
    "class replay_memory_episodewise():\n",
    "    def __init__(self, memory_capacity = 1000, episode_num=99, one_piece_experiecnce_len=5,trace_length=4):\n",
    "        self.buffer = []\n",
    "        self.memory_capacity = memory_capacity\n",
    "        self.one_piece_experiecnce_len = one_piece_experiecnce_len\n",
    "        self.episode_num = episode_num\n",
    "        self.trace_length =trace_length\n",
    "        \n",
    "    def add(self,experience):\n",
    "        if len(self.buffer) + 1 >= self.memory_capacity:\n",
    "            self.buffer[0:(1+len(self.buffer))-self.memory_capacity] = []\n",
    "        self.buffer.append(experience)\n",
    "            \n",
    "    def replay(self,batch_size):\n",
    "        sampled_episodes = random.sample(self.buffer,batch_size)\n",
    "        sampledTraces = []\n",
    "        for episode in sampled_episodes:\n",
    "            point = np.random.randint(0,len(episode)+1-self.trace_length)\n",
    "            sampledTraces.append(episode[point:point+self.trace_length])\n",
    "        sampledTraces = np.array(sampledTraces)\n",
    "        return np.reshape(sampledTraces,[batch_size*self.trace_length,self.one_piece_experiecnce_len])       \n",
    "    \n",
    "batch_size_ = 32    \n",
    "tf.reset_default_graph()\n",
    "sess_ = tf.Session()\n",
    "h_size = state_dim_\n",
    "model = DRQN(state_dim=state_dim_, lamda=0.95, updateStep=120, sess=sess_)\n",
    "model.buildQNetwork()\n",
    "init_op = tf.group(tf.global_variables_initializer(), tf.local_variables_initializer())\n",
    "sess_.run(init_op)\n",
    "\n",
    "M = replay_memory_episodewise(memory_capacity=500)\n",
    "num_episodes = 1500\n",
    "\n",
    "records = 0\n",
    "loss_set=[]\n",
    "e=1.\n",
    "rewardset=[]\n",
    "i=0\n",
    "while i < num_episodes:\n",
    "    s = env.reset()\n",
    "    j = 0\n",
    "    max_steps_in_episode = 99\n",
    "    \n",
    "    if i>500:\n",
    "        e=0.001\n",
    "        \n",
    "    reward=0\n",
    "    episodeBuffer = []\n",
    "    step=0\n",
    "    hidden_state = (np.zeros([1,h_size]),np.zeros([1,h_size]))\n",
    "    \n",
    "    while j<max_steps_in_episode:\n",
    "        state_vector = np.zeros([1,state_dim_])\n",
    "        state_vector[0,s]=1\n",
    "        a,last_hidden_state = model.choose_action(state=state_vector,epsilon=e,init_state=hidden_state)\n",
    "        s_next, r, d,_ = env.step(a[0])\n",
    "        if r==0 and d==True:\n",
    "            episodeBuffer.append(np.reshape(np.array([state_vector[0],a[0],-1,nextSate_vector[0],d]),[1,5]))\n",
    "        else:\n",
    "            episodeBuffer.append(np.reshape(np.array([state_vector[0],a[0],r,nextSate_vector[0],d]),[1,5]))\n",
    "        nextSate_vector = np.zeros([1,state_dim_])    \n",
    "        nextSate_vector[0,s_next]=1\n",
    "        \n",
    "        \n",
    "        step+=1\n",
    "        \n",
    "        j+=1\n",
    "        \n",
    "        s = s_next\n",
    "        hidden_state=last_hidden_state\n",
    "        \n",
    "        if records>M.memory_capacity:\n",
    "            hidden_state_train = (np.zeros([batch_size_,h_size]),np.zeros([batch_size_,h_size])) \n",
    "            memory_batch = M.replay(batch_size_)\n",
    "            loss_ = model.learn(records,memory=memory_batch,trace_length=M.trace_length,init_state=hidden_state_train)\n",
    "            loss_set.append(loss_)\n",
    "        if d==True:\n",
    "            break\n",
    "            \n",
    "    \n",
    "    if step>=M.trace_length:\n",
    "        bufferArray = np.array(episodeBuffer)\n",
    "        episodeBuffer = list(zip(bufferArray))\n",
    "        M.add(episodeBuffer)\n",
    "        records+=1\n",
    "        i+=1\n",
    "        if records>M.memory_capacity and i%200==0:\n",
    "            print('episode: %d loss: %g'%(i, loss_))\n",
    "            \n",
    "    if r==1:\n",
    "        rewardset.append(1) \n",
    "    else:\n",
    "        rewardset.append(0)\n",
    "        \n",
    "plt.plot(loss_set)\n",
    "plt.xlabel('training step')\n",
    "plt.ylabel('loss')\n",
    "plt.show()"
   ]
  },
  {
   "cell_type": "code",
   "execution_count": 40,
   "metadata": {},
   "outputs": [
    {
     "data": {
      "image/png": "[encoded data removed]",
      "text/plain": [
       "<Figure size 432x288 with 1 Axes>"
      ]
     },
     "metadata": {
      "needs_background": "light"
     },
     "output_type": "display_data"
    }
   ],
   "source": [
    "pass_sum=[]\n",
    "i=1\n",
    "a=0\n",
    "while i<=len(rewardset):\n",
    "    a+=rewardset[i-1]\n",
    "    if i%100==0:\n",
    "        pass_sum.append(a)\n",
    "        a=0\n",
    "    i+=1\n",
    "plt.xticks(np.arange(0,len(pass_sum), 1.0))\n",
    "plt.yticks(np.arange(0,max(pass_sum)+1, 5.0))\n",
    "plt.plot( pass_sum,'-o')\n",
    "plt.xlabel('training episode/100')\n",
    "plt.ylabel('succeed times every 100 episode')\n",
    "plt.show()"
   ]
  },
  {
   "cell_type": "markdown",
   "metadata": {},
   "source": [
    "### 参考资料"
   ]
  },
  {
   "cell_type": "markdown",
   "metadata": {},
   "source": [
    "[1][Simple Reinforcement Learning with Tensorflow Part 6: Partial Observability and Deep Recurrent Q-Networks](https://medium.com/emergent-future/simple-reinforcement-learning-with-tensorflow-part-6-partial-observability-and-deep-recurrent-q-68463e9aeefc)\n",
    "\n",
    "[2][Deep Recurrent Q-Learning for Partially Observable MDPs](https://arxiv.org/pdf/1507.06527.pdf)\n",
    "\n",
    "[3][Playing FPS Games with Deep Reinforcement Learning](https://arxiv.org/pdf/1609.05521.pdf)"
   ]
  },
  {
   "cell_type": "markdown",
   "metadata": {},
   "source": [
    "# 8 Asynchronous Advantage Actor-Critic  (A3C)"
   ]
  },
  {
   "cell_type": "markdown",
   "metadata": {},
   "source": [
    "A3C"
   ]
  },
  {
   "cell_type": "markdown",
   "metadata": {},
   "source": [
    "<center>\n",
    "    <img style=\"border-radius: 0.5em;\n",
    "    box-shadow: 0 2px 4px 0 rgba(34,36,38,.12),0 2px 10px 0 rgba(34,36,38,.08);\" \n",
    "    src=\"https://miro.medium.com/max/1050/1*YtnGhtSAMnnHSL8PvS7t_w.png\" height=\"360\" width=\"360\">\n",
    "    <br>\n",
    "    <div style=\"color:orange; border-bottom: 1px solid #d9d9d9;\n",
    "    display: inline-block;\n",
    "    color: #999;\n",
    "    padding: 2px;\">A3C框架</div>\n",
    "</center>"
   ]
  },
  {
   "cell_type": "code",
   "execution_count": null,
   "metadata": {},
   "outputs": [],
   "source": []
  },
  {
   "cell_type": "markdown",
   "metadata": {},
   "source": [
    "### 参考资料"
   ]
  },
  {
   "cell_type": "markdown",
   "metadata": {},
   "source": [
    "[1][Simple Reinforcement Learning with Tensorflow Part 8: Asynchronous Actor-Critic Agents (A3C)](https://medium.com/emergent-future/simple-reinforcement-learning-with-tensorflow-part-8-asynchronous-actor-critic-agents-a3c-c88f72a5e9f2)\n",
    "\n",
    "[2][Asynchronous Methods for Deep Reinforcement Learning](https://arxiv.org/pdf/1602.01783.pdf?source=post_page)"
   ]
  },
  {
   "cell_type": "markdown",
   "metadata": {},
   "source": [
    "# 9 Soft Actor-Critic"
   ]
  },
  {
   "cell_type": "markdown",
   "metadata": {},
   "source": [
    "在[1]提出的SAC框架，以**Actor-crtitic架构**为基础，最大的特点是分析策略价值时，不仅仅立足于环境反馈的奖赏，还包括一个评价策略随机程度的指标，其目的就是为了让策略足够好的同时，策略的随机性也足够强，[1]指出这种随机性使得策略在训练时可以捕捉到不同模式的局部最优，更有利于掌握尽可能多的好策略。引入熵的概念来评价策略的随机性，通过**应用Entropy-maximization**提高策略的搜索空间，避免局部最优，得到以下策略评价函数：\n",
    "\n"
   ]
  },
  {
   "cell_type": "markdown",
   "metadata": {},
   "source": [
    "<center>\n",
    "    <img style=\"border-radius: 0.3125em;\n",
    "    box-shadow: 0 2px 4px 0 rgba(34,36,38,.12),0 2px 10px 0 rgba(34,36,38,.08);\" \n",
    "    src=\"https://miro.medium.com/max/963/1*Iv6n2bXtN0FhkUh2ErF1gg.png\" height=\"300\" width=\"300\">\n",
    "    <br>\n",
    "    <div style=\"color:orange; border-bottom: 1px solid #d9d9d9;\n",
    "    display: inline-block;\n",
    "    color: #999;\n",
    "    padding: 2px;\">基于熵评判策略随机性的策略评价函数</div>\n",
    "</center>"
   ]
  },
  {
   "cell_type": "markdown",
   "metadata": {},
   "source": [
    "将上述评价函数进行拆解并设计更新机制，可得：\n",
    "\n",
    "**Soft Q-function**: $Q^{t}(s_t,a_t)=r(s_t,a_t)+\\lambda E_{s_{t+1}}[V(s_{t+1})]$\n",
    "\n",
    "其中，$V(s_t)=E_{a_t \\sim \\pi}[Q(s_t,a_t)-log \\pi (a_t|s_t)]$，可以看到，策略的熵被包括在Soft-Q function的目标中：$H(\\pi ( . |s_t))=E_{a_t \\sim \\pi}[-log \\pi (a_t|s_t)]=-\\sum_{a_t}-\\pi (a_t|s_t)log \\pi (a_t|s_t)$\n",
    "\n",
    "相比于actor-critic算法，SAC对critic的应用中另辟蹊径：\n",
    "\n",
    "**Policy update:** $\\pi_{new}=arg \\mathop {\\min }\\limits_{\\pi^{'} \\in II} D_{KL}(\\pi^{'}(|s_t) || \\frac{Q^{\\pi_{old}(s_t,)}}{Z(s_t)})$\n",
    "\n",
    "在策略更新中，SAC首先将策略限制为$\\pi^{'} \\in II$，一定程度减少策略空间的冗余，然后充分利用critic的作用，让策略选取动作的分布尽可能接近Q-function在各个动作的取值分布，使得策略尽可能反映critic的学习效果。\n",
    "\n",
    "基于以上两个设计，引入基于神经网络的函数估计器：$\\pi_{\\phi}(a_t|s_t)$,$V_{\\psi}(s_t)$以及$Q_{\\theta}(s_t,a_t)$，同样采用随机梯度的形式，它们对应的学习目标和更新梯度如下：\n"
   ]
  },
  {
   "cell_type": "markdown",
   "metadata": {},
   "source": [
    "<center>\n",
    "    <img style=\"border-radius: 0.3125em;\n",
    "    box-shadow: 0 2px 4px 0 rgba(34,36,38,.12),0 2px 10px 0 rgba(34,36,38,.08);\" \n",
    "    src=\"https://miro.medium.com/max/1050/1*uB5XEhZU_yzAoC8fYRFTEg.png\" height=\"450\" width=\"450\">\n",
    "    <br>\n",
    "    <div style=\"color:orange; border-bottom: 1px solid #d9d9d9;\n",
    "    display: inline-block;\n",
    "    color: #999;\n",
    "    padding: 2px;\">状态函数估计器目标函数</div>\n",
    "</center>"
   ]
  },
  {
   "cell_type": "markdown",
   "metadata": {},
   "source": [
    "<center>\n",
    "    <img style=\"border-radius: 0.3125em;\n",
    "    box-shadow: 0 2px 4px 0 rgba(34,36,38,.12),0 2px 10px 0 rgba(34,36,38,.08);\" \n",
    "    src=\"https://miro.medium.com/max/1050/1*s_Bt-9Nc0HitK2oc69kjQQ.png\" height=\"450\" width=\"450\">\n",
    "    <br>\n",
    "    <div style=\"color:orange; border-bottom: 1px solid #d9d9d9;\n",
    "    display: inline-block;\n",
    "    color: #999;\n",
    "    padding: 2px;\">状态函数估计器目标函数更新梯度</div>\n",
    "</center>"
   ]
  },
  {
   "cell_type": "markdown",
   "metadata": {},
   "source": [
    "<center>\n",
    "    <img style=\"border-radius: 0.3125em;\n",
    "    box-shadow: 0 2px 4px 0 rgba(34,36,38,.12),0 2px 10px 0 rgba(34,36,38,.08);\" \n",
    "    src=\"https://miro.medium.com/max/950/1*zrj3NT3JGNjL4Ajk1nQLtQ.png\" height=\"450\" width=\"450\">\n",
    "    <br>\n",
    "    <div style=\"color:orange; border-bottom: 1px solid #d9d9d9;\n",
    "    display: inline-block;\n",
    "    color: #999;\n",
    "    padding: 2px;\">Q值函数估计器目标函数</div>\n",
    "</center>"
   ]
  },
  {
   "cell_type": "markdown",
   "metadata": {},
   "source": [
    "<center>\n",
    "    <img style=\"border-radius: 0.3125em;\n",
    "    box-shadow: 0 2px 4px 0 rgba(34,36,38,.12),0 2px 10px 0 rgba(34,36,38,.08);\" \n",
    "    src=\"https://miro.medium.com/max/1050/1*87ZgutwpQK263at79HMOvw.png\" height=\"450\" width=\"450\">\n",
    "    <br>\n",
    "    <div style=\"color:orange; border-bottom: 1px solid #d9d9d9;\n",
    "    display: inline-block;\n",
    "    color: #999;\n",
    "    padding: 2px;\">Q值函数估计器目标函数更新梯度</div>\n",
    "</center>"
   ]
  },
  {
   "cell_type": "markdown",
   "metadata": {},
   "source": [
    "<center>\n",
    "    <img style=\"border-radius: 0.3125em;\n",
    "    box-shadow: 0 2px 4px 0 rgba(34,36,38,.12),0 2px 10px 0 rgba(34,36,38,.08);\" \n",
    "    src=\"https://miro.medium.com/max/1050/1*NzbnUnz2YXypA2kNL4cCNg.png\" height=\"450\" width=\"450\">\n",
    "    <br>\n",
    "    <div style=\"color:orange; border-bottom: 1px solid #d9d9d9;\n",
    "    display: inline-block;\n",
    "    color: #999;\n",
    "    padding: 2px;\">策略函数估计器目标函数</div>\n",
    "</center>"
   ]
  },
  {
   "cell_type": "markdown",
   "metadata": {},
   "source": [
    "因为$\\pi$代表概率分布，令$a_t=f_{\\phi}(\\epsilon_t;s_t)$显式表示动作取值，取log并去掉与策略参数$\\phi$的无关项后，策略目标函数改写为："
   ]
  },
  {
   "cell_type": "markdown",
   "metadata": {},
   "source": [
    "<center>\n",
    "    <img style=\"border-radius: 0.3125em;\n",
    "    box-shadow: 0 2px 4px 0 rgba(34,36,38,.12),0 2px 10px 0 rgba(34,36,38,.08);\" \n",
    "    src=\"https://miro.medium.com/max/911/1*Blyj2yfrONthBI7LU487XA.png\" height=\"450\" width=\"450\">\n",
    "    <br>\n",
    "    <div style=\"color:orange; border-bottom: 1px solid #d9d9d9;\n",
    "    display: inline-block;\n",
    "    color: #999;\n",
    "    padding: 2px;\">策略函数估计器目标函数重写</div>\n",
    "</center>"
   ]
  },
  {
   "cell_type": "markdown",
   "metadata": {},
   "source": [
    "<center>\n",
    "    <img style=\"border-radius: 0.3125em;\n",
    "    box-shadow: 0 2px 4px 0 rgba(34,36,38,.12),0 2px 10px 0 rgba(34,36,38,.08);\" \n",
    "    src=\"https://miro.medium.com/max/885/1*R9KSoYWjFQo3UstXIvtcbA.png\" height=\"450\" width=\"450\">\n",
    "    <br>\n",
    "    <div style=\"color:orange; border-bottom: 1px solid #d9d9d9;\n",
    "    display: inline-block;\n",
    "    color: #999;\n",
    "    padding: 2px;\">策略函数估计器目标函数更新梯度</div>\n",
    "</center>"
   ]
  },
  {
   "cell_type": "markdown",
   "metadata": {},
   "source": [
    "### SAC in Tensorflow"
   ]
  },
  {
   "cell_type": "code",
   "execution_count": 159,
   "metadata": {},
   "outputs": [],
   "source": [
    "import tensorflow as tf\n",
    "import tensorflow.contrib.slim as slim\n",
    "import numpy as np\n",
    "import gym\n",
    "import matplotlib.pyplot as plt\n",
    "%matplotlib inline\n",
    "\n",
    "np.random.seed(2)\n",
    "tf.set_random_seed(2)  # reproducible\n",
    "env = gym.make('Pendulum-v0')\n",
    "env.seed(1)  # reproducible\n",
    "action_bound = env.action_space.high"
   ]
  },
  {
   "cell_type": "code",
   "execution_count": 160,
   "metadata": {},
   "outputs": [],
   "source": [
    "class replay_memory():\n",
    "    def __init__(self, memory_capacity, state_dim, action_dim=1):\n",
    "        self.memory_capacity = memory_capacity\n",
    "        self.memory = np.zeros((self.memory_capacity, 2*state_dim+1+1))  \n",
    "        self.pointer = 0\n",
    "        \n",
    "    def store_experience(self, state,action,next_sate,reward):\n",
    "        index = self.pointer%self.memory_capacity\n",
    "        experience  = np.hstack((state,action,next_sate,reward))\n",
    "        self.memory[index,:]=experience\n",
    "        self.pointer+=1\n",
    "        \n",
    "    def replay(self,batch_size):\n",
    "        memory_batch = []\n",
    "        for i in range(batch_size):\n",
    "            index = np.random.randint(0,self.memory_capacity)\n",
    "            memory_batch.append(self.memory[index,:])\n",
    "        return memory_batch"
   ]
  },
  {
   "cell_type": "code",
   "execution_count": 190,
   "metadata": {},
   "outputs": [],
   "source": [
    "def weight_variable(shape,train=True):\n",
    "    initial = tf.truncated_normal(shape, stddev=0.1)\n",
    "    return tf.Variable(initial,trainable=train)\n",
    "def bias_variable(shape,train=True):\n",
    "    initial = tf.truncated_normal(shape, stddev=0.1)\n",
    "    return tf.Variable(initial,trainable=train)\n",
    "\n",
    "class agent():\n",
    "    def __init__(self,sess,action_bound, action_dim=1, state_dim=3,lambda_=0.9,updateStep=200 ):\n",
    "        self.state_dim = state_dim\n",
    "        self.action_dim = action_dim\n",
    "        self.state_holder = tf.placeholder(tf.float32,[None,state_dim], name='state')\n",
    "        self.next_state_holder = tf.placeholder(tf.float32,[None,state_dim], name='next_state')\n",
    "        self.reward_holder = tf.placeholder(tf.float32,[None,1], name='reward')\n",
    "        self.action_holder = tf.placeholder(tf.float32,[None,self.action_dim], name='action')\n",
    "        self.action_bound = action_bound\n",
    "        self.lambda_ = lambda_\n",
    "        self.updateStep = updateStep\n",
    "        self.sess = sess\n",
    "        \n",
    "    def buildQnetwork(self,):\n",
    "        with tf.variable_scope('Qnetwork1'):\n",
    "            w11 = weight_variable([self.state_dim+self.action_dim, 10])\n",
    "            b11 = bias_variable([10])\n",
    "            w12 = weight_variable([10, 1])\n",
    "            b12 = bias_variable([1])\n",
    "        \n",
    "        with tf.variable_scope('Qnetwork2'):\n",
    "            w21 = weight_variable([self.state_dim+self.action_dim, 10])\n",
    "            b21 = bias_variable([10])\n",
    "            w22 = weight_variable([10, 1])\n",
    "            b22 = bias_variable([1])\n",
    "        \n",
    "\n",
    "        self.q1_params = tf.get_collection(tf.GraphKeys.GLOBAL_VARIABLES, scope='Qnetwork1')\n",
    "        self.q2_params = tf.get_collection(tf.GraphKeys.GLOBAL_VARIABLES, scope='Qnetwork2')    \n",
    "        \n",
    "        self.input = tf.concat([self.state_holder, self.action_mean],axis=1)\n",
    "        hq1 = tf.nn.elu(tf.matmul(self.input, w11)+b11)\n",
    "        self.q1 = tf.identity(tf.matmul(hq1,w12)+b12)\n",
    "        \n",
    "        hq2 = tf.nn.elu(tf.matmul(self.input, w21)+b21)\n",
    "        self.q2 = tf.identity(tf.matmul(hq2,w22)+b22)\n",
    "        \n",
    "        self.q_select = tf.reduce_min(tf.concat([self.q1,self.q2], axis=1),axis=1)\n",
    "       \n",
    "        \n",
    "    def buildVnetwork(self,):\n",
    "        with tf.variable_scope('update-Vnetwork'):\n",
    "            w1 = weight_variable([self.state_dim, 10])\n",
    "            b1 = bias_variable([10])\n",
    "            w2 = weight_variable([10, 1])\n",
    "            b2 = bias_variable([1])\n",
    "        with tf.variable_scope('target-Vnetwork'):\n",
    "            w1_ = weight_variable([self.state_dim, 10],train=False)\n",
    "            b1_ = bias_variable([10],train=False) \n",
    "            w2_ = weight_variable([10, 1],train=False)\n",
    "            b2_ = bias_variable([1],train=False)\n",
    "        self.v_e_params = tf.get_collection(tf.GraphKeys.GLOBAL_VARIABLES, scope='update-Vnetwork')\n",
    "        self.v_t_params = tf.get_collection(tf.GraphKeys.GLOBAL_VARIABLES, scope='target-Vnetwork')\n",
    "        \n",
    "        hv1 = tf.nn.elu(tf.matmul(self.state_holder, w1)+b1)\n",
    "        self.v = tf.identity(tf.matmul(hv1, w2)+b2)\n",
    "        \n",
    "        hv1_ = tf.nn.elu(tf.matmul(self.next_state_holder, w1_)+b1_)\n",
    "        self.vnext = tf.identity(tf.matmul(hv1_, w2_)+b2_)\n",
    "        \n",
    "        \n",
    "    def buildPolicynetwork(self,):\n",
    "        with tf.variable_scope('Pnetwork'):\n",
    "            w1 = weight_variable([self.state_dim, 24])\n",
    "            b1 = bias_variable([24])\n",
    "            w2 = weight_variable([24,1])\n",
    "            b2 = bias_variable([1])\n",
    "            w3 = weight_variable([24,1])\n",
    "            b3 = bias_variable([1])\n",
    "        self.p_params = tf.get_collection(tf.GraphKeys.GLOBAL_VARIABLES, scope='Pnetwork')\n",
    "        h1 = tf.nn.elu(tf.matmul(self.state_holder,w1)+b1)\n",
    "        \n",
    "        self.action_mean = tf.nn.tanh(tf.matmul(h1,w2)+b2) \n",
    "        self.action_sigma = tf.nn.tanh(tf.matmul(h1,w3)+b3)\n",
    "        action_mean = tf.squeeze(self.action_mean*self.action_bound)\n",
    "        action_sigma = tf.squeeze(self.action_sigma+1.)\n",
    "        self.normal_dist = tf.distributions.Normal(loc=action_mean, scale=action_sigma)\n",
    "        self.action = tf.clip_by_value(action_mean,-self.action_bound,self.action_bound)#tf.clip_by_value(self.normal_dist.sample(1),-self.action_bound,self.action_bound)\n",
    "        self.action_prob = self.normal_dist.log_prob(self.action_holder)\n",
    "            \n",
    "    def set_trainOp(self,):\n",
    "        # Q function trainOp\n",
    "        self.Qtarget = self.reward_holder + self.lambda_*self.vnext\n",
    "        self.q_loss1 = tf.reduce_mean(tf.squared_difference(self.q1, self.Qtarget))\n",
    "        self.q_loss2 = tf.reduce_mean(tf.squared_difference(self.q2, self.Qtarget))\n",
    "        self.QtrainOp1 = tf.train.AdamOptimizer(learning_rate=0.002).minimize(self.q_loss1,var_list=self.q1_params)\n",
    "        self.QtrainOp2 = tf.train.AdamOptimizer(learning_rate=0.002).minimize(self.q_loss2,var_list=self.q2_params)\n",
    "        \n",
    "        # V value trainOp\n",
    "        self.vtarget = self.q_select+(self.action_prob)\n",
    "        self.vloss = tf.reduce_mean(tf.squared_difference(self.v, self.vtarget))\n",
    "        self.VtrainOp = tf.train.AdamOptimizer(learning_rate=0.01).minimize(self.vloss,var_list=self.v_e_params)\n",
    "        \n",
    "        # policy trainOp\n",
    "        \n",
    "        self.q_grads_a = tf.gradients(self.q_select,self.action_mean)[0]\n",
    "#         print(self.q_grads_a)\n",
    "        self.policy_grads_a = tf.gradients((self.action_prob),self.action_mean)[0]\n",
    "#         print(self.policy_grads_a)\n",
    "        \n",
    "        self.policy_grads1 = tf.gradients(ys=self.action_mean, xs=self.p_params,grad_ys=self.policy_grads_a-self.q_grads_a)\n",
    "        self.policy_grads2 = tf.gradients(ys=(self.action_prob), xs=self.p_params)\n",
    "        \n",
    "        self.policy_grads = self.policy_grads1 + self.policy_grads2\n",
    "        opt = tf.train.AdamOptimizer(learning_rate=0.02) \n",
    "        self.PtrainOp = opt.apply_gradients(zip(self.policy_grads, self.p_params))\n",
    "        \n",
    "        self.ploss = tf.reduce_mean(tf.squared_difference(tf.log(self.action_prob),self.q_select))\n",
    "#         self.PtrainOp = tf.train.AdamOptimizer(learning_rate=0.001).minimize(self.ploss,var_list=self.p_params)\n",
    "        \n",
    "        \n",
    "        \n",
    "    def learn(self,step,memory):\n",
    "       \n",
    "#         loss = self.sess.run([self.q_grads_a], \n",
    "#                                      feed_dict={self.state_holder : memory[:,0:self.state_dim],\n",
    "#                                                 self.action_holder : memory[:,self.state_dim].reshape(-1,1), \n",
    "#                                                 self.next_state_holder : memory[:,-self.state_dim-1:-1],\n",
    "#                                                 self.reward_holder:memory[:,-1].reshape(-1,1)})\n",
    "#         print(loss)\n",
    "        \n",
    "        _,_,_,_, prob,loss = self.sess.run([self.QtrainOp1,self.QtrainOp2,self.VtrainOp,self.PtrainOp,self.action_prob,self.q_loss1], \n",
    "                                     feed_dict={self.state_holder : memory[:,0:self.state_dim],\n",
    "                                                self.action_holder : memory[:,self.state_dim].reshape(-1,1), \n",
    "                                                self.next_state_holder : memory[:,-self.state_dim-1:-1],\n",
    "                                                self.reward_holder:memory[:,-1].reshape(-1,1)})\n",
    "#         print(prob)\n",
    "#         print(memory[:,self.state_dim].reshape(-1,1))\n",
    "        if step%self.updateStep==0:\n",
    "            self.sess.run([tf.assign(tar,  eva) for tar, eva in zip(self.v_t_params, self.v_e_params)])\n",
    "        \n",
    "        return loss\n",
    "    \n",
    "        "
   ]
  },
  {
   "cell_type": "code",
   "execution_count": 191,
   "metadata": {},
   "outputs": [
    {
     "name": "stdout",
     "output_type": "stream",
     "text": [
      "num_episodes:0 r:-1832\n",
      "num_episodes:20 r:-1466\n",
      "num_episodes:40 r:-1669\n",
      "train...\n",
      "num_episodes:60 r:-1244\n",
      "num_episodes:80 r:-1594\n",
      "num_episodes:100 r:-1186\n",
      "num_episodes:120 r:-1553\n",
      "num_episodes:140 r:-1584\n",
      "num_episodes:160 r:-1086\n",
      "num_episodes:180 r:-1529\n",
      "num_episodes:200 r:-1437\n",
      "num_episodes:220 r:-1652\n",
      "num_episodes:240 r:-1255\n",
      "num_episodes:260 r:-1637\n",
      "num_episodes:280 r:-1622\n"
     ]
    }
   ],
   "source": [
    "M = replay_memory(memory_capacity=10000, state_dim=3, action_dim=1)\n",
    "batch_size_ = 32\n",
    "num_episodes = 300\n",
    "\n",
    "tf.reset_default_graph()\n",
    "sess_ = tf.Session()\n",
    "model = agent(sess=sess_,action_bound=action_bound )\n",
    "\n",
    "model.buildPolicynetwork()\n",
    "model.buildQnetwork()\n",
    "model.buildVnetwork()\n",
    "\n",
    "model.set_trainOp()\n",
    "\n",
    "init_op = tf.group(tf.global_variables_initializer(), tf.local_variables_initializer())\n",
    "sess_.run(init_op)\n",
    "records = 0\n",
    "reward_set=[]\n",
    "q_loss_set=[]\n",
    "flag=0\n",
    "max_steps_in_episode = 300\n",
    "asets=[]\n",
    "var=1.\n",
    "for i in range(num_episodes):\n",
    "    rewards=0\n",
    "    s = env.reset()\n",
    "    j = 0\n",
    "    aset=[]\n",
    "    while j<max_steps_in_episode:\n",
    "        a_output = sess_.run(model.action, feed_dict={model.state_holder:[s]})\n",
    "\n",
    "        if i < 200:\n",
    "            a = np.clip(np.random.normal(a_output,var),-2,2)\n",
    "        else:\n",
    "            a = np.clip(a_output,-2,2)\n",
    "\n",
    "        aset.append(a)\n",
    "    \n",
    "        s_next, r, d, _ = env.step([a])\n",
    "          \n",
    "        j+=1\n",
    "        records+=1\n",
    "        rewards+=r\n",
    "\n",
    "        if records>M.memory_capacity:\n",
    "            \n",
    "            memory_batch = M.replay(batch_size=batch_size_)\n",
    "            loss_ = model.learn(records,memory=np.array(memory_batch) )\n",
    "            q_loss_set.append(loss_)\n",
    "            if flag==0:\n",
    "                flag=1\n",
    "                print('train...')\n",
    "#             print(loss_)\n",
    "#         print(a)\n",
    "#         print(s)\n",
    "        \n",
    "        s_next = np.array(s_next).reshape(1,-1)[0]\n",
    "#         print(s_next)\n",
    "#         print(r/100.)\n",
    "        M.store_experience(state=s, action=a, reward=r/100., next_sate=s_next)\n",
    "\n",
    "        if d==True:\n",
    "            break\n",
    "            \n",
    "        s = s_next\n",
    "    asets.append(aset)   \n",
    "    if i%20==0:\n",
    "        print('num_episodes:%d r:%d'%(i,rewards))\n",
    "    \n",
    "    reward_set.append(rewards)"
   ]
  },
  {
   "cell_type": "code",
   "execution_count": 193,
   "metadata": {},
   "outputs": [
    {
     "data": {
      "image/png": "[encoded data removed]",
      "text/plain": [
       "<Figure size 432x288 with 1 Axes>"
      ]
     },
     "metadata": {
      "needs_background": "light"
     },
     "output_type": "display_data"
    }
   ],
   "source": [
    "\n",
    "plt.xlabel('training episode')\n",
    "plt.ylabel('cumulative reward')\n",
    "plt.plot(reward_set)\n",
    "plt.show()"
   ]
  },
  {
   "cell_type": "code",
   "execution_count": 194,
   "metadata": {},
   "outputs": [
    {
     "data": {
      "image/png": "[encoded data removed]",
      "text/plain": [
       "<Figure size 432x288 with 1 Axes>"
      ]
     },
     "metadata": {
      "needs_background": "light"
     },
     "output_type": "display_data"
    }
   ],
   "source": [
    "\n",
    "plt.xlabel('training episode')\n",
    "plt.ylabel('loss')\n",
    "plt.plot(q_loss_set)\n",
    "plt.show()"
   ]
  },
  {
   "cell_type": "code",
   "execution_count": null,
   "metadata": {},
   "outputs": [],
   "source": [
    "sess=tf.Session()\n",
    "mu = np.array([1.,1.],np.float32).reshape(2,1)\n",
    "a=tf.distributions.Normal(loc=mu, scale=[[1.],[1.]]).prob([[1.],[2.]])\n",
    "print('multiple one-dimension gaussian calculation for multiple sample:')\n",
    "print(sess.run(a))\n",
    "\n",
    "a=tf.distributions.Normal(loc=[1.], scale=[1.]).prob([1.,2.])\n",
    "print('one one-dimension gaussian calculation for multiple sample:')\n",
    "print(sess.run(a))\n",
    "\n",
    "a=tf.distributions.Normal(loc=[1.,2.], scale=[[[1.,2.],[1.,2.]]]).prob([[1.,2.]])\n",
    "print('one two-dimension gaussian calculation for one sample:')\n",
    "print(sess.run(a))\n",
    "\n",
    "a=tf.distributions.Normal(loc=[[1.,2.],[1.,2.]], scale=[[[1.,2.],[1.,2.]],[[1.,2.],[1.,2.]]]).prob([[1.,2.],[1.,2.]])\n",
    "print('multiple two-dimension gaussian calculation for multiple sample:')\n",
    "print(sess.run(a))"
   ]
  },
  {
   "cell_type": "markdown",
   "metadata": {},
   "source": [
    "### 参考资料"
   ]
  },
  {
   "cell_type": "markdown",
   "metadata": {},
   "source": [
    "[1][Soft Actor-Critic: Off-Policy Maximum Entropy Deep Reinforcement Learning with a Stochastic Actor](https://arxiv.org/abs/1801.01290)\n",
    "\n",
    "[2][Soft Actor-Critic Demystified-An intuitive explanation of the theory and a PyTorch implementation guide](https://towardsdatascience.com/soft-actor-critic-demystified-b8427df61665)"
   ]
  },
  {
   "cell_type": "markdown",
   "metadata": {},
   "source": [
    "# 10 Evolutionary Strategies for RL"
   ]
  },
  {
   "cell_type": "markdown",
   "metadata": {},
   "source": [
    "[1]提出的面向强化学习的ES是Natural Evolution Strategies(NES)算法族的一种。在优化问题中，令$F(\\theta)$作为目标函数，优化参数为$\\theta$，而以NES的视角看待优化问题，我们认为能使目标函数优化的$\\theta$有很多个，它们构成一个优势种群，NES通过再构造$P_{\\psi}(\\theta)$去刻画优化参数的分布，优化问题转化为：\n",
    "\n",
    "$E_{\\theta \\sim P_{\\psi}}F(\\theta)$\n",
    "\n",
    "通过构造优化函数服从的分布，自然地引入了随机性，在求解优化问题时，通过不断试错去探索最优解，更难陷入局部最优。同时，ES求解优化问题的流程十分适合并行化，因此求解效率较高。\n",
    "\n",
    "ES是目的是找到使目标函数最大的种群，若以**梯度上升**来更新参数，则梯度推导如下：\n",
    "\n",
    "为了方便，一般用各向同性高斯分布（Isotropic Multivariate Gaussian）刻画参数分布，即令$\\theta \\sim P_{\\psi}=N(\\psi,\\sigma^{2}I)$,进一步简化，可令：\n",
    "\n",
    "$E_{\\theta \\sim P_{\\psi}}F(\\theta)\\ =\\ E_{\\epsilon \\sim N(0,\\sigma^2)}F(\\theta+ \\epsilon)$\n",
    "\n",
    "对上式求导：\n",
    "\n",
    "$\\bigtriangledown_{\\theta}E_{\\epsilon \\sim N(0,\\sigma^2)}F(\\theta+\\epsilon)$\n",
    "\n",
    "由泰勒展开有：\n",
    "\n",
    "$F(\\theta+\\epsilon) \\approx F(\\theta)+F'(\\theta)\\epsilon+\\frac{F''(\\theta)\\epsilon^2}{2}$\n",
    "\n",
    "得：\n",
    "\n",
    "$E_{\\epsilon \\sim N(0,\\sigma^2)}\\epsilon F(\\theta+\\epsilon) =E_{\\epsilon \\sim N(0,\\sigma^2)} [ F(\\theta)\\epsilon+F'(\\theta)\\epsilon^2+\\frac{F''(\\theta)\\epsilon^3}{2}] $\n",
    "\n",
    "又因为：\n",
    "\n",
    "$E_{\\epsilon \\sim N(0,\\sigma^2)} F(\\theta)\\epsilon=F(\\theta)E_{\\epsilon \\sim N(0,\\sigma^2)}\\epsilon=0$\n",
    "\n",
    "$E_{\\epsilon \\sim N(0,\\sigma^2)}F'(\\theta)\\epsilon^2=F'(\\theta)E_{\\epsilon \\sim N(0,\\sigma^2)}\\epsilon^2=\\sigma^2 F'(\\theta)$\n",
    "\n",
    "$E_{\\epsilon \\sim N(0,\\sigma^2)}F''(\\theta)\\epsilon^3=F''(\\theta)E_{\\epsilon \\sim N(0,\\sigma^2)}\\epsilon^3=0$\n",
    "\n",
    "得：\n",
    "\n",
    "$ F'(\\theta)=\\frac{1}{\\sigma^2}E_{\\epsilon \\sim N(0,\\sigma^2)}F(\\theta+\\epsilon)\\epsilon$\n",
    "\n",
    "在[1]，作者令$E_{\\theta \\sim P_{\\psi}}F(\\theta)\\ =\\ E_{\\epsilon \\sim N(0,I)}F(\\theta+ \\sigma \\epsilon)$，同理可得梯度：\n",
    "\n",
    "$F'(\\theta)=\\frac{1}{\\sigma}E_{\\epsilon \\sim N(0,I)}F(\\theta+\\sigma \\epsilon)\\epsilon$\n",
    "\n"
   ]
  },
  {
   "cell_type": "markdown",
   "metadata": {},
   "source": [
    "从上述梯度可以看到，ES相比于传统的SGD方法，可以处理在问题（样本）空间不连续的优化问题，因为：\n",
    "\n",
    "对于优化问题：$E_x f(\\theta;x)$，$x$表示样本，在用SGD优化该目标时，我们需要进行梯度计算，当样本空间是连续的，可以进行以下计算：\n",
    "\n",
    "$ \\frac{\\partial f(\\theta)}{\\partial \\theta}= E_x \\frac{\\partial f(\\theta;x)}{\\partial \\theta}$ \n",
    "\n",
    "此时可以通过随机采集样本估计梯度，进行优化。但实际上很多场景中样本空间不连续，包括状态空间和动作空间离散的强化学习问题等，而在ES中，**采样空间换到了参数空间**，此时，因为：\n",
    "\n",
    "$E_{\\epsilon}\\epsilon f(\\theta + \\epsilon)=E_{\\epsilon}\\epsilon E_x f(\\theta + \\epsilon ;x)=E_x E_{\\epsilon}\\epsilon f(\\theta + \\epsilon ;x)$\n",
    "\n",
    "可见$E_{\\epsilon}\\epsilon f(\\theta + \\epsilon)$考虑了样本空间，同时，在ES中，有:\n",
    "\n",
    "$ F'(\\theta)=\\frac{1}{\\sigma^2}E_{\\epsilon \\sim N(0,\\sigma^2)}F(\\theta+\\epsilon)\\epsilon$\n",
    "\n",
    "其中$E_{\\epsilon}\\epsilon f(\\theta + \\epsilon)$可以通过参数空间采样估计。\n"
   ]
  },
  {
   "cell_type": "markdown",
   "metadata": {},
   "source": [
    "在强化学习中，Policy Gradient 和 Evolutionary Strategy异曲同工。PG 需要进行误差反向传播, 而 ES 不用。 在行为的策略上, PG 是扰动 Action, 不同的 action 带来不同的 reward, 通过 reward 大小对应上 action 来计算 gradient, 再反向传递 gradient. 但是 ES 是扰动 神经网络中的 Parameters, 不同的 parameters 带来不同的 reward, 通过 reward 大小对应上 parameters 来按比例更新原始的 parameters."
   ]
  },
  {
   "cell_type": "markdown",
   "metadata": {},
   "source": [
    "<center>\n",
    "    <img style=\"border-radius: 0.3125em;\n",
    "    box-shadow: 0 2px 4px 0 rgba(34,36,38,.12),0 2px 10px 0 rgba(34,36,38,.08);\" \n",
    "    src=\"https://morvanzhou.github.io/static/results/evolutionary-algorithm/4-4-4.png\" height=\"450\" width=\"450\">\n",
    "    <br>\n",
    "    <div style=\"color:orange; border-bottom: 1px solid #d9d9d9;\n",
    "    display: inline-block;\n",
    "    color: #999;\n",
    "    padding: 2px;\">PG与ES在实现随机探索的区别</div>\n",
    "</center>"
   ]
  },
  {
   "cell_type": "code",
   "execution_count": 3,
   "metadata": {},
   "outputs": [
    {
     "name": "stdout",
     "output_type": "stream",
     "text": [
      "[ 0.50204437  0.09340933 -0.29403315]\n"
     ]
    },
    {
     "data": {
      "image/png": "[encoded data removed]",
      "text/plain": [
       "<Figure size 432x288 with 1 Axes>"
      ]
     },
     "metadata": {
      "needs_background": "light"
     },
     "output_type": "display_data"
    }
   ],
   "source": [
    "# 最简单的demo: 找到 solution 中的值\n",
    "import numpy as np\n",
    "import matplotlib.pyplot as plt\n",
    "%matplotlib inline\n",
    "\n",
    "solution = np.array([0.5, 0.1, -0.3])\n",
    "def f(w): return -np.sum((w - solution)**2)\n",
    "\n",
    "npop = 50      # 种群数\n",
    "sigma = 0.1    # 噪点标准差\n",
    "alpha = 0.001  # 学习率\n",
    "w = np.random.randn(3) # 对 solution 的初始猜测\n",
    "w_set=[]\n",
    "for i in range(300):\n",
    "  N = np.random.randn(npop, 3)  # 产生噪点\n",
    "  R = np.zeros(npop)\n",
    "  for j in range(npop):\n",
    "    w_try = w + sigma*N[j]\n",
    "    R[j] = f(w_try)             # 得到环境奖励\n",
    "  A = (R - np.mean(R)) / np.std(R)  # 归一化奖励\n",
    "  w = w + alpha/(npop*sigma) * np.dot(N.T, A)   # 更新参数\n",
    "  w_set.append(w)\n",
    "\n",
    "print(w)\n",
    "w_set = np.array(w_set).reshape(-1,3)\n",
    "plt.scatter(w_set[:,0],w_set[:,1])\n",
    "plt.show()"
   ]
  },
  {
   "cell_type": "markdown",
   "metadata": {},
   "source": [
    "### ES for RL in TensorFlow"
   ]
  },
  {
   "cell_type": "code",
   "execution_count": 46,
   "metadata": {},
   "outputs": [
    {
     "name": "stdout",
     "output_type": "stream",
     "text": [
      "episode: 0\n"
     ]
    },
    {
     "ename": "PicklingError",
     "evalue": "Can't pickle <class 'module'>: attribute lookup module on builtins failed",
     "output_type": "error",
     "traceback": [
      "\u001b[1;31m---------------------------------------------------------------------------\u001b[0m",
      "\u001b[1;31mPicklingError\u001b[0m                             Traceback (most recent call last)",
      "\u001b[1;32m<ipython-input-46-3059aa98a92c>\u001b[0m in \u001b[0;36m<module>\u001b[1;34m\u001b[0m\n\u001b[0;32m    103\u001b[0m \u001b[1;32mfor\u001b[0m \u001b[0mi\u001b[0m \u001b[1;32min\u001b[0m \u001b[0mrange\u001b[0m\u001b[1;33m(\u001b[0m\u001b[0mnum_episodes\u001b[0m\u001b[1;33m)\u001b[0m\u001b[1;33m:\u001b[0m\u001b[1;33m\u001b[0m\u001b[0m\n\u001b[0;32m    104\u001b[0m     \u001b[0mprint\u001b[0m\u001b[1;33m(\u001b[0m\u001b[1;34m'episode: %d'\u001b[0m\u001b[1;33m%\u001b[0m\u001b[0mi\u001b[0m\u001b[1;33m)\u001b[0m\u001b[1;33m\u001b[0m\u001b[0m\n\u001b[1;32m--> 105\u001b[1;33m     \u001b[0mF_list\u001b[0m\u001b[1;33m,\u001b[0m\u001b[0mepsilon_list\u001b[0m\u001b[1;33m=\u001b[0m\u001b[0mmodel\u001b[0m\u001b[1;33m.\u001b[0m\u001b[0mmultiplay\u001b[0m\u001b[1;33m(\u001b[0m\u001b[0mmax_steps_in_episode\u001b[0m\u001b[1;33m)\u001b[0m\u001b[1;33m\u001b[0m\u001b[0m\n\u001b[0m\u001b[0;32m    106\u001b[0m     \u001b[0mmodel\u001b[0m\u001b[1;33m.\u001b[0m\u001b[0mtrain\u001b[0m\u001b[1;33m(\u001b[0m\u001b[0mF_arr\u001b[0m\u001b[1;33m=\u001b[0m\u001b[0mnp\u001b[0m\u001b[1;33m.\u001b[0m\u001b[0marray\u001b[0m\u001b[1;33m(\u001b[0m\u001b[0mF_list\u001b[0m\u001b[1;33m)\u001b[0m\u001b[1;33m.\u001b[0m\u001b[0mreshape\u001b[0m\u001b[1;33m(\u001b[0m\u001b[1;33m-\u001b[0m\u001b[1;36m1\u001b[0m\u001b[1;33m)\u001b[0m\u001b[1;33m,\u001b[0m\u001b[0mepsilon_arr\u001b[0m\u001b[1;33m=\u001b[0m\u001b[0mnp\u001b[0m\u001b[1;33m.\u001b[0m\u001b[0marray\u001b[0m\u001b[1;33m(\u001b[0m\u001b[0mepsilon_list\u001b[0m\u001b[1;33m)\u001b[0m\u001b[1;33m.\u001b[0m\u001b[0mreshape\u001b[0m\u001b[1;33m(\u001b[0m\u001b[1;33m-\u001b[0m\u001b[1;36m1\u001b[0m\u001b[1;33m)\u001b[0m\u001b[1;33m)\u001b[0m\u001b[1;33m\u001b[0m\u001b[0m\n\u001b[0;32m    107\u001b[0m \u001b[1;33m\u001b[0m\u001b[0m\n",
      "\u001b[1;32m<ipython-input-46-3059aa98a92c>\u001b[0m in \u001b[0;36mmultiplay\u001b[1;34m(self, max_steps_in_episode)\u001b[0m\n\u001b[0;32m     72\u001b[0m     \u001b[1;32mdef\u001b[0m \u001b[0mmultiplay\u001b[0m\u001b[1;33m(\u001b[0m\u001b[0mself\u001b[0m\u001b[1;33m,\u001b[0m\u001b[0mmax_steps_in_episode\u001b[0m\u001b[1;33m)\u001b[0m\u001b[1;33m:\u001b[0m\u001b[1;33m\u001b[0m\u001b[0m\n\u001b[0;32m     73\u001b[0m         \u001b[0mjobs\u001b[0m \u001b[1;33m=\u001b[0m \u001b[1;33m[\u001b[0m\u001b[0mpool\u001b[0m\u001b[1;33m.\u001b[0m\u001b[0mapply_async\u001b[0m\u001b[1;33m(\u001b[0m\u001b[0mself\u001b[0m\u001b[1;33m.\u001b[0m\u001b[0mplay\u001b[0m\u001b[1;33m,\u001b[0m \u001b[1;33m(\u001b[0m\u001b[0mmax_steps_in_episode\u001b[0m\u001b[1;33m,\u001b[0m\u001b[0mk_id\u001b[0m \u001b[1;33m)\u001b[0m\u001b[1;33m)\u001b[0m \u001b[1;32mfor\u001b[0m \u001b[0mk_id\u001b[0m \u001b[1;32min\u001b[0m \u001b[0mrange\u001b[0m\u001b[1;33m(\u001b[0m\u001b[0mkid_num\u001b[0m\u001b[1;33m*\u001b[0m\u001b[1;36m2\u001b[0m\u001b[1;33m)\u001b[0m\u001b[1;33m]\u001b[0m\u001b[1;33m\u001b[0m\u001b[0m\n\u001b[1;32m---> 74\u001b[1;33m         \u001b[0mrewards\u001b[0m \u001b[1;33m=\u001b[0m \u001b[0mnp\u001b[0m\u001b[1;33m.\u001b[0m\u001b[0marray\u001b[0m\u001b[1;33m(\u001b[0m\u001b[1;33m[\u001b[0m\u001b[0mj\u001b[0m\u001b[1;33m.\u001b[0m\u001b[0mget\u001b[0m\u001b[1;33m(\u001b[0m\u001b[1;33m)\u001b[0m \u001b[1;32mfor\u001b[0m \u001b[0mj\u001b[0m \u001b[1;32min\u001b[0m \u001b[0mjobs\u001b[0m\u001b[1;33m]\u001b[0m\u001b[1;33m)\u001b[0m\u001b[1;33m\u001b[0m\u001b[0m\n\u001b[0m\u001b[0;32m     75\u001b[0m \u001b[1;33m\u001b[0m\u001b[0m\n\u001b[0;32m     76\u001b[0m         \u001b[0mresults\u001b[0m \u001b[1;33m=\u001b[0m \u001b[1;33m[\u001b[0m\u001b[0mjob\u001b[0m\u001b[1;33m.\u001b[0m\u001b[0mget\u001b[0m\u001b[1;33m(\u001b[0m\u001b[1;33m)\u001b[0m \u001b[1;32mfor\u001b[0m \u001b[0mjob\u001b[0m \u001b[1;32min\u001b[0m \u001b[0mjobs\u001b[0m\u001b[1;33m]\u001b[0m\u001b[1;33m\u001b[0m\u001b[0m\n",
      "\u001b[1;32m<ipython-input-46-3059aa98a92c>\u001b[0m in \u001b[0;36m<listcomp>\u001b[1;34m(.0)\u001b[0m\n\u001b[0;32m     72\u001b[0m     \u001b[1;32mdef\u001b[0m \u001b[0mmultiplay\u001b[0m\u001b[1;33m(\u001b[0m\u001b[0mself\u001b[0m\u001b[1;33m,\u001b[0m\u001b[0mmax_steps_in_episode\u001b[0m\u001b[1;33m)\u001b[0m\u001b[1;33m:\u001b[0m\u001b[1;33m\u001b[0m\u001b[0m\n\u001b[0;32m     73\u001b[0m         \u001b[0mjobs\u001b[0m \u001b[1;33m=\u001b[0m \u001b[1;33m[\u001b[0m\u001b[0mpool\u001b[0m\u001b[1;33m.\u001b[0m\u001b[0mapply_async\u001b[0m\u001b[1;33m(\u001b[0m\u001b[0mself\u001b[0m\u001b[1;33m.\u001b[0m\u001b[0mplay\u001b[0m\u001b[1;33m,\u001b[0m \u001b[1;33m(\u001b[0m\u001b[0mmax_steps_in_episode\u001b[0m\u001b[1;33m,\u001b[0m\u001b[0mk_id\u001b[0m \u001b[1;33m)\u001b[0m\u001b[1;33m)\u001b[0m \u001b[1;32mfor\u001b[0m \u001b[0mk_id\u001b[0m \u001b[1;32min\u001b[0m \u001b[0mrange\u001b[0m\u001b[1;33m(\u001b[0m\u001b[0mkid_num\u001b[0m\u001b[1;33m*\u001b[0m\u001b[1;36m2\u001b[0m\u001b[1;33m)\u001b[0m\u001b[1;33m]\u001b[0m\u001b[1;33m\u001b[0m\u001b[0m\n\u001b[1;32m---> 74\u001b[1;33m         \u001b[0mrewards\u001b[0m \u001b[1;33m=\u001b[0m \u001b[0mnp\u001b[0m\u001b[1;33m.\u001b[0m\u001b[0marray\u001b[0m\u001b[1;33m(\u001b[0m\u001b[1;33m[\u001b[0m\u001b[0mj\u001b[0m\u001b[1;33m.\u001b[0m\u001b[0mget\u001b[0m\u001b[1;33m(\u001b[0m\u001b[1;33m)\u001b[0m \u001b[1;32mfor\u001b[0m \u001b[0mj\u001b[0m \u001b[1;32min\u001b[0m \u001b[0mjobs\u001b[0m\u001b[1;33m]\u001b[0m\u001b[1;33m)\u001b[0m\u001b[1;33m\u001b[0m\u001b[0m\n\u001b[0m\u001b[0;32m     75\u001b[0m \u001b[1;33m\u001b[0m\u001b[0m\n\u001b[0;32m     76\u001b[0m         \u001b[0mresults\u001b[0m \u001b[1;33m=\u001b[0m \u001b[1;33m[\u001b[0m\u001b[0mjob\u001b[0m\u001b[1;33m.\u001b[0m\u001b[0mget\u001b[0m\u001b[1;33m(\u001b[0m\u001b[1;33m)\u001b[0m \u001b[1;32mfor\u001b[0m \u001b[0mjob\u001b[0m \u001b[1;32min\u001b[0m \u001b[0mjobs\u001b[0m\u001b[1;33m]\u001b[0m\u001b[1;33m\u001b[0m\u001b[0m\n",
      "\u001b[1;32md:\\python35\\lib\\multiprocessing\\pool.py\u001b[0m in \u001b[0;36mget\u001b[1;34m(self, timeout)\u001b[0m\n\u001b[0;32m    642\u001b[0m             \u001b[1;32mreturn\u001b[0m \u001b[0mself\u001b[0m\u001b[1;33m.\u001b[0m\u001b[0m_value\u001b[0m\u001b[1;33m\u001b[0m\u001b[0m\n\u001b[0;32m    643\u001b[0m         \u001b[1;32melse\u001b[0m\u001b[1;33m:\u001b[0m\u001b[1;33m\u001b[0m\u001b[0m\n\u001b[1;32m--> 644\u001b[1;33m             \u001b[1;32mraise\u001b[0m \u001b[0mself\u001b[0m\u001b[1;33m.\u001b[0m\u001b[0m_value\u001b[0m\u001b[1;33m\u001b[0m\u001b[0m\n\u001b[0m\u001b[0;32m    645\u001b[0m \u001b[1;33m\u001b[0m\u001b[0m\n\u001b[0;32m    646\u001b[0m     \u001b[1;32mdef\u001b[0m \u001b[0m_set\u001b[0m\u001b[1;33m(\u001b[0m\u001b[0mself\u001b[0m\u001b[1;33m,\u001b[0m \u001b[0mi\u001b[0m\u001b[1;33m,\u001b[0m \u001b[0mobj\u001b[0m\u001b[1;33m)\u001b[0m\u001b[1;33m:\u001b[0m\u001b[1;33m\u001b[0m\u001b[0m\n",
      "\u001b[1;32md:\\python35\\lib\\multiprocessing\\pool.py\u001b[0m in \u001b[0;36m_handle_tasks\u001b[1;34m(taskqueue, put, outqueue, pool, cache)\u001b[0m\n\u001b[0;32m    422\u001b[0m                         \u001b[1;32mbreak\u001b[0m\u001b[1;33m\u001b[0m\u001b[0m\n\u001b[0;32m    423\u001b[0m                     \u001b[1;32mtry\u001b[0m\u001b[1;33m:\u001b[0m\u001b[1;33m\u001b[0m\u001b[0m\n\u001b[1;32m--> 424\u001b[1;33m                         \u001b[0mput\u001b[0m\u001b[1;33m(\u001b[0m\u001b[0mtask\u001b[0m\u001b[1;33m)\u001b[0m\u001b[1;33m\u001b[0m\u001b[0m\n\u001b[0m\u001b[0;32m    425\u001b[0m                     \u001b[1;32mexcept\u001b[0m \u001b[0mException\u001b[0m \u001b[1;32mas\u001b[0m \u001b[0me\u001b[0m\u001b[1;33m:\u001b[0m\u001b[1;33m\u001b[0m\u001b[0m\n\u001b[0;32m    426\u001b[0m                         \u001b[0mjob\u001b[0m\u001b[1;33m,\u001b[0m \u001b[0midx\u001b[0m \u001b[1;33m=\u001b[0m \u001b[0mtask\u001b[0m\u001b[1;33m[\u001b[0m\u001b[1;33m:\u001b[0m\u001b[1;36m2\u001b[0m\u001b[1;33m]\u001b[0m\u001b[1;33m\u001b[0m\u001b[0m\n",
      "\u001b[1;32md:\\python35\\lib\\multiprocessing\\connection.py\u001b[0m in \u001b[0;36msend\u001b[1;34m(self, obj)\u001b[0m\n\u001b[0;32m    204\u001b[0m         \u001b[0mself\u001b[0m\u001b[1;33m.\u001b[0m\u001b[0m_check_closed\u001b[0m\u001b[1;33m(\u001b[0m\u001b[1;33m)\u001b[0m\u001b[1;33m\u001b[0m\u001b[0m\n\u001b[0;32m    205\u001b[0m         \u001b[0mself\u001b[0m\u001b[1;33m.\u001b[0m\u001b[0m_check_writable\u001b[0m\u001b[1;33m(\u001b[0m\u001b[1;33m)\u001b[0m\u001b[1;33m\u001b[0m\u001b[0m\n\u001b[1;32m--> 206\u001b[1;33m         \u001b[0mself\u001b[0m\u001b[1;33m.\u001b[0m\u001b[0m_send_bytes\u001b[0m\u001b[1;33m(\u001b[0m\u001b[0mForkingPickler\u001b[0m\u001b[1;33m.\u001b[0m\u001b[0mdumps\u001b[0m\u001b[1;33m(\u001b[0m\u001b[0mobj\u001b[0m\u001b[1;33m)\u001b[0m\u001b[1;33m)\u001b[0m\u001b[1;33m\u001b[0m\u001b[0m\n\u001b[0m\u001b[0;32m    207\u001b[0m \u001b[1;33m\u001b[0m\u001b[0m\n\u001b[0;32m    208\u001b[0m     \u001b[1;32mdef\u001b[0m \u001b[0mrecv_bytes\u001b[0m\u001b[1;33m(\u001b[0m\u001b[0mself\u001b[0m\u001b[1;33m,\u001b[0m \u001b[0mmaxlength\u001b[0m\u001b[1;33m=\u001b[0m\u001b[1;32mNone\u001b[0m\u001b[1;33m)\u001b[0m\u001b[1;33m:\u001b[0m\u001b[1;33m\u001b[0m\u001b[0m\n",
      "\u001b[1;32md:\\python35\\lib\\multiprocessing\\reduction.py\u001b[0m in \u001b[0;36mdumps\u001b[1;34m(cls, obj, protocol)\u001b[0m\n\u001b[0;32m     48\u001b[0m     \u001b[1;32mdef\u001b[0m \u001b[0mdumps\u001b[0m\u001b[1;33m(\u001b[0m\u001b[0mcls\u001b[0m\u001b[1;33m,\u001b[0m \u001b[0mobj\u001b[0m\u001b[1;33m,\u001b[0m \u001b[0mprotocol\u001b[0m\u001b[1;33m=\u001b[0m\u001b[1;32mNone\u001b[0m\u001b[1;33m)\u001b[0m\u001b[1;33m:\u001b[0m\u001b[1;33m\u001b[0m\u001b[0m\n\u001b[0;32m     49\u001b[0m         \u001b[0mbuf\u001b[0m \u001b[1;33m=\u001b[0m \u001b[0mio\u001b[0m\u001b[1;33m.\u001b[0m\u001b[0mBytesIO\u001b[0m\u001b[1;33m(\u001b[0m\u001b[1;33m)\u001b[0m\u001b[1;33m\u001b[0m\u001b[0m\n\u001b[1;32m---> 50\u001b[1;33m         \u001b[0mcls\u001b[0m\u001b[1;33m(\u001b[0m\u001b[0mbuf\u001b[0m\u001b[1;33m,\u001b[0m \u001b[0mprotocol\u001b[0m\u001b[1;33m)\u001b[0m\u001b[1;33m.\u001b[0m\u001b[0mdump\u001b[0m\u001b[1;33m(\u001b[0m\u001b[0mobj\u001b[0m\u001b[1;33m)\u001b[0m\u001b[1;33m\u001b[0m\u001b[0m\n\u001b[0m\u001b[0;32m     51\u001b[0m         \u001b[1;32mreturn\u001b[0m \u001b[0mbuf\u001b[0m\u001b[1;33m.\u001b[0m\u001b[0mgetbuffer\u001b[0m\u001b[1;33m(\u001b[0m\u001b[1;33m)\u001b[0m\u001b[1;33m\u001b[0m\u001b[0m\n\u001b[0;32m     52\u001b[0m \u001b[1;33m\u001b[0m\u001b[0m\n",
      "\u001b[1;31mPicklingError\u001b[0m: Can't pickle <class 'module'>: attribute lookup module on builtins failed"
     ]
    }
   ],
   "source": [
    "import tensorflow as tf\n",
    "import tensorflow.contrib.slim as slim\n",
    "import numpy as np\n",
    "import gym\n",
    "import matplotlib.pyplot as plt\n",
    "import multiprocessing as mp\n",
    "%matplotlib inline\n",
    "\n",
    "env = gym.make('Pendulum-v0')\n",
    "env.seed(1)  # reproducible\n",
    "action_bound = env.action_space.high\n",
    "\n",
    "def weight_variable(shape,train=True):\n",
    "    initial = tf.truncated_normal(shape, stddev=0.3)\n",
    "    return tf.Variable(initial,trainable=train)\n",
    "def bias_variable(shape,train=True):\n",
    "    initial = tf.constant(value=0.1,shape=shape)\n",
    "    return tf.Variable(initial,trainable=train)\n",
    "\n",
    "class agent():\n",
    "    def __init__(self,sess,action_bound,env, action_dim=1, state_dim=3, sigma=0.05,lr=0.0002):\n",
    "        self.state_dim = state_dim\n",
    "        self.action_dim = action_dim\n",
    "        self.state_holder = tf.placeholder(tf.float32,[None,state_dim], name='state')\n",
    "        self.next_state_holder = tf.placeholder(tf.float32,[None,state_dim], name='next_state')\n",
    "        self.reward_holder = tf.placeholder(tf.float32,[None,1], name='reward')\n",
    "        self.action_bound = action_bound\n",
    "        self.sess = sess\n",
    "        self.sigma = sigma\n",
    "        self.lr = lr\n",
    "        self.env = env\n",
    "        \n",
    "    def buildNetwork(self,name='1'):\n",
    "        with tf.variable_scope('network'+str(name)):\n",
    "            w1 = weight_variable([self.state_dim, 30])\n",
    "            w2 = weight_variable([30,1])\n",
    "            b1 = bias_variable([30])\n",
    "            b2 = bias_variable([1])\n",
    "        self.p_params = tf.get_collection(tf.GraphKeys.GLOBAL_VARIABLES, scope='network'+str(name))\n",
    "        h1 = tf.nn.elu(tf.matmul(self.state_holder,w1)+b1)\n",
    "        self.action_output = tf.multiply(tf.nn.tanh(tf.matmul(h1,w2)+b2),self.action_bound)\n",
    "        \n",
    "        self.params_size =  tf.reduce_sum([tf.reduce_prod(v.shape) for v in self.p_params])\n",
    "    def pertubaAction(self,epsilon,state,isPer=True):\n",
    "        if isPer:\n",
    "            self.sess.run([tf.assign(tar,  eva+epsilon*self.sigma) for tar, eva in zip(self.p_params, self.p_params)])\n",
    "        return self.sess.run(self.action_output, feed_dict={self.state_holder:state})\n",
    "    \n",
    "    def train(self,F_arr,epsilon_arr):\n",
    "        adj = sum(F_arr*epsilon_arr)\n",
    "        adj = adj/(F_arr.shape[0]*self.sigma)\n",
    "        self.sess.run([tf.assign(tar,  eva+adj*self.lr) for tar, eva in zip(self.p_params, self.p_params)])\n",
    "        \n",
    "    def sign(self,k_id): return -1. if k_id % 2 == 0 else 1.\n",
    "    \n",
    "    def play(self,max_steps_in_episode,k_id):\n",
    "        s = self.env.reset()\n",
    "        flag=True\n",
    "        j=0\n",
    "        F = 0.\n",
    "        e = sign(k_id)* np.random.randn(1)\n",
    "        while j<max_steps_in_episode:     \n",
    "            a = self.pertubaAction(epsilon=e,state=[s],isPer=flag)\n",
    "            flag=False\n",
    "            s_next, r, d, _ = self.env.step(a[0])\n",
    "            j+=1\n",
    "            F+=r\n",
    "            s=s_next\n",
    "        print(F)\n",
    "        return F,e\n",
    "    \n",
    "    def multiplay(self,max_steps_in_episode):\n",
    "        jobs = [pool.apply_async(self.play, (max_steps_in_episode,k_id )) for k_id in range(kid_num*2)]\n",
    "        rewards = np.array([j.get() for j in jobs])\n",
    "    \n",
    "        results = [job.get() for job in jobs]\n",
    "\n",
    "        print(results)\n",
    "\n",
    "tf.reset_default_graph()\n",
    "sess_ = tf.Session()\n",
    "model = agent(sess=sess_,action_bound=action_bound,env=env )\n",
    "\n",
    "model.buildNetwork()\n",
    "param_size=(sess_.run(model.params_size))\n",
    "init_op = tf.group(tf.global_variables_initializer(), tf.local_variables_initializer())\n",
    "sess_.run(init_op)\n",
    "\n",
    "records = 0\n",
    "reward_set=[]\n",
    "q_loss_set=[]\n",
    "flag=0\n",
    "max_steps_in_episode = 300\n",
    "asets=[]\n",
    "\n",
    "F_list=[]\n",
    "epsilon_list=[]\n",
    "num_episodes = 3000\n",
    "\n",
    "kid_num = 10\n",
    "\n",
    "pool = mp.Pool(processes=2)\n",
    "for i in range(num_episodes):\n",
    "    print('episode: %d'%i)\n",
    "    F_list,epsilon_list=model.multiplay(max_steps_in_episode)\n",
    "    model.train(F_arr=np.array(F_list).reshape(-1),epsilon_arr=np.array(epsilon_list).reshape(-1))\n",
    "    "
   ]
  },
  {
   "cell_type": "code",
   "execution_count": null,
   "metadata": {},
   "outputs": [],
   "source": [
    "# test\n",
    "for i in range(num_episodes):\n",
    "    rewards=0\n",
    "    s = env.reset()\n",
    "    j = 0\n",
    "    aset=[]\n",
    "\n",
    "    while j<max_steps_in_episode:     \n",
    "        a_output = model.pertubaAction(epsilon=e,state=[s],isPer=False)\n",
    "\n",
    "        a = a_output[0]\n",
    "        aset.append(a)\n",
    "        s_next, r, d, _ = env.step(a)\n",
    "          \n",
    "        j+=1\n",
    "        records+=1\n",
    "        rewards+=r\n",
    "        F+=r/10\n",
    "        if d==True:\n",
    "            break\n",
    "            \n",
    "        s = s_next                  \n",
    "    asets.append(aset)   \n",
    "    \n",
    "    \n",
    "    reward_set.append(rewards)\n"
   ]
  },
  {
   "cell_type": "code",
   "execution_count": 22,
   "metadata": {},
   "outputs": [
    {
     "data": {
      "image/png": "[encoded data removed]",
      "text/plain": [
       "<Figure size 432x288 with 1 Axes>"
      ]
     },
     "metadata": {
      "needs_background": "light"
     },
     "output_type": "display_data"
    }
   ],
   "source": [
    "\n",
    "plt.xlabel('training episode')\n",
    "plt.ylabel('cumulative reward')\n",
    "plt.plot(reward_set)\n",
    "plt.show()"
   ]
  },
  {
   "cell_type": "code",
   "execution_count": null,
   "metadata": {},
   "outputs": [],
   "source": [
    "import os\n",
    "from multiprocessing import Pool\n",
    "\n",
    "import dill\n",
    "\n",
    "\n",
    "def run_dill_encoded(payload):\n",
    "    fun, args = dill.loads(payload)\n",
    "    return fun(*args)\n",
    "\n",
    "\n",
    "def apply_async(pool, fun, args):\n",
    "    payload = dill.dumps((fun, args))\n",
    "    return pool.apply_async(run_dill_encoded, (payload,))\n",
    "\n",
    "\n",
    "if __name__ == \"__main__\":\n",
    "\n",
    "    pool = Pool(processes=5)\n",
    "\n",
    "    # asyn execution of lambda\n",
    "    jobs = []\n",
    "    for i in range(10):\n",
    "        job = apply_async(pool, lambda a, b: (a, b, a * b), (i, i + 1))\n",
    "        jobs.append(job)\n",
    "\n",
    "    for job in jobs:\n",
    "        print (job.get())\n",
    "    print\n",
    "\n",
    "    # async execution of static method\n",
    "\n",
    "    class O(object):\n",
    "\n",
    "        @staticmethod\n",
    "        def calc():\n",
    "            return os.getpid()\n",
    "\n",
    "    jobs = []\n",
    "    for i in range(10):\n",
    "        job = apply_async(pool, O.calc, ())\n",
    "        jobs.append(job)\n",
    "\n",
    "    for job in jobs:\n",
    "        print (job.get())"
   ]
  },
  {
   "cell_type": "markdown",
   "metadata": {},
   "source": [
    "### Utilize Importance Sampling"
   ]
  },
  {
   "cell_type": "markdown",
   "metadata": {},
   "source": [
    "$E_{\\epsilon}\\epsilon f(\\theta + \\epsilon)$中，$\\epsilon$可以通过重要性采样获得"
   ]
  },
  {
   "cell_type": "markdown",
   "metadata": {},
   "source": [
    "### 参考资料"
   ]
  },
  {
   "cell_type": "markdown",
   "metadata": {},
   "source": [
    "[1][Evolution Strategies as a Scalable Alternative to Reinforcement Learning](https://openai.com/blog/evolution-strategies/)\n",
    "\n",
    "[2][莫烦tutorial之Evolution Strategy 强化学习](https://morvanzhou.github.io/tutorials/machine-learning/evolutionary-algorithm/4-04-evolution-strategy-reinforcement-learning/)\n",
    "\n",
    "[3][A Visual Guide to Evolution Strategies](http://blog.otoro.net/2017/10/29/visual-evolution-strategies/)\n",
    "\n",
    "[4][Evolutionary Optimization as a Variational Method](https://davidbarber.github.io/blog/2017/04/03/variational-optimisation/?source=post_page)\n",
    "\n",
    "[5][Evolution Strategies:Almost Embarrasingly Parallel Optimization](https://www.inference.vc/evolutionary-strategies-embarrassingly-parallelizable-optimization/)"
   ]
  },
  {
   "cell_type": "markdown",
   "metadata": {},
   "source": [
    "# 11 Multi-agent"
   ]
  },
  {
   "cell_type": "code",
   "execution_count": null,
   "metadata": {},
   "outputs": [],
   "source": []
  }
 ],
 "metadata": {
  "kernelspec": {
   "display_name": "Python 3",
   "language": "python",
   "name": "python3"
  },
  "language_info": {
   "codemirror_mode": {
    "name": "ipython",
    "version": 3
   },
   "file_extension": ".py",
   "mimetype": "text/x-python",
   "name": "python",
   "nbconvert_exporter": "python",
   "pygments_lexer": "ipython3",
   "version": "3.5.4"
  }
 },
 "nbformat": 4,
 "nbformat_minor": 2
}
