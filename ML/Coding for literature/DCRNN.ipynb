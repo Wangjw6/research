{
 "cells": [
  {
   "cell_type": "markdown",
   "metadata": {},
   "source": [
    "# [Diffusion Convolutional Recurrent Neural Network: Data-Driven Traffic Forecasting](https://openreview.net/pdf?id=SJiHXGWAZ)\n",
    "\n",
    "##  Tensorflow LSTM cell analysis only, but it is the fundamental part for implementing this literature"
   ]
  },
  {
   "cell_type": "markdown",
   "metadata": {},
   "source": [
    "### 1 [How does lstm work in TensorFlow ?](https://stackoverflow.com/questions/54767816/how-exactly-does-lstmcell-from-tensorflow-operates)"
   ]
  },
  {
   "cell_type": "code",
   "execution_count": 46,
   "metadata": {},
   "outputs": [
    {
     "name": "stdout",
     "output_type": "stream",
     "text": [
      "[[-0.35715187  0.05700316 -0.05667171]]\n",
      "[[-0.91388124  0.00519003 -0.06978402]]\n",
      "[[-9.9000210e-01  3.2266005e-04 -3.6948014e-02]]\n",
      "[[-9.9868983e-01  2.6143445e-05 -1.1944795e-02]]\n",
      "[[-9.9982423e-01  2.1848582e-06 -3.3091246e-03]]\n",
      "[[-9.9997628e-01  1.8182082e-07 -8.7816088e-04]]\n",
      "[[-9.9999690e-01  1.5092073e-08 -2.3409422e-04]]\n",
      "\n",
      "my imp\n",
      "\n",
      "[[-0.3571518   0.05700317 -0.05667171]]\n",
      "[[-0.91388126  0.00519003 -0.06978402]]\n",
      "[[-9.90001924e-01  3.22659963e-04 -3.69480047e-02]]\n",
      "[[-9.98689857e-01  2.61434553e-05 -1.19447827e-02]]\n",
      "[[-9.99824240e-01  2.18485761e-06 -3.30912757e-03]]\n",
      "[[-9.99976270e-01  1.81820672e-07 -8.78160882e-04]]\n",
      "[[-9.99996791e-01  1.50920903e-08 -2.34094276e-04]]\n"
     ]
    }
   ],
   "source": [
    "import numpy as np\n",
    "import tensorflow as tf\n",
    "tf.reset_default_graph()\n",
    "num_units = 2\n",
    "lstm = tf.nn.rnn_cell.LSTMCell(num_units = num_units)\n",
    "batch=1\n",
    "timesteps = 7\n",
    "num_input = 4\n",
    "X = tf.placeholder(\"float\", [batch, timesteps, num_input])\n",
    "x = tf.unstack(X, timesteps, 1) # the same as [tf.reshape(X,(-1,num_input))]\n",
    "outputs, states = tf.contrib.rnn.static_rnn(lstm, x, dtype=tf.float32)\n",
    "sess = tf.Session()\n",
    "init = tf.global_variables_initializer()\n",
    "sess.run(init)\n",
    "x_val = np.reshape(range(28),[batch, timesteps, num_input])\n",
    "res = sess.run(outputs, feed_dict = {X:x_val})\n",
    "for e in res:\n",
    "    print(e)\n",
    "print(\"\\nmy imp\\n\")\n",
    "#my impl\n",
    "def sigmoid(x):\n",
    "    return 1/(1+np.exp(-x))\n",
    "\n",
    "kernel,bias=sess.run([lstm._kernel,lstm._bias]) # LSTM 内部权重矩阵和偏置\n",
    "f_b_=lstm._forget_bias\n",
    "c,h=np.zeros([batch,num_input-1]),np.zeros([batch,num_input-1])\n",
    "for step in range(timesteps):\n",
    "    inpt=np.split(x_val,7,1)[step][0]\n",
    "    lstm_mtrx=np.matmul(np.concatenate([inpt,h],1),kernel)+bias\n",
    "    i,j,f,o=np.split(lstm_mtrx,4,1) # i:upadte j:candidate state f:forget o:output\n",
    "    c=sigmoid(f+f_b_)*c+sigmoid(i)*np.tanh(j)\n",
    "    h=sigmoid(o)*np.tanh(c)\n",
    "    print(h)"
   ]
  },
  {
   "cell_type": "markdown",
   "metadata": {},
   "source": [
    "### 2 What should we accomplish when reproduce lstm cell in person?"
   ]
  },
  {
   "cell_type": "code",
   "execution_count": 79,
   "metadata": {},
   "outputs": [
    {
     "name": "stdout",
     "output_type": "stream",
     "text": [
      "<tf.Variable 'rnn/lstm_cell/kernel:0' shape=(14, 20) dtype=float32_ref>\n",
      "<tf.Variable 'rnn/lstm_cell/bias:0' shape=(20,) dtype=float32_ref>\n"
     ]
    }
   ],
   "source": [
    "tf.reset_default_graph()\n",
    "num_units = 5 # = hidden state size\n",
    "num_input=9\n",
    "lstm = tf.nn.rnn_cell.LSTMCell(num_units = num_units)\n",
    "X = tf.placeholder(\"float\", [batch, timesteps, num_input])\n",
    "x = tf.unstack(X,1) # the same as [tf.reshape(X,(-1,num_input))]\n",
    "outputs, states = tf.contrib.rnn.static_rnn(lstm, x, dtype=tf.float32)\n",
    "sess = tf.Session()\n",
    "init = tf.global_variables_initializer()\n",
    "sess.run(init)\n",
    "print(lstm._kernel) # Wi || Wj || Wf || Wo , their shape are the same: [num_input+num_units,num_units]\n",
    "print(lstm._bias)"
   ]
  },
  {
   "cell_type": "markdown",
   "metadata": {},
   "source": [
    "The lstm cell is defining instance with needed parameter in LSTM, in which one step state transition will be calculated."
   ]
  },
  {
   "cell_type": "markdown",
   "metadata": {},
   "source": [
    "[source code for DCRNN](https://github.com/liyaguang/DCRNN/blob/master/model/dcrnn_model.py)"
   ]
  }
 ],
 "metadata": {
  "kernelspec": {
   "display_name": "Python 3",
   "language": "python",
   "name": "python3"
  },
  "language_info": {
   "codemirror_mode": {
    "name": "ipython",
    "version": 3
   },
   "file_extension": ".py",
   "mimetype": "text/x-python",
   "name": "python",
   "nbconvert_exporter": "python",
   "pygments_lexer": "ipython3",
   "version": "3.5.4"
  }
 },
 "nbformat": 4,
 "nbformat_minor": 2
}
