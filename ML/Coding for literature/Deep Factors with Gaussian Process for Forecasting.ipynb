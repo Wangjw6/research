{
 "cells": [
  {
   "cell_type": "markdown",
   "metadata": {},
   "source": [
    "# [Deep Factors with Gaussian Process for Forecasting](https://arxiv.org/pdf/1812.00098.pdf)"
   ]
  },
  {
   "cell_type": "markdown",
   "metadata": {},
   "source": [
    "## 1 Gaussian process in TensorFlow"
   ]
  },
  {
   "cell_type": "code",
   "execution_count": 1,
   "metadata": {},
   "outputs": [],
   "source": [
    "import tensorflow as tf\n",
    "import numpy as np\n",
    "import matplotlib.pyplot as plt\n",
    "%matplotlib inline\n",
    "\n",
    "input_dim = 1\n",
    "\n",
    "train_input_holder = tf.placeholder(tf.float32, [None,input_dim],name='train_inpput')\n",
    "train_output_holder = tf.placeholder(tf.float32, [None,1],name='train_output')\n",
    "test_input_holder = tf.placeholder(tf.float32, [None,input_dim],name='test_inpput')\n",
    "\n",
    "kernel_parameter = 0.1\n",
    "# kernel for train data\n",
    "tile_1_train = tf.tile(tf.expand_dims(train_input_holder, 0), [tf.shape(train_input_holder)[0], 1, 1])\n",
    "tile_2_train = tf.tile(tf.expand_dims(train_input_holder, 1), [1, tf.shape(train_input_holder)[0], 1])\n",
    "dist_train = tf.reduce_sum(tf.square(tf.subtract(tile_1_train, tile_2_train)), 2)\n",
    "\n",
    "Kernel_train = tf.exp(-0.5*dist_train*1/kernel_parameter)\n",
    "\n",
    "# kernel for test data\n",
    "tile_1_test = tf.tile(tf.expand_dims(test_input_holder, 0), [tf.shape(test_input_holder)[0], 1, 1])\n",
    "tile_2_test = tf.tile(tf.expand_dims(test_input_holder, 1), [1, tf.shape(test_input_holder)[0], 1])\n",
    "dist_test = tf.reduce_sum(tf.square(tf.subtract(tile_1_test, tile_2_test)), 2)\n",
    "\n",
    "Kernel_test = tf.exp(-0.5*dist_test*1/kernel_parameter)\n",
    "\n",
    "# kernel for test-train\n",
    "tile_train = tf.tile(tf.expand_dims(train_input_holder, 0), [tf.shape(test_input_holder)[0], 1, 1])\n",
    "tile_test = tf.tile(tf.expand_dims(test_input_holder, 1), [1, tf.shape(train_input_holder)[0], 1])\n",
    "dist_tt = tf.reduce_sum(tf.square(tf.subtract(tile_train, tile_test)), 2)\n",
    "\n",
    "Kernel_tt = tf.exp(-0.5*dist_tt*1/kernel_parameter)\n",
    "\n",
    "mu = tf.matmul(tf.matmul((Kernel_tt),tf.linalg.inv(Kernel_train)),train_output_holder)\n",
    "var = Kernel_test-tf.matmul(tf.matmul(Kernel_tt,tf.linalg.inv(Kernel_train)),tf.transpose(Kernel_tt))\n",
    "\n",
    "sess = tf.Session()\n",
    "Xtrain = np.array([-4, -3, -2, -1, 1,2,3]).reshape(7,1)\n",
    "Ytrain = np.sin(Xtrain)*2.\n",
    "n = 50\n",
    "Xtest = np.linspace(-5, 5, n).reshape(-1,1)\n",
    "mu_,var_=sess.run([mu,var],feed_dict={train_input_holder:Xtrain,train_output_holder:Ytrain,test_input_holder:Xtest})"
   ]
  },
  {
   "cell_type": "code",
   "execution_count": null,
   "metadata": {},
   "outputs": [],
   "source": [
    "import tensorflow as tf\n",
    "import numpy as np\n",
    "import matplotlib.pyplot as plt\n",
    "%matplotlib inline\n",
    "\n",
    "input_dim = 1\n",
    "\n",
    "train_input_holder = tf.placeholder(tf.float32, [None,input_dim],name='train_inpput')\n",
    "train_output_holder = tf.placeholder(tf.float32, [None,1],name='train_output')\n",
    "test_input_holder = tf.placeholder(tf.float32, [None,input_dim],name='test_inpput')\n",
    "\n",
    "kernel_parameter = 0.1\n",
    "# kernel for train data\n",
    "tile_1_train = tf.tile(tf.expand_dims(train_input_holder, 0), [tf.shape(train_input_holder)[0], 1, 1])\n",
    "tile_2_train = tf.tile(tf.expand_dims(train_input_holder, 1), [1, tf.shape(train_input_holder)[0], 1])\n",
    "dist_train = tf.reduce_sum(tf.square(tf.subtract(tile_1_train, tile_2_train)), 2)\n",
    "\n",
    "Kernel_train = tf.exp(-0.5*dist_train*1/kernel_parameter)\n",
    "\n",
    "# kernel for test data\n",
    "tile_1_test = tf.tile(tf.expand_dims(test_input_holder, 0), [tf.shape(test_input_holder)[0], 1, 1])\n",
    "tile_2_test = tf.tile(tf.expand_dims(test_input_holder, 1), [1, tf.shape(test_input_holder)[0], 1])\n",
    "dist_test = tf.reduce_sum(tf.square(tf.subtract(tile_1_test, tile_2_test)), 2)\n",
    "\n",
    "Kernel_test = tf.exp(-0.5*dist_test*1/kernel_parameter)\n",
    "\n",
    "# kernel for test-train\n",
    "tile_train = tf.tile(tf.expand_dims(train_input_holder, 0), [tf.shape(test_input_holder)[0], 1, 1])\n",
    "tile_test = tf.tile(tf.expand_dims(test_input_holder, 1), [1, tf.shape(train_input_holder)[0], 1])\n",
    "dist_tt = tf.reduce_sum(tf.square(tf.subtract(tile_train, tile_test)), 2)\n",
    "\n",
    "Kernel_tt = tf.exp(-0.5*dist_tt*1/kernel_parameter)\n",
    "\n",
    "mu = tf.matmul(tf.matmul((Kernel_tt),tf.linalg.inv(Kernel_train)),train_output_holder)\n",
    "var = Kernel_test-tf.matmul(tf.matmul(Kernel_tt,tf.linalg.inv(Kernel_train)),tf.transpose(Kernel_tt))\n",
    "\n",
    "sess = tf.Session()\n",
    "Xtrain = np.array([-4, -3, -2, -1, 1,2,3]).reshape(7,1)\n",
    "Ytrain = np.sin(Xtrain)*2.\n",
    "n = 50\n",
    "Xtest = np.linspace(-5, 5, n).reshape(-1,1)\n",
    "mu_,var_=sess.run([mu,var],feed_dict={train_input_holder:Xtrain,train_output_holder:Ytrain,test_input_holder:Xtest})"
   ]
  },
  {
   "cell_type": "code",
   "execution_count": 60,
   "metadata": {},
   "outputs": [
    {
     "data": {
      "image/png": "[encoded data removed]",
      "text/plain": [
       "<Figure size 432x288 with 1 Axes>"
      ]
     },
     "metadata": {
      "needs_background": "light"
     },
     "output_type": "display_data"
    }
   ],
   "source": [
    "plt.plot(Xtrain, Ytrain, 'bs', ms=8)\n",
    "stdv = np.sqrt(np.array(var_).diagonal())\n",
    "mu_ = mu_.reshape(-1)\n",
    "plt.gca().fill_between(Xtest.flat, mu_-2*stdv, mu_+2*stdv, color=\"#dddddd\")\n",
    "plt.plot(Xtest, mu_, 'r--', lw=2)\n",
    "plt.axis([-5, 5, -3, 3])\n",
    "plt.title('GP predict sin')\n",
    "plt.show()"
   ]
  },
  {
   "cell_type": "markdown",
   "metadata": {},
   "source": [
    "## 2 Method implementation"
   ]
  },
  {
   "cell_type": "code",
   "execution_count": 1,
   "metadata": {},
   "outputs": [
    {
     "name": "stderr",
     "output_type": "stream",
     "text": [
      "Using numpy backend.\n"
     ]
    },
    {
     "name": "stdout",
     "output_type": "stream",
     "text": [
      "(214, 61, 144)\n",
      "(214, 8784)\n"
     ]
    }
   ],
   "source": [
    "import numpy as np\n",
    "import tensorflow as tf\n",
    "import scipy.io\n",
    "import tensorly as ts\n",
    "import os\n",
    "import matplotlib.pyplot as plt\n",
    "os.chdir(\"G:/jupyter/Guangzhou-data-set\")\n",
    "tensor = scipy.io.loadmat('tensor.mat')\n",
    "tensor = tensor['tensor']\n",
    "tensor = np.array(tensor)\n",
    "print(tensor.shape)\n",
    "tensor = tensor.reshape(214,-1)\n",
    "print(tensor.shape)\n",
    "\n",
    "def weight_variable(shape,train=True):\n",
    "    initial = tf.truncated_normal(shape, stddev=0.1)\n",
    "    return tf.Variable(initial,trainable=train)\n",
    "def bias_variable(shape,train=True):\n",
    "    initial = tf.truncated_normal(shape, stddev=0.1)\n",
    "    return tf.Variable(initial,trainable=train)"
   ]
  },
  {
   "cell_type": "markdown",
   "metadata": {},
   "source": [
    "### 2.1 Single road segment test"
   ]
  },
  {
   "cell_type": "code",
   "execution_count": 57,
   "metadata": {},
   "outputs": [],
   "source": [
    "# global effect\n",
    "class rnn_global():\n",
    "    def __init__(self,input_len=6):\n",
    "        self.input_len = input_len\n",
    "        self.input_holder = tf.placeholder(tf.float32, [None,input_len])\n",
    "    \n",
    "    def build_network(self,h_size=12,out_size=12):\n",
    "        state_input = tf.reshape(self.input_holder, (-1,self.input_len,1))\n",
    "        cell = tf.contrib.rnn.BasicLSTMCell(num_units=h_size,state_is_tuple=True)\n",
    "        hidden_state=cell.zero_state(1 , tf.float32) \n",
    "        rnn,rnn_state = tf.nn.dynamic_rnn(\\\n",
    "                inputs=state_input,cell=cell,dtype=tf.float32,initial_state=hidden_state)\n",
    "\n",
    "        w1 = weight_variable([h_size,out_size])\n",
    "        b1 = bias_variable([out_size])\n",
    "        rnn = tf.reshape(rnn,shape=[-1,h_size])\n",
    "        global_pred = tf.nn.tanh(tf.matmul(rnn,w1)+b1)\n",
    "        global_pred = tf.reshape(global_pred,(-1,self.input_len*out_size))\n",
    "        \n",
    "        return global_pred\n",
    "    \n",
    "# characterization of each time series\n",
    "class model_t():\n",
    "    def __init__(self,  input_len=6):\n",
    "        self.train_input_holder = tf.placeholder(tf.float32, [None,input_len],name='train_inpput')\n",
    "        self.train_output_holder = tf.placeholder(tf.float32, [None,input_len],name='train_output')\n",
    "        self.input_len = input_len\n",
    "        self.batch_size = tf.placeholder(tf.int32)\n",
    " \n",
    "        \n",
    "    def gp_random_effect(self,):\n",
    "        kernel_parameter = weight_variable([1])\n",
    "        self.w_sigma = weight_variable([self.input_len,self.input_len])\n",
    "        \n",
    "        # kernel for train data\n",
    "\n",
    "        tile_1_train = tf.tile(tf.expand_dims(self.train_input_holder , 0), [tf.shape(self.train_input_holder)[0], 1, 1])\n",
    "        tile_2_train = tf.tile(tf.expand_dims(self.train_input_holder , 1), [1, tf.shape(self.train_input_holder)[0], 1])\n",
    "        dist_train = tf.reduce_sum(tf.square(tf.subtract(tile_1_train, tile_2_train)), 2)\n",
    "\n",
    "        self.Kernel = tf.exp(-0.5*dist_train*1/kernel_parameter)\n",
    "\n",
    "        # sample local fluctuation\n",
    "        mask = tf.eye(self.input_len)\n",
    "        self.w_sigma =  tf.multiply(self.w_sigma,mask)\n",
    "        self.r = tf.matmul(self.Kernel,self.w_sigma) # r~GP(0,sigma^2) ==>r = 0+sigma*randn\n",
    "\n",
    "            \n",
    "        return self.r,self.Kernel\n",
    "    \n",
    "    def global_pattern_atn(self, latent, out_size=12):\n",
    "        w1 = weight_variable([out_size*self.input_len,self.input_len])\n",
    "        self.f = tf.identity(tf.matmul(latent,w1))\n",
    "        return self.f\n",
    "    \n",
    "    def pred(self,):\n",
    "        self.sigma = self.Kernel + self.w_sigma**2\n",
    "        self.normal_dist = tf.distributions.Normal(self.f, tf.sqrt(self.sigma))\n",
    "        self.prediction = self.f\n",
    "        self.prob = (self.normal_dist.prob(self.train_output_holder))\n",
    "        self.loss = tf.reduce_sum(self.normal_dist.log_prob(self.train_output_holder))\n",
    "        self.mse = tf.reduce_sum(tf.squared_difference(self.prediction,self.train_output_holder))\n",
    "        return self.loss\n",
    "\n",
    "\n",
    "tf.reset_default_graph()\n",
    "sess = tf.Session()\n",
    "# train procedure\n",
    "global_model = rnn_global(input_len=100)\n",
    "g = global_model.build_network()\n",
    "\n",
    "characters=[]\n",
    "network_size=1\n",
    "for i in range(network_size):\n",
    "    characters = model_t(input_len=100)\n",
    "    r,K = characters.gp_random_effect()\n",
    "    g_ = characters.global_pattern_atn(g)\n",
    "    loss_ = characters.pred()\n",
    "\n",
    "train_Op = tf.train.AdadeltaOptimizer(learning_rate=-0.05).minimize(loss_)"
   ]
  },
  {
   "cell_type": "code",
   "execution_count": 58,
   "metadata": {
    "scrolled": true
   },
   "outputs": [
    {
     "name": "stdout",
     "output_type": "stream",
     "text": [
      "mle loss: -7.69264e+06 mse:153683\n",
      "mle loss: -7.51402e+06 mse:150110\n",
      "mle loss: -6.59968e+06 mse:131823\n",
      "mle loss: -334622 mse:6509.3\n",
      "mle loss: -12735.1 mse:70.9116\n",
      "mle loss: -9219.51 mse:0.592559\n",
      "mle loss: -9190.03 mse:0.00189806\n",
      "mle loss: -9192.55 mse:0.0536805\n"
     ]
    }
   ],
   "source": [
    "sess.run(tf.global_variables_initializer())\n",
    "max_episode = 800\n",
    "for i in range(max_episode):\n",
    "    l,lh,mse, _=sess.run([loss_,characters.prob,characters.mse,train_Op], feed_dict={global_model.input_holder:[tensor[0,0:100]], \n",
    "                                              characters.train_input_holder: [tensor[0,0:100]],\n",
    "                                              characters.train_output_holder:[tensor[0,1:101]]})\n",
    "    if i%100==0:\n",
    "        print('mle loss: %g mse:%g'%(l,mse))"
   ]
  },
  {
   "cell_type": "markdown",
   "metadata": {},
   "source": [
    "### 2.2 Network test"
   ]
  },
  {
   "cell_type": "code",
   "execution_count": 72,
   "metadata": {},
   "outputs": [],
   "source": [
    "# global effect\n",
    "class rnn_global():\n",
    "    def __init__(self,input_len=6):\n",
    "        self.input_len = input_len\n",
    "        self.input_holder = tf.placeholder(tf.float32, [None,input_len])\n",
    "    \n",
    "    def build_network(self,h_size=12,out_size=12):\n",
    "        state_input = tf.reshape(self.input_holder, (-1,self.input_len,1))\n",
    "        cell = tf.contrib.rnn.BasicLSTMCell(num_units=h_size,state_is_tuple=True)\n",
    "        hidden_state=cell.zero_state(214 , tf.float32) \n",
    "        rnn,rnn_state = tf.nn.dynamic_rnn(\\\n",
    "                inputs=state_input,cell=cell,dtype=tf.float32,initial_state=hidden_state)\n",
    "\n",
    "        w1 = weight_variable([h_size,out_size])\n",
    "        b1 = bias_variable([out_size])\n",
    "        rnn = tf.reshape(rnn,shape=[-1,h_size])\n",
    "        global_pred = tf.nn.tanh(tf.matmul(rnn,w1)+b1)\n",
    "        global_pred = tf.reshape(global_pred,(-1,self.input_len*out_size))\n",
    "        \n",
    "        return global_pred\n",
    "    \n",
    "# characterization of each time series\n",
    "class model_t():\n",
    "    def __init__(self,  input_len=6):\n",
    "        self.train_input_holder = tf.placeholder(tf.float32, [None,input_len],name='train_inpput')\n",
    "        self.train_output_holder = tf.placeholder(tf.float32, [None,input_len],name='train_output')\n",
    "        self.input_len = input_len\n",
    "        self.batch_size = tf.placeholder(tf.int32)\n",
    " \n",
    "        \n",
    "    def gp_random_effect(self,):\n",
    "        kernel_parameter = weight_variable([1])\n",
    "        self.w_sigma = weight_variable([self.input_len,self.input_len])\n",
    "        \n",
    "        # kernel for train data\n",
    "\n",
    "        tile_1_train = tf.tile(tf.expand_dims(self.train_input_holder , 0), [tf.shape(self.train_input_holder)[0], 1, 1])\n",
    "        tile_2_train = tf.tile(tf.expand_dims(self.train_input_holder , 1), [1, tf.shape(self.train_input_holder)[0], 1])\n",
    "        dist_train = tf.reduce_sum(tf.square(tf.subtract(tile_1_train, tile_2_train)), 2)\n",
    "\n",
    "        self.Kernel = tf.exp(-0.5*dist_train*1/kernel_parameter)\n",
    "\n",
    "        # sample local fluctuation\n",
    "        mask = tf.eye(self.input_len)\n",
    "        self.w_sigma =  tf.multiply(self.w_sigma,mask)\n",
    "        self.r = tf.matmul(self.Kernel,self.w_sigma) # r~GP(0,sigma^2) ==>r = 0+sigma*randn\n",
    "\n",
    "            \n",
    "        return self.r,self.Kernel\n",
    "    \n",
    "    def global_pattern_atn(self, latent, out_size=12,index=0):\n",
    "        w1 = weight_variable([out_size*self.input_len,self.input_len])\n",
    "        self.f = tf.identity(tf.matmul([latent[index,:]],w1))\n",
    "        return self.f\n",
    "    \n",
    "    def pred(self,):\n",
    "\n",
    "        self.sigma = self.Kernel + self.w_sigma**2\n",
    "        self.normal_dist = tf.distributions.Normal(self.f, tf.sqrt(self.sigma))\n",
    "        self.prediction = self.f\n",
    "        self.prob = (self.normal_dist.prob(self.train_output_holder))\n",
    "        self.loss = tf.reduce_sum(self.normal_dist.log_prob(self.train_output_holder))\n",
    "        self.mse = tf.reduce_sum(tf.squared_difference(self.prediction,self.train_output_holder))\n",
    "        return self.mse\n",
    "\n",
    "\n",
    "tf.reset_default_graph()\n",
    "sess = tf.Session()\n",
    "# train procedure\n",
    "global_model = rnn_global(input_len=100)\n",
    "g = global_model.build_network()\n",
    "\n",
    "characters=[]\n",
    "network_size=214\n",
    "loss_set=[]\n",
    "characters=[]\n",
    "feed_dict={global_model.input_holder:tensor[:,0:100]}\n",
    "for i in range(network_size):\n",
    "    characters.append(model_t(input_len=100))\n",
    "    r,K = characters[-1].gp_random_effect()\n",
    "    g_ = characters[-1].global_pattern_atn(g)\n",
    "    loss_set.append( characters[-1].pred())\n",
    "    feed_dict.update({characters[i].train_input_holder: [tensor[i,0:100]]})\n",
    "    feed_dict.update({characters[i].train_output_holder:[tensor[i,1:101]]})\n",
    "loss_ = tf.reduce_mean(loss_set)\n",
    "train_Op = tf.train.AdadeltaOptimizer(learning_rate=0.05).minimize(loss_)"
   ]
  },
  {
   "cell_type": "code",
   "execution_count": 74,
   "metadata": {},
   "outputs": [
    {
     "name": "stdout",
     "output_type": "stream",
     "text": [
      "mle loss: 173817 mse:153898\n",
      "mle loss: 141782 mse:122677\n",
      "mle loss: 29160.3 mse:20771.6\n",
      "mle loss: 6346.53 mse:3606.61\n",
      "mle loss: 1400.25 mse:595.254\n",
      "mle loss: 292.183 mse:78.9533\n",
      "mle loss: 51.2483 mse:4.95104\n",
      "mle loss: 6.28934 mse:0.0130209\n",
      "mle loss: 0.408281 mse:1.45665e-08\n"
     ]
    }
   ],
   "source": [
    "sess.run(tf.global_variables_initializer())\n",
    "max_episode = 900\n",
    "for i in range(max_episode):\n",
    "    l,lh,mse, _=sess.run([loss_,characters[0].prob,characters[0].mse,train_Op], feed_dict=feed_dict)\n",
    "    if i%100==0:\n",
    "        print('mle loss: %g mse:%g'%(l,mse))"
   ]
  },
  {
   "cell_type": "code",
   "execution_count": null,
   "metadata": {},
   "outputs": [],
   "source": []
  }
 ],
 "metadata": {
  "kernelspec": {
   "display_name": "Python 3",
   "language": "python",
   "name": "python3"
  },
  "language_info": {
   "codemirror_mode": {
    "name": "ipython",
    "version": 3
   },
   "file_extension": ".py",
   "mimetype": "text/x-python",
   "name": "python",
   "nbconvert_exporter": "python",
   "pygments_lexer": "ipython3",
   "version": "3.5.4"
  }
 },
 "nbformat": 4,
 "nbformat_minor": 2
}
